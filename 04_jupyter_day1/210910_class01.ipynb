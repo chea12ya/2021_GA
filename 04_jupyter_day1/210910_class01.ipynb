{
 "cells": [
  {
   "cell_type": "code",
   "execution_count": 1,
   "id": "587f5b33",
   "metadata": {},
   "outputs": [
    {
     "ename": "SyntaxError",
     "evalue": "invalid syntax (<ipython-input-1-76395390402f>, line 2)",
     "output_type": "error",
     "traceback": [
      "\u001b[1;36m  File \u001b[1;32m\"<ipython-input-1-76395390402f>\"\u001b[1;36m, line \u001b[1;32m2\u001b[0m\n\u001b[1;33m    * shift + enter : 현재 셀을 실행하고 다음 셀로 내려가기\u001b[0m\n\u001b[1;37m                         ^\u001b[0m\n\u001b[1;31mSyntaxError\u001b[0m\u001b[1;31m:\u001b[0m invalid syntax\n"
     ]
    }
   ],
   "source": [
    "# 단축키\n",
    "* shift + enter : 현재 셀을 실행하고 다음 셀로 내려가기\n",
    "* ctrl + enter : 현재 셀을 실행하고 현재 위치 머무르기\n",
    "* esc + x : 셀 삭제\n",
    "* esc + A: 위의 셀 추가\n",
    "* esc + B: 아래 셀 추가\n",
    "* esc + M: 설명\n",
    "* esc + Y: 코드 입력\n",
    "* esc + L: 번호"
   ]
  },
  {
   "cell_type": "code",
   "execution_count": 3,
   "id": "f12324dd",
   "metadata": {},
   "outputs": [
    {
     "ename": "SyntaxError",
     "evalue": "can't use starred expression here (<ipython-input-3-7934a78e3dcf>, line 2)",
     "output_type": "error",
     "traceback": [
      "\u001b[1;36m  File \u001b[1;32m\"<ipython-input-3-7934a78e3dcf>\"\u001b[1;36m, line \u001b[1;32m2\u001b[0m\n\u001b[1;33m    *html\u001b[0m\n\u001b[1;37m    ^\u001b[0m\n\u001b[1;31mSyntaxError\u001b[0m\u001b[1;31m:\u001b[0m can't use starred expression here\n"
     ]
    }
   ],
   "source": [
    "# Beautiful Soup\n",
    "*html\n",
    "*html5lib\n",
    "*html.parser"
   ]
  },
  {
   "cell_type": "code",
   "execution_count": 4,
   "id": "75e08fde",
   "metadata": {},
   "outputs": [
    {
     "ename": "NameError",
     "evalue": "name 'soup' is not defined",
     "output_type": "error",
     "traceback": [
      "\u001b[1;31m---------------------------------------------------------------------------\u001b[0m",
      "\u001b[1;31mNameError\u001b[0m                                 Traceback (most recent call last)",
      "\u001b[1;32m<ipython-input-4-9b3bc374a462>\u001b[0m in \u001b[0;36m<module>\u001b[1;34m\u001b[0m\n\u001b[0;32m      1\u001b[0m \u001b[1;31m# 하나의 요소, 여러 개의 요소 가져오기\u001b[0m\u001b[1;33m\u001b[0m\u001b[1;33m\u001b[0m\u001b[1;33m\u001b[0m\u001b[0m\n\u001b[1;32m----> 2\u001b[1;33m \u001b[1;33m*\u001b[0m\u001b[0msoup\u001b[0m\u001b[1;33m.\u001b[0m\u001b[0mfind\u001b[0m\u001b[1;33m(\u001b[0m\u001b[1;33m)\u001b[0m\u001b[1;33m,\u001b[0m \u001b[0msoup\u001b[0m\u001b[1;33m.\u001b[0m\u001b[0mfind_all\u001b[0m\u001b[1;33m(\u001b[0m\u001b[1;33m)\u001b[0m\u001b[1;33m\u001b[0m\u001b[1;33m\u001b[0m\u001b[0m\n\u001b[0m",
      "\u001b[1;31mNameError\u001b[0m: name 'soup' is not defined"
     ]
    }
   ],
   "source": [
    "# 하나의 요소, 여러 개의 요소 가져오기\n",
    "*soup.find(), soup.find_all()"
   ]
  },
  {
   "cell_type": "code",
   "execution_count": 5,
   "id": "d35775d2",
   "metadata": {},
   "outputs": [
    {
     "data": {
      "text/plain": [
       "<html>\n",
       "<head><title>나의 홈페이지</title>\n",
       "</head><body>\n",
       "안녕하세요\n",
       "<div>\n",
       "<a class=\"url\" href=\"https://www.naver.com/\">naver</a>\n",
       "<a class=\"url\" href=\"https://www.google.com/\">google</a>\n",
       "<p> 내가 가장 좋아하는 동물은 강아지입니다.</p>\n",
       "<p> 나는 그리고 네이버 홈페이지에 자주 갑니다.</p>\n",
       "<p class=\"p3\"> 강아지 사진과 네이버 링크 p3 그룹 1</p>\n",
       "<p class=\"p3\"> 강아지 사진과 네이버 링크 p3 그룹 2</p>\n",
       "<p id=\"p4_only\"> 강아지 사진과 네이버 ID p4 </p>\n",
       "<pre>\n",
       " 내가 가장 좋아하는 동물은 강아지입니다.\n",
       " 나는 그리고 네이버 홈페이지에 자주 갑니다.\n",
       " </pre>\n",
       "</div>\n",
       "<div>\n",
       "<p class=\"p3\"> 강아지 사진과 네이버 링크 p3 그룹 3</p>\n",
       "<p class=\"p3\"> 강아지 사진과 네이버 링크 p3 그룹 4</p>\n",
       "<p id=\"p5_only\"> 강아지 사진과 네이버 ID p4 </p>\n",
       "</div>\n",
       "</body>\n",
       "</html>"
      ]
     },
     "execution_count": 5,
     "metadata": {},
     "output_type": "execute_result"
    }
   ],
   "source": [
    "from bs4 import BeautifulSoup\n",
    "\n",
    "html = '''\n",
    "<html>\n",
    "<head><title>나의 홈페이지</title>\n",
    "</head><body>\n",
    "안녕하세요\n",
    "<div>\n",
    "<a class='url' href=\"https://www.naver.com/\">naver</a>\n",
    "<a class='url' href=\"https://www.google.com/\">google</a>\n",
    "<p> 내가 가장 좋아하는 동물은 강아지입니다.</p>\n",
    "<p> 나는 그리고 네이버 홈페이지에 자주 갑니다.</p>\n",
    "<p class=\"p3\"> 강아지 사진과 네이버 링크 p3 그룹 1</p>\n",
    "<p class=\"p3\"> 강아지 사진과 네이버 링크 p3 그룹 2</p>\n",
    "<p id=\"p4_only\"> 강아지 사진과 네이버 ID p4 </p>\n",
    "<pre>\n",
    " 내가 가장 좋아하는 동물은 강아지입니다.\n",
    " 나는 그리고 네이버 홈페이지에 자주 갑니다.\n",
    " </pre>\n",
    "</div>\n",
    "<div>\n",
    "<p class=\"p3\"> 강아지 사진과 네이버 링크 p3 그룹 3</p>\n",
    "<p class=\"p3\"> 강아지 사진과 네이버 링크 p3 그룹 4</p>\n",
    "<p id=\"p5_only\"> 강아지 사진과 네이버 ID p4 </p>\n",
    "</div>\n",
    "</body>\n",
    "</html>\n",
    "'''\n",
    "\n",
    "soup = BeautifulSoup(html, 'lxml')\n",
    "soup"
   ]
  },
  {
   "cell_type": "code",
   "execution_count": 6,
   "id": "db94efb1",
   "metadata": {},
   "outputs": [
    {
     "data": {
      "text/plain": [
       "'https://www.naver.com/'"
      ]
     },
     "execution_count": 6,
     "metadata": {},
     "output_type": "execute_result"
    }
   ],
   "source": [
    "soup.find('a', class_=\"url\")"
   ]
  },
  {
   "cell_type": "code",
   "execution_count": 9,
   "id": "506f6820",
   "metadata": {},
   "outputs": [
    {
     "data": {
      "text/plain": [
       "'https://www.naver.com/'"
      ]
     },
     "execution_count": 9,
     "metadata": {},
     "output_type": "execute_result"
    }
   ],
   "source": [
    "soup.find('a', class_=\"url\")['href']"
   ]
  },
  {
   "cell_type": "code",
   "execution_count": 11,
   "id": "5c24a4fa",
   "metadata": {},
   "outputs": [
    {
     "name": "stdout",
     "output_type": "stream",
     "text": [
      "https://www.naver.com/\n",
      "https://www.google.com/\n"
     ]
    }
   ],
   "source": [
    "a = soup.find_all('a', class_=\"url\")\n",
    "\n",
    "for one in a:\n",
    "    print(one['href'])"
   ]
  },
  {
   "cell_type": "code",
   "execution_count": 14,
   "id": "44afacc2",
   "metadata": {},
   "outputs": [
    {
     "data": {
      "text/plain": [
       "[<p class=\"p3\"> 강아지 사진과 네이버 링크 p3 그룹 3</p>,\n",
       " <p class=\"p3\"> 강아지 사진과 네이버 링크 p3 그룹 4</p>]"
      ]
     },
     "execution_count": 14,
     "metadata": {},
     "output_type": "execute_result"
    }
   ],
   "source": [
    "soup.find_all('p', class_='p3')[2:4]"
   ]
  },
  {
   "cell_type": "code",
   "execution_count": 17,
   "id": "cd377eb6",
   "metadata": {},
   "outputs": [
    {
     "data": {
      "text/plain": [
       "<p> 내가 가장 좋아하는 동물은 강아지입니다.</p>"
      ]
     },
     "execution_count": 17,
     "metadata": {},
     "output_type": "execute_result"
    }
   ],
   "source": [
    "a = list(soup.div.children)[5]\n",
    "a"
   ]
  },
  {
   "cell_type": "code",
   "execution_count": null,
   "id": "7c104c05",
   "metadata": {},
   "outputs": [],
   "source": [
    "html = \"\"\"\n",
    "<html>\n",
    "<head><title> test site </title></head>\n",
    "<p class='class1' align=\"left\">test3</p>\n",
    "<p class='class1'>test2</p>\n",
    "<p id='p1'>오늘의 주가지수 1500</p>\n",
    "<span class='class3'>span tag text</span>\n",
    "<p class='class4'>test3</p>\n",
    "</html>\n",
    "\"\"\""
   ]
  },
  {
   "cell_type": "code",
   "execution_count": 38,
   "id": "794d9113",
   "metadata": {},
   "outputs": [
    {
     "data": {
      "text/plain": [
       "<title>나의 홈페이지</title>"
      ]
     },
     "execution_count": 38,
     "metadata": {},
     "output_type": "execute_result"
    }
   ],
   "source": [
    "soup = BeautifulSoup(html, 'lxml')\n",
    "soup.title"
   ]
  },
  {
   "cell_type": "code",
   "execution_count": 39,
   "id": "694704ec",
   "metadata": {
    "scrolled": true
   },
   "outputs": [
    {
     "ename": "SyntaxError",
     "evalue": "invalid syntax (<ipython-input-39-ad89f89b2073>, line 1)",
     "output_type": "error",
     "traceback": [
      "\u001b[1;36m  File \u001b[1;32m\"<ipython-input-39-ad89f89b2073>\"\u001b[1;36m, line \u001b[1;32m1\u001b[0m\n\u001b[1;33m    from urllib request import urlopen\u001b[0m\n\u001b[1;37m                ^\u001b[0m\n\u001b[1;31mSyntaxError\u001b[0m\u001b[1;31m:\u001b[0m invalid syntax\n"
     ]
    }
   ],
   "source": [
    "from urllib request import urlopen\n",
    "from bs4 import BeaurifulSoup"
   ]
  },
  {
   "cell_type": "code",
   "execution_count": 40,
   "id": "a3c50fb2",
   "metadata": {},
   "outputs": [],
   "source": [
    "# url = 'https://movie.naver.com/movie/point/af/list.nhn?st=mcode&sword=171725&target=after'\n",
    "basic_url = \"https://movie.naver.com/movie/point/af/list.nhn?st=mcode&sword=171725&target=after&page=\"\n",
    "# 2page \n",
    "# 3page"
   ]
  },
  {
   "cell_type": "code",
   "execution_count": 41,
   "id": "9dff8047",
   "metadata": {},
   "outputs": [
    {
     "ename": "NameError",
     "evalue": "name 'urlopen' is not defined",
     "output_type": "error",
     "traceback": [
      "\u001b[1;31m---------------------------------------------------------------------------\u001b[0m",
      "\u001b[1;31mNameError\u001b[0m                                 Traceback (most recent call last)",
      "\u001b[1;32m<ipython-input-41-0ce9e2635989>\u001b[0m in \u001b[0;36m<module>\u001b[1;34m\u001b[0m\n\u001b[0;32m      1\u001b[0m \u001b[0murl1\u001b[0m \u001b[1;33m=\u001b[0m \u001b[1;34m\"https://movie.naver.com/movie/point/af/list.nhn?st=mcode&sword=171725&target=after&page=1\"\u001b[0m\u001b[1;33m\u001b[0m\u001b[1;33m\u001b[0m\u001b[0m\n\u001b[1;32m----> 2\u001b[1;33m \u001b[0mpage\u001b[0m \u001b[1;33m=\u001b[0m \u001b[0murlopen\u001b[0m\u001b[1;33m(\u001b[0m\u001b[0murl1\u001b[0m\u001b[1;33m)\u001b[0m\u001b[1;33m\u001b[0m\u001b[1;33m\u001b[0m\u001b[0m\n\u001b[0m\u001b[0;32m      3\u001b[0m \u001b[0msoup\u001b[0m \u001b[1;33m=\u001b[0m \u001b[0mBeautifulSoup\u001b[0m\u001b[1;33m(\u001b[0m\u001b[0mpage\u001b[0m\u001b[1;33m,\u001b[0m \u001b[1;34m\"html.parser\"\u001b[0m\u001b[1;33m)\u001b[0m\u001b[1;33m\u001b[0m\u001b[1;33m\u001b[0m\u001b[0m\n\u001b[0;32m      4\u001b[0m \u001b[0mcomment_all\u001b[0m \u001b[1;33m=\u001b[0m \u001b[0msoup\u001b[0m\u001b[1;33m.\u001b[0m\u001b[0mfind_all\u001b[0m\u001b[1;33m(\u001b[0m\u001b[1;34m'td'\u001b[0m\u001b[1;33m,\u001b[0m \u001b[0mclass_\u001b[0m\u001b[1;33m=\u001b[0m\u001b[1;34m'title'\u001b[0m\u001b[1;33m)\u001b[0m\u001b[1;33m\u001b[0m\u001b[1;33m\u001b[0m\u001b[0m\n\u001b[0;32m      5\u001b[0m \u001b[0mcomment_all\u001b[0m\u001b[1;33m\u001b[0m\u001b[1;33m\u001b[0m\u001b[0m\n",
      "\u001b[1;31mNameError\u001b[0m: name 'urlopen' is not defined"
     ]
    }
   ],
   "source": [
    "url1 = \"https://movie.naver.com/movie/point/af/list.nhn?st=mcode&sword=171725&target=after&page=1\"\n",
    "page = urlopen(url1)\n",
    "soup = BeautifulSoup(page, \"html.parser\")\n",
    "comment_all = soup.find_all('td', class_='title')\n",
    "comment_all"
   ]
  },
  {
   "cell_type": "code",
   "execution_count": 42,
   "id": "cefb7409",
   "metadata": {},
   "outputs": [
    {
     "ename": "NameError",
     "evalue": "name 'comment_all' is not defined",
     "output_type": "error",
     "traceback": [
      "\u001b[1;31m---------------------------------------------------------------------------\u001b[0m",
      "\u001b[1;31mNameError\u001b[0m                                 Traceback (most recent call last)",
      "\u001b[1;32m<ipython-input-42-50002ff1d6cf>\u001b[0m in \u001b[0;36m<module>\u001b[1;34m\u001b[0m\n\u001b[1;32m----> 1\u001b[1;33m \u001b[0mprint\u001b[0m\u001b[1;33m(\u001b[0m\u001b[0mlen\u001b[0m\u001b[1;33m(\u001b[0m \u001b[0mcomment_all\u001b[0m \u001b[1;33m)\u001b[0m\u001b[1;33m)\u001b[0m\u001b[1;33m\u001b[0m\u001b[1;33m\u001b[0m\u001b[0m\n\u001b[0m",
      "\u001b[1;31mNameError\u001b[0m: name 'comment_all' is not defined"
     ]
    }
   ],
   "source": [
    "print(len( comment_all ))"
   ]
  },
  {
   "cell_type": "code",
   "execution_count": 43,
   "id": "3ce150fb",
   "metadata": {},
   "outputs": [
    {
     "ename": "NameError",
     "evalue": "name 'comment_all' is not defined",
     "output_type": "error",
     "traceback": [
      "\u001b[1;31m---------------------------------------------------------------------------\u001b[0m",
      "\u001b[1;31mNameError\u001b[0m                                 Traceback (most recent call last)",
      "\u001b[1;32m<ipython-input-43-4cfaf88ac6ac>\u001b[0m in \u001b[0;36m<module>\u001b[1;34m\u001b[0m\n\u001b[1;32m----> 1\u001b[1;33m \u001b[0mtemp\u001b[0m \u001b[1;33m=\u001b[0m \u001b[0mlist\u001b[0m\u001b[1;33m(\u001b[0m\u001b[0mcomment_all\u001b[0m\u001b[1;33m[\u001b[0m\u001b[1;36m5\u001b[0m\u001b[1;33m]\u001b[0m\u001b[1;33m.\u001b[0m\u001b[0mchildren\u001b[0m\u001b[1;33m)\u001b[0m\u001b[1;33m\u001b[0m\u001b[1;33m\u001b[0m\u001b[0m\n\u001b[0m\u001b[0;32m      2\u001b[0m \u001b[0mtemp\u001b[0m\u001b[1;33m[\u001b[0m\u001b[1;36m6\u001b[0m\u001b[1;33m]\u001b[0m\u001b[1;33m\u001b[0m\u001b[1;33m\u001b[0m\u001b[0m\n",
      "\u001b[1;31mNameError\u001b[0m: name 'comment_all' is not defined"
     ]
    }
   ],
   "source": [
    "temp = list(comment_all[5].children)\n",
    "temp[6]"
   ]
  },
  {
   "cell_type": "code",
   "execution_count": 44,
   "id": "bc96677e",
   "metadata": {},
   "outputs": [
    {
     "ename": "NameError",
     "evalue": "name 'comment_all' is not defined",
     "output_type": "error",
     "traceback": [
      "\u001b[1;31m---------------------------------------------------------------------------\u001b[0m",
      "\u001b[1;31mNameError\u001b[0m                                 Traceback (most recent call last)",
      "\u001b[1;32m<ipython-input-44-a9f4feb5a4fc>\u001b[0m in \u001b[0;36m<module>\u001b[1;34m\u001b[0m\n\u001b[1;32m----> 1\u001b[1;33m \u001b[0mtemp\u001b[0m \u001b[1;33m=\u001b[0m \u001b[0mlist\u001b[0m\u001b[1;33m(\u001b[0m\u001b[0mcomment_all\u001b[0m\u001b[1;33m[\u001b[0m\u001b[1;36m1\u001b[0m\u001b[1;33m]\u001b[0m\u001b[1;33m.\u001b[0m\u001b[0mchildren\u001b[0m\u001b[1;33m)\u001b[0m\u001b[1;33m\u001b[0m\u001b[1;33m\u001b[0m\u001b[0m\n\u001b[0m\u001b[0;32m      2\u001b[0m \u001b[0mresult\u001b[0m \u001b[1;33m=\u001b[0m \u001b[0mtemp\u001b[0m\u001b[1;33m[\u001b[0m\u001b[1;36m6\u001b[0m\u001b[1;33m]\u001b[0m\u001b[1;33m.\u001b[0m\u001b[0mstrip\u001b[0m\u001b[1;33m(\u001b[0m\u001b[1;33m)\u001b[0m\u001b[1;33m\u001b[0m\u001b[1;33m\u001b[0m\u001b[0m\n\u001b[0;32m      3\u001b[0m \u001b[0mresult\u001b[0m\u001b[1;33m\u001b[0m\u001b[1;33m\u001b[0m\u001b[0m\n",
      "\u001b[1;31mNameError\u001b[0m: name 'comment_all' is not defined"
     ]
    }
   ],
   "source": [
    "temp = list(comment_all[1].children)\n",
    "result = temp[6].strip()\n",
    "result"
   ]
  },
  {
   "cell_type": "code",
   "execution_count": 45,
   "id": "3eb8b55e",
   "metadata": {},
   "outputs": [
    {
     "ename": "NameError",
     "evalue": "name 'comment_all' is not defined",
     "output_type": "error",
     "traceback": [
      "\u001b[1;31m---------------------------------------------------------------------------\u001b[0m",
      "\u001b[1;31mNameError\u001b[0m                                 Traceback (most recent call last)",
      "\u001b[1;32m<ipython-input-45-3f8dd08b7581>\u001b[0m in \u001b[0;36m<module>\u001b[1;34m\u001b[0m\n\u001b[0;32m      1\u001b[0m \u001b[0mcnt\u001b[0m \u001b[1;33m=\u001b[0m \u001b[1;36m0\u001b[0m\u001b[1;33m\u001b[0m\u001b[1;33m\u001b[0m\u001b[0m\n\u001b[0;32m      2\u001b[0m \u001b[0mcomments\u001b[0m \u001b[1;33m=\u001b[0m \u001b[1;33m[\u001b[0m\u001b[1;33m]\u001b[0m\u001b[1;33m\u001b[0m\u001b[1;33m\u001b[0m\u001b[0m\n\u001b[1;32m----> 3\u001b[1;33m \u001b[1;32mfor\u001b[0m \u001b[0mcomment\u001b[0m \u001b[1;32min\u001b[0m \u001b[0mcomment_all\u001b[0m\u001b[1;33m:\u001b[0m\u001b[1;33m\u001b[0m\u001b[1;33m\u001b[0m\u001b[0m\n\u001b[0m\u001b[0;32m      4\u001b[0m     \u001b[0mtemp\u001b[0m\u001b[1;33m=\u001b[0m \u001b[0mlist\u001b[0m\u001b[1;33m(\u001b[0m\u001b[0mcomment\u001b[0m\u001b[1;33m.\u001b[0m\u001b[0mchildren\u001b[0m\u001b[1;33m)\u001b[0m\u001b[1;33m\u001b[0m\u001b[1;33m\u001b[0m\u001b[0m\n\u001b[0;32m      5\u001b[0m     \u001b[1;32mif\u001b[0m \u001b[0mlen\u001b[0m\u001b[1;33m(\u001b[0m\u001b[0mtemp\u001b[0m\u001b[1;33m)\u001b[0m \u001b[1;33m<\u001b[0m \u001b[1;36m5\u001b[0m\u001b[1;33m:\u001b[0m\u001b[1;33m\u001b[0m\u001b[1;33m\u001b[0m\u001b[0m\n",
      "\u001b[1;31mNameError\u001b[0m: name 'comment_all' is not defined"
     ]
    }
   ],
   "source": [
    "cnt = 0\n",
    "comments = []\n",
    "for comment in comment_all:\n",
    "    temp= list(comment.children)\n",
    "    if len(temp) < 5:\n",
    "        cnt= cnt + 1\n",
    "        continue\n",
    "    else:\n",
    "        try:\n",
    "            cnt= cnt + 1\n",
    "            result = temp[6].strip()\n",
    "            comments.append(result)\n",
    "        except:\n",
    "            print(\"error cnt count\", cnt)\n",
    "comments"
   ]
  },
  {
   "cell_type": "code",
   "execution_count": 46,
   "id": "1fbffd39",
   "metadata": {},
   "outputs": [],
   "source": [
    "import pandas as pd"
   ]
  },
  {
   "cell_type": "code",
   "execution_count": 47,
   "id": "c9ea71e4",
   "metadata": {},
   "outputs": [],
   "source": [
    "dict_doc = {\"text\" : comments}\n",
    "doc = pd.DataFrame(dict_doc)\n",
    "doc.to_csv(\"스파이더맨리뷰.csv\", index = False)"
   ]
  },
  {
   "cell_type": "code",
   "execution_count": 52,
   "id": "3ac96e2d",
   "metadata": {},
   "outputs": [],
   "source": [
    "from wordcloud import WordCloud, STOPWORDS\n",
    "\n",
    "import numpy as np\n",
    "from PIL import Image"
   ]
  },
  {
   "cell_type": "code",
   "execution_count": 58,
   "id": "d00415eb",
   "metadata": {},
   "outputs": [],
   "source": [
    "f = open(\"스파이더맨리뷰.csv\", encoding=\"utf-8\")\n",
    "#f = open(\"SpiderMan.txt\", 'r', encoding='utf-8')\n",
    "text = f.read()\n",
    "f.close()"
   ]
  },
  {
   "cell_type": "code",
   "execution_count": 59,
   "id": "7e0270e4",
   "metadata": {},
   "outputs": [
    {
     "data": {
      "text/plain": [
       "'C:\\\\Users\\\\Owner\\\\Documents'"
      ]
     },
     "execution_count": 59,
     "metadata": {},
     "output_type": "execute_result"
    }
   ],
   "source": [
    "import os\n",
    "os.getcwd()"
   ]
  },
  {
   "cell_type": "code",
   "execution_count": 60,
   "id": "b820040a",
   "metadata": {},
   "outputs": [],
   "source": [
    "from matplotlib import rc\n",
    "rc('font', family='NanumGothic')"
   ]
  },
  {
   "cell_type": "code",
   "execution_count": 61,
   "id": "46ceb2cd",
   "metadata": {},
   "outputs": [
    {
     "data": {
      "text/plain": [
       "'text\\n'"
      ]
     },
     "execution_count": 61,
     "metadata": {},
     "output_type": "execute_result"
    }
   ],
   "source": [
    "text"
   ]
  },
  {
   "cell_type": "code",
   "execution_count": 57,
   "id": "8dd57c36",
   "metadata": {},
   "outputs": [
    {
     "data": {
      "text/plain": [
       "(-0.5, 399.5, 199.5, -0.5)"
      ]
     },
     "execution_count": 57,
     "metadata": {},
     "output_type": "execute_result"
    },
    {
     "data": {
      "image/png": "[encoded data removed]",
      "text/plain": [
       "<Figure size 864x864 with 1 Axes>"
      ]
     },
     "metadata": {
      "needs_background": "light"
     },
     "output_type": "display_data"
    }
   ],
   "source": [
    "%matplotlib inline\n",
    "from wordcloud import WordCloud\n",
    "wcloud = WordCloud('./D2Coding.ttf', max_words=1000, relative_scaling = 0.2).generate(text)\n",
    "\n",
    "import matplotlib.pyplot as plt\n",
    "plt.figure(figsize=(12,12))\n",
    "plt.imshow(wcloud, interpolation='bilinear')\n",
    "plt.axis(\"off\")"
   ]
  },
  {
   "cell_type": "code",
   "execution_count": null,
   "id": "647036b3",
   "metadata": {},
   "outputs": [],
   "source": []
  },
  {
   "cell_type": "code",
   "execution_count": null,
   "id": "57ad8157",
   "metadata": {},
   "outputs": [],
   "source": []
  }
 ],
 "metadata": {
  "kernelspec": {
   "display_name": "Python 3",
   "language": "python",
   "name": "python3"
  },
  "language_info": {
   "codemirror_mode": {
    "name": "ipython",
    "version": 3
   },
   "file_extension": ".py",
   "mimetype": "text/x-python",
   "name": "python",
   "nbconvert_exporter": "python",
   "pygments_lexer": "ipython3",
   "version": "3.8.8"
  }
 },
 "nbformat": 4,
 "nbformat_minor": 5
}
