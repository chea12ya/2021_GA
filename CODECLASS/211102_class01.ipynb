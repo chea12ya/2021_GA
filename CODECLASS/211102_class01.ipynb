{
 "cells": [
  {
   "cell_type": "code",
   "execution_count": 22,
   "id": "c738beee",
   "metadata": {},
   "outputs": [],
   "source": [
    "import pandas as pd"
   ]
  },
  {
   "cell_type": "code",
   "execution_count": 23,
   "id": "aba062d1",
   "metadata": {},
   "outputs": [
    {
     "name": "stdout",
     "output_type": "stream",
     "text": [
      "2.6.1\n"
     ]
    }
   ],
   "source": [
    "import tensorflow as tf\n",
    "\n",
    "print(tf.__version__)"
   ]
  },
  {
   "cell_type": "code",
   "execution_count": 24,
   "id": "9e5cb428",
   "metadata": {},
   "outputs": [
    {
     "data": {
      "text/html": [
       "<div>\n",
       "<style scoped>\n",
       "    .dataframe tbody tr th:only-of-type {\n",
       "        vertical-align: middle;\n",
       "    }\n",
       "\n",
       "    .dataframe tbody tr th {\n",
       "        vertical-align: top;\n",
       "    }\n",
       "\n",
       "    .dataframe thead th {\n",
       "        text-align: right;\n",
       "    }\n",
       "</style>\n",
       "<table border=\"1\" class=\"dataframe\">\n",
       "  <thead>\n",
       "    <tr style=\"text-align: right;\">\n",
       "      <th></th>\n",
       "      <th>kor</th>\n",
       "      <th>eng</th>\n",
       "      <th>math</th>\n",
       "    </tr>\n",
       "  </thead>\n",
       "  <tbody>\n",
       "    <tr>\n",
       "      <th>0</th>\n",
       "      <td>50</td>\n",
       "      <td>77</td>\n",
       "      <td>170</td>\n",
       "    </tr>\n",
       "    <tr>\n",
       "      <th>1</th>\n",
       "      <td>70</td>\n",
       "      <td>88</td>\n",
       "      <td>220</td>\n",
       "    </tr>\n",
       "    <tr>\n",
       "      <th>2</th>\n",
       "      <td>80</td>\n",
       "      <td>99</td>\n",
       "      <td>250</td>\n",
       "    </tr>\n",
       "    <tr>\n",
       "      <th>3</th>\n",
       "      <td>90</td>\n",
       "      <td>100</td>\n",
       "      <td>280</td>\n",
       "    </tr>\n",
       "    <tr>\n",
       "      <th>4</th>\n",
       "      <td>100</td>\n",
       "      <td>70</td>\n",
       "      <td>270</td>\n",
       "    </tr>\n",
       "  </tbody>\n",
       "</table>\n",
       "</div>"
      ],
      "text/plain": [
       "   kor  eng  math\n",
       "0   50   77   170\n",
       "1   70   88   220\n",
       "2   80   99   250\n",
       "3   90  100   280\n",
       "4  100   70   270"
      ]
     },
     "execution_count": 24,
     "metadata": {},
     "output_type": "execute_result"
    }
   ],
   "source": [
    "kor = [50,70,80,90,100]\n",
    "eng = [77,88,99,100,70]\n",
    "math = [170,220,250,280,270]\n",
    "\n",
    "dat = pd.DataFrame( {\"kor\":kor, \"eng\":eng, \"math\":math } )\n",
    "dat"
   ]
  },
  {
   "cell_type": "code",
   "execution_count": 25,
   "id": "9ead2a6a",
   "metadata": {},
   "outputs": [
    {
     "data": {
      "text/html": [
       "<div>\n",
       "<style scoped>\n",
       "    .dataframe tbody tr th:only-of-type {\n",
       "        vertical-align: middle;\n",
       "    }\n",
       "\n",
       "    .dataframe tbody tr th {\n",
       "        vertical-align: top;\n",
       "    }\n",
       "\n",
       "    .dataframe thead th {\n",
       "        text-align: right;\n",
       "    }\n",
       "</style>\n",
       "<table border=\"1\" class=\"dataframe\">\n",
       "  <thead>\n",
       "    <tr style=\"text-align: right;\">\n",
       "      <th></th>\n",
       "      <th>kor</th>\n",
       "      <th>eng</th>\n",
       "      <th>math</th>\n",
       "    </tr>\n",
       "  </thead>\n",
       "  <tbody>\n",
       "    <tr>\n",
       "      <th>0</th>\n",
       "      <td>50</td>\n",
       "      <td>70</td>\n",
       "      <td>170</td>\n",
       "    </tr>\n",
       "    <tr>\n",
       "      <th>1</th>\n",
       "      <td>70</td>\n",
       "      <td>80</td>\n",
       "      <td>220</td>\n",
       "    </tr>\n",
       "    <tr>\n",
       "      <th>2</th>\n",
       "      <td>80</td>\n",
       "      <td>90</td>\n",
       "      <td>250</td>\n",
       "    </tr>\n",
       "    <tr>\n",
       "      <th>3</th>\n",
       "      <td>90</td>\n",
       "      <td>100</td>\n",
       "      <td>280</td>\n",
       "    </tr>\n",
       "    <tr>\n",
       "      <th>4</th>\n",
       "      <td>100</td>\n",
       "      <td>70</td>\n",
       "      <td>270</td>\n",
       "    </tr>\n",
       "  </tbody>\n",
       "</table>\n",
       "</div>"
      ],
      "text/plain": [
       "   kor  eng  math\n",
       "0   50   70   170\n",
       "1   70   80   220\n",
       "2   80   90   250\n",
       "3   90  100   280\n",
       "4  100   70   270"
      ]
     },
     "execution_count": 25,
     "metadata": {},
     "output_type": "execute_result"
    }
   ],
   "source": [
    "kor = [50,70,80,90,100]\n",
    "eng = [70,80,90,100,70]\n",
    "math = [170,220,250,280,270]\n",
    "\n",
    "dat = pd.DataFrame( {\"kor\":kor, \"eng\":eng, \"math\":math } )\n",
    "dat"
   ]
  },
  {
   "cell_type": "code",
   "execution_count": 26,
   "id": "e6fb35fd",
   "metadata": {},
   "outputs": [
    {
     "name": "stdout",
     "output_type": "stream",
     "text": [
      "가중치 , y절편 :  [2. 1.] -5.684341886080802e-14\n"
     ]
    }
   ],
   "source": [
    "from sklearn.linear_model import LinearRegression\n",
    "\n",
    "X = dat[ ['kor', 'eng'] ] \n",
    "y = dat[ 'math' ]\n",
    "\n",
    "model = LinearRegression()\n",
    "model.fit(X, y)\n",
    "print(\"가중치 , y절편 : \",  model.coef_, model.intercept_)"
   ]
  },
  {
   "cell_type": "code",
   "execution_count": 27,
   "id": "ec417772",
   "metadata": {},
   "outputs": [],
   "source": [
    "import keras\n",
    "import tensorflow as tf"
   ]
  },
  {
   "cell_type": "code",
   "execution_count": 28,
   "id": "28d0ae02",
   "metadata": {},
   "outputs": [],
   "source": [
    "import numpy as np"
   ]
  },
  {
   "cell_type": "code",
   "execution_count": 29,
   "id": "95bb69a8",
   "metadata": {},
   "outputs": [
    {
     "name": "stdout",
     "output_type": "stream",
     "text": [
      "12\n",
      "0\n",
      "()\n",
      "[10 20 30 40 50]\n",
      "1\n",
      "(5,)\n"
     ]
    }
   ],
   "source": [
    "## 스칼라, 0D텐서\n",
    "x = np.array(12)\n",
    "print(x)\n",
    "print(x.ndim)      # 차원수\n",
    "print(x.shape)     # 행열\n",
    "\n",
    "## 1D텐서\n",
    "x = np.array([10,20,30,40,50])\n",
    "print(x)\n",
    "print(x.ndim)      # 차원수\n",
    "print(x.shape)     # 행열"
   ]
  },
  {
   "cell_type": "code",
   "execution_count": 30,
   "id": "dd7ef4b0",
   "metadata": {},
   "outputs": [
    {
     "name": "stdout",
     "output_type": "stream",
     "text": [
      "[[10 20 30]\n",
      " [11 21 31]\n",
      " [12 22 32]]\n",
      "2\n",
      "(3, 3)\n"
     ]
    }
   ],
   "source": [
    "## 2D텐서\n",
    "x = np.array([ [10,20,30],\n",
    "              [11,21,31],\n",
    "              [12,22,32],\n",
    "             ])\n",
    "print(x)\n",
    "print(x.ndim)      # 차원수\n",
    "print(x.shape)     # 행열\n"
   ]
  },
  {
   "cell_type": "code",
   "execution_count": 31,
   "id": "450a52fe",
   "metadata": {},
   "outputs": [
    {
     "name": "stdout",
     "output_type": "stream",
     "text": [
      "3\n",
      "(3, 3, 3)\n"
     ]
    },
    {
     "data": {
      "text/plain": [
       "array([[[11, 21, 31],\n",
       "        [12, 22, 32],\n",
       "        [13, 23, 33]],\n",
       "\n",
       "       [[11, 21, 31],\n",
       "        [12, 22, 32],\n",
       "        [13, 23, 33]],\n",
       "\n",
       "       [[11, 21, 31],\n",
       "        [12, 22, 32],\n",
       "        [13, 23, 33]]])"
      ]
     },
     "execution_count": 31,
     "metadata": {},
     "output_type": "execute_result"
    }
   ],
   "source": [
    "x = np.array([\n",
    "              [ [11,21,31],\n",
    "               [12,22,32],\n",
    "               [13,23,33] ],\n",
    "              [ [11,21,31],\n",
    "               [12,22,32],\n",
    "               [13,23,33] ],\n",
    "              [ [11,21,31],\n",
    "               [12,22,32],\n",
    "               [13,23,33] ]\n",
    "             ])\n",
    "print(x.ndim)\n",
    "print(x.shape)\n",
    "x"
   ]
  },
  {
   "cell_type": "code",
   "execution_count": 32,
   "id": "2f56f9f0",
   "metadata": {},
   "outputs": [],
   "source": [
    "from keras.datasets import mnist\n",
    "(train_images, train_labels), (test_images, test_labels) = mnist.load_data()"
   ]
  },
  {
   "cell_type": "code",
   "execution_count": 33,
   "id": "b696df13",
   "metadata": {},
   "outputs": [
    {
     "name": "stdout",
     "output_type": "stream",
     "text": [
      "3\n",
      "(60000, 28, 28)\n",
      "uint8\n"
     ]
    }
   ],
   "source": [
    "print(train_images.ndim)\n",
    "print(train_images.shape)\n",
    "print(train_images.dtype)"
   ]
  },
  {
   "cell_type": "code",
   "execution_count": 34,
   "id": "c22a11ed",
   "metadata": {
    "scrolled": true
   },
   "outputs": [
    {
     "data": {
      "image/png": "[encoded data removed]",
      "text/plain": [
       "<Figure size 432x288 with 1 Axes>"
      ]
     },
     "metadata": {
      "needs_background": "light"
     },
     "output_type": "display_data"
    }
   ],
   "source": [
    "import matplotlib.pyplot as plt\n",
    "\n",
    "image = train_images[5]\n",
    "plt.imshow(image, cmap=plt.cm.binary)\n",
    "plt.show()"
   ]
  },
  {
   "cell_type": "code",
   "execution_count": 35,
   "id": "fa8c4381",
   "metadata": {},
   "outputs": [
    {
     "name": "stdout",
     "output_type": "stream",
     "text": [
      "(60000, 14, 14)\n"
     ]
    }
   ],
   "source": [
    "my_slice = train_images[:, 14:, 14:]\n",
    "print(my_slice.shape)"
   ]
  },
  {
   "cell_type": "code",
   "execution_count": 36,
   "id": "cf20a202",
   "metadata": {},
   "outputs": [
    {
     "data": {
      "text/plain": [
       "(60000, 28, 28)"
      ]
     },
     "execution_count": 36,
     "metadata": {},
     "output_type": "execute_result"
    }
   ],
   "source": [
    "train_images.shape"
   ]
  },
  {
   "cell_type": "code",
   "execution_count": 37,
   "id": "b5df9776",
   "metadata": {},
   "outputs": [
    {
     "data": {
      "image/png": "[encoded data removed]",
      "text/plain": [
       "<Figure size 432x288 with 1 Axes>"
      ]
     },
     "metadata": {
      "needs_background": "light"
     },
     "output_type": "display_data"
    }
   ],
   "source": [
    "image = my_slice[5]\n",
    "plt.imshow(image, cmap=plt.cm.binary)\n",
    "plt.show()"
   ]
  },
  {
   "cell_type": "markdown",
   "id": "366e2237",
   "metadata": {},
   "source": [
    "### 딥러닝 구현하기"
   ]
  },
  {
   "cell_type": "markdown",
   "id": "d420cd64",
   "metadata": {},
   "source": [
    "### 자전거 데이터 가져오기"
   ]
  },
  {
   "cell_type": "code",
   "execution_count": 38,
   "id": "a4581da6",
   "metadata": {},
   "outputs": [],
   "source": [
    "import tensorflow as rf\n",
    "import keras\n",
    "\n",
    "import numpy as np\n",
    "import matplotlib.pyplot as plt\n",
    "import matplotlib\n",
    "import pandas as pd"
   ]
  },
  {
   "cell_type": "code",
   "execution_count": 39,
   "id": "b356b08f",
   "metadata": {},
   "outputs": [],
   "source": [
    "## train 데이터 셋 , test 데이터 셋\n",
    "## train 은 학습을 위한 입력 데이터 셋\n",
    "## test 은 예측을 위한 새로운 데이터 셋(평가)\n",
    "## parse_dates : datetime 컬럼을 시간형으로 불러올 수 있음\n",
    "train = pd.read_csv(\"./data/bike_mod_tr.csv\", parse_dates=['datetime'])\n",
    "test = pd.read_csv(\"./data/bike_mod_tr.csv\", parse_dates=['datetime'])"
   ]
  },
  {
   "cell_type": "code",
   "execution_count": 40,
   "id": "505d2ce7",
   "metadata": {},
   "outputs": [],
   "source": [
    "sel = ['hour', 'temp']\n",
    "\n",
    "X = train[sel]\n",
    "y = train['count']\n",
    "\n",
    "X_val = test[sel]"
   ]
  },
  {
   "cell_type": "code",
   "execution_count": 41,
   "id": "7ab05b09",
   "metadata": {},
   "outputs": [],
   "source": [
    "from sklearn.model_selection import train_test_split"
   ]
  },
  {
   "cell_type": "code",
   "execution_count": 42,
   "id": "33544ac2",
   "metadata": {},
   "outputs": [],
   "source": [
    "X_train, X_test, y_train, y_test = train_test_split(X, y, \n",
    "                                                   random_state=0)"
   ]
  },
  {
   "cell_type": "markdown",
   "id": "1decf470",
   "metadata": {},
   "source": [
    "### 딥러닝 모델 만들기"
   ]
  },
  {
   "cell_type": "code",
   "execution_count": 43,
   "id": "8115bc7b",
   "metadata": {},
   "outputs": [],
   "source": [
    "#tensorflow, pytorch, keras()\n",
    "from keras.models import Sequential\n",
    "from keras.layers import Dense"
   ]
  },
  {
   "cell_type": "code",
   "execution_count": 44,
   "id": "1736ddfd",
   "metadata": {},
   "outputs": [],
   "source": [
    "# bikesharing 회귀 모델 1개\n",
    "model = Sequential()\n",
    "model.add( Dense(16, input_dim=2, activation='relu') )\n",
    "model.add(Dense(1))"
   ]
  },
  {
   "cell_type": "code",
   "execution_count": 45,
   "id": "b319e3bd",
   "metadata": {},
   "outputs": [
    {
     "name": "stdout",
     "output_type": "stream",
     "text": [
      "Model: \"sequential_1\"\n",
      "_________________________________________________________________\n",
      "Layer (type)                 Output Shape              Param #   \n",
      "=================================================================\n",
      "dense_2 (Dense)              (None, 16)                48        \n",
      "_________________________________________________________________\n",
      "dense_3 (Dense)              (None, 1)                 17        \n",
      "=================================================================\n",
      "Total params: 65\n",
      "Trainable params: 65\n",
      "Non-trainable params: 0\n",
      "_________________________________________________________________\n"
     ]
    }
   ],
   "source": [
    "model.summary()"
   ]
  },
  {
   "cell_type": "code",
   "execution_count": 46,
   "id": "09a18de3",
   "metadata": {},
   "outputs": [
    {
     "name": "stdout",
     "output_type": "stream",
     "text": [
      "Epoch 1/50\n",
      "817/817 [==============================] - 1s 971us/step - loss: 51027.1172\n",
      "Epoch 2/50\n",
      "817/817 [==============================] - 1s 1ms/step - loss: 25549.4785\n",
      "Epoch 3/50\n",
      "817/817 [==============================] - 1s 1ms/step - loss: 24466.4727\n",
      "Epoch 4/50\n",
      "817/817 [==============================] - 1s 989us/step - loss: 23955.1250\n",
      "Epoch 5/50\n",
      "817/817 [==============================] - 1s 986us/step - loss: 23403.9434\n",
      "Epoch 6/50\n",
      "817/817 [==============================] - 1s 980us/step - loss: 22851.7910\n",
      "Epoch 7/50\n",
      "817/817 [==============================] - 1s 1ms/step - loss: 22308.8750\n",
      "Epoch 8/50\n",
      "817/817 [==============================] - 1s 1ms/step - loss: 21784.7031\n",
      "Epoch 9/50\n",
      "817/817 [==============================] - 1s 1ms/step - loss: 21306.3516\n",
      "Epoch 10/50\n",
      "817/817 [==============================] - 1s 1ms/step - loss: 20880.8496\n",
      "Epoch 11/50\n",
      "817/817 [==============================] - 1s 1ms/step - loss: 20541.8594\n",
      "Epoch 12/50\n",
      "817/817 [==============================] - 1s 1ms/step - loss: 20282.9082\n",
      "Epoch 13/50\n",
      "817/817 [==============================] - 1s 1ms/step - loss: 20070.6953\n",
      "Epoch 14/50\n",
      "817/817 [==============================] - 1s 1ms/step - loss: 19921.1641\n",
      "Epoch 15/50\n",
      "817/817 [==============================] - 1s 1ms/step - loss: 19811.2207\n",
      "Epoch 16/50\n",
      "817/817 [==============================] - 1s 1ms/step - loss: 19737.6895\n",
      "Epoch 17/50\n",
      "817/817 [==============================] - 1s 1ms/step - loss: 19681.7188\n",
      "Epoch 18/50\n",
      "817/817 [==============================] - 1s 1ms/step - loss: 19643.7598\n",
      "Epoch 19/50\n",
      "817/817 [==============================] - 1s 1ms/step - loss: 19607.0605\n",
      "Epoch 20/50\n",
      "817/817 [==============================] - 1s 1ms/step - loss: 19589.8340\n",
      "Epoch 21/50\n",
      "817/817 [==============================] - 1s 1ms/step - loss: 19555.1250\n",
      "Epoch 22/50\n",
      "817/817 [==============================] - 1s 1ms/step - loss: 19551.0410\n",
      "Epoch 23/50\n",
      "817/817 [==============================] - 1s 1ms/step - loss: 19525.0059\n",
      "Epoch 24/50\n",
      "817/817 [==============================] - 1s 1ms/step - loss: 19520.8066\n",
      "Epoch 25/50\n",
      "817/817 [==============================] - 1s 1ms/step - loss: 19497.0000A: 1s -\n",
      "Epoch 26/50\n",
      "817/817 [==============================] - 1s 1ms/step - loss: 19499.7715\n",
      "Epoch 27/50\n",
      "817/817 [==============================] - 1s 1ms/step - loss: 19469.0781\n",
      "Epoch 28/50\n",
      "817/817 [==============================] - 1s 1ms/step - loss: 19483.0547\n",
      "Epoch 29/50\n",
      "817/817 [==============================] - 1s 1ms/step - loss: 19471.3945\n",
      "Epoch 30/50\n",
      "817/817 [==============================] - 1s 1ms/step - loss: 19454.2461\n",
      "Epoch 31/50\n",
      "817/817 [==============================] - 1s 1ms/step - loss: 19442.3906A: 0s - loss: 194\n",
      "Epoch 32/50\n",
      "817/817 [==============================] - 1s 2ms/step - loss: 19428.0293\n",
      "Epoch 33/50\n",
      "817/817 [==============================] - 1s 1ms/step - loss: 19429.5410\n",
      "Epoch 34/50\n",
      "817/817 [==============================] - 1s 1ms/step - loss: 19409.2559\n",
      "Epoch 35/50\n",
      "817/817 [==============================] - 1s 1ms/step - loss: 19401.3984\n",
      "Epoch 36/50\n",
      "817/817 [==============================] - 1s 1ms/step - loss: 19384.7207\n",
      "Epoch 37/50\n",
      "817/817 [==============================] - 1s 1ms/step - loss: 19384.0625\n",
      "Epoch 38/50\n",
      "817/817 [==============================] - 1s 1ms/step - loss: 19370.2656\n",
      "Epoch 39/50\n",
      "817/817 [==============================] - 1s 1ms/step - loss: 19359.9375\n",
      "Epoch 40/50\n",
      "817/817 [==============================] - 1s 1ms/step - loss: 19344.5449\n",
      "Epoch 41/50\n",
      "817/817 [==============================] - 1s 1ms/step - loss: 19337.1445\n",
      "Epoch 42/50\n",
      "817/817 [==============================] - 1s 1ms/step - loss: 19320.1934\n",
      "Epoch 43/50\n",
      "817/817 [==============================] - 1s 1ms/step - loss: 19310.9727\n",
      "Epoch 44/50\n",
      "817/817 [==============================] - 1s 1ms/step - loss: 19302.5117\n",
      "Epoch 45/50\n",
      "817/817 [==============================] - 1s 1ms/step - loss: 19295.6387\n",
      "Epoch 46/50\n",
      "817/817 [==============================] - 1s 1ms/step - loss: 19280.4941\n",
      "Epoch 47/50\n",
      "817/817 [==============================] - 1s 1ms/step - loss: 19268.4453\n",
      "Epoch 48/50\n",
      "817/817 [==============================] - 1s 1ms/step - loss: 19260.0430\n",
      "Epoch 49/50\n",
      "817/817 [==============================] - 1s 1ms/step - loss: 19245.1094\n",
      "Epoch 50/50\n",
      "817/817 [==============================] - 1s 1ms/step - loss: 19215.7539\n"
     ]
    },
    {
     "data": {
      "text/plain": [
       "<keras.callbacks.History at 0x23383c46820>"
      ]
     },
     "execution_count": 46,
     "metadata": {},
     "output_type": "execute_result"
    }
   ],
   "source": [
    "### 모델의 사용하는 지표 등 기준 설정\n",
    "model.compile(loss='mean_squared_error', optimizer='rmsprop')\n",
    "model.fit(X_train, y_train, epochs=50, batch_size=10)"
   ]
  },
  {
   "cell_type": "markdown",
   "id": "7d4c4ddd",
   "metadata": {},
   "source": [
    "### 모델 개선\n",
    "\n",
    "* 1. 변수 추가. 성능 개선 확인\n",
    "* 2. 은닉층 추가\n",
    "* 3. 노드수를 늘릭"
   ]
  },
  {
   "cell_type": "code",
   "execution_count": 47,
   "id": "e4f7c396",
   "metadata": {},
   "outputs": [
    {
     "name": "stdout",
     "output_type": "stream",
     "text": [
      "86/86 [==============================] - 0s 892us/step - loss: 19070.6855\n"
     ]
    },
    {
     "data": {
      "text/plain": [
       "19070.685546875"
      ]
     },
     "execution_count": 47,
     "metadata": {},
     "output_type": "execute_result"
    }
   ],
   "source": [
    "## model.score()\n",
    "model.evaluate(X_test, y_test)"
   ]
  },
  {
   "cell_type": "code",
   "execution_count": 48,
   "id": "487ad1c4",
   "metadata": {},
   "outputs": [
    {
     "data": {
      "text/plain": [
       "array([[-15.66916 ],\n",
       "       [  8.940547],\n",
       "       [ 33.861786],\n",
       "       [ 59.094517],\n",
       "       [ 84.01574 ],\n",
       "       [108.93697 ],\n",
       "       [134.46577 ],\n",
       "       [129.05367 ],\n",
       "       [146.91582 ],\n",
       "       [190.29347 ]], dtype=float32)"
      ]
     },
     "execution_count": 48,
     "metadata": {},
     "output_type": "execute_result"
    }
   ],
   "source": [
    "## 예측하기\n",
    "pred = model.predict(X_val)\n",
    "pred[0:10]"
   ]
  },
  {
   "cell_type": "markdown",
   "id": "2b5af0bd",
   "metadata": {},
   "source": [
    "# 변수 추가"
   ]
  },
  {
   "cell_type": "code",
   "execution_count": 49,
   "id": "b90b2e4f",
   "metadata": {},
   "outputs": [],
   "source": [
    "sel = ['hour', 'temp', 'year', 'dayofweek', 'month', 'humidity', 'weather', 'season']\n",
    "\n",
    "X = train[sel]\n",
    "y = train['count']\n",
    "\n",
    "X_val = test[sel]"
   ]
  },
  {
   "cell_type": "code",
   "execution_count": 50,
   "id": "ec4bc7cd",
   "metadata": {},
   "outputs": [],
   "source": [
    "from sklearn.model_selection import train_test_split"
   ]
  },
  {
   "cell_type": "code",
   "execution_count": 51,
   "id": "39ad132c",
   "metadata": {},
   "outputs": [
    {
     "data": {
      "text/plain": [
       "(       hour   temp\n",
       " 10639    17  14.76\n",
       " 2666      0  28.70\n",
       " 7474     19  22.14\n",
       " 5094      8  18.86\n",
       " 1714      8  15.58\n",
       " ...     ...    ...\n",
       " 4859     13  22.14\n",
       " 3264     22  28.70\n",
       " 9845     14  27.06\n",
       " 10799     9  14.76\n",
       " 2732     18  33.62\n",
       " \n",
       " [8164 rows x 2 columns],\n",
       "       hour   temp\n",
       " 6638    21  23.78\n",
       " 7975    16  27.06\n",
       " 5915    16  18.86\n",
       " 8050    19  28.70\n",
       " 5894    19  22.14\n",
       " ...    ...    ...\n",
       " 6111    21  13.12\n",
       " 1917    19  22.14\n",
       " 5702    18  18.04\n",
       " 4813    15  20.50\n",
       " 5125    15  17.22\n",
       " \n",
       " [2722 rows x 2 columns],\n",
       " 10639    229\n",
       " 2666      89\n",
       " 7474     553\n",
       " 5094     414\n",
       " 1714      43\n",
       "         ... \n",
       " 4859     153\n",
       " 3264     188\n",
       " 9845     617\n",
       " 10799    132\n",
       " 2732     383\n",
       " Name: count, Length: 8164, dtype: int64,\n",
       " 6638    244\n",
       " 7975    239\n",
       " 5915    229\n",
       " 8050    467\n",
       " 5894    335\n",
       "        ... \n",
       " 6111    122\n",
       " 1917    292\n",
       " 5702    421\n",
       " 4813    310\n",
       " 5125     30\n",
       " Name: count, Length: 2722, dtype: int64)"
      ]
     },
     "execution_count": 51,
     "metadata": {},
     "output_type": "execute_result"
    }
   ],
   "source": [
    "X_train, X_test, y_train, y_test"
   ]
  },
  {
   "cell_type": "markdown",
   "id": "6986c561",
   "metadata": {},
   "source": [
    "# 은닉층 추가"
   ]
  },
  {
   "cell_type": "code",
   "execution_count": null,
   "id": "4c23ce0f",
   "metadata": {},
   "outputs": [],
   "source": []
  }
 ],
 "metadata": {
  "kernelspec": {
   "display_name": "Python 3",
   "language": "python",
   "name": "python3"
  },
  "language_info": {
   "codemirror_mode": {
    "name": "ipython",
    "version": 3
   },
   "file_extension": ".py",
   "mimetype": "text/x-python",
   "name": "python",
   "nbconvert_exporter": "python",
   "pygments_lexer": "ipython3",
   "version": "3.8.8"
  }
 },
 "nbformat": 4,
 "nbformat_minor": 5
}
