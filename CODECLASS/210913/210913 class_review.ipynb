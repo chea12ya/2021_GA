{
 "cells": [
  {
   "cell_type": "code",
   "execution_count": null,
   "id": "073deb4d",
   "metadata": {},
   "outputs": [],
   "source": [
    "### css \n",
    "### css를 넣는 3가지 방법\n",
    "* inline\n",
    "* external\n",
    "* internal"
   ]
  },
  {
   "cell_type": "code",
   "execution_count": null,
   "id": "cd3a3572",
   "metadata": {},
   "outputs": [],
   "source": [
    "#inline\n",
    "<a style=\"\"></a>\n"
   ]
  },
  {
   "cell_type": "code",
   "execution_count": null,
   "id": "f3959cc9",
   "metadata": {},
   "outputs": [],
   "source": [
    "#internal\n",
    "<style>__</style>"
   ]
  },
  {
   "cell_type": "code",
   "execution_count": null,
   "id": "0b1abab0",
   "metadata": {},
   "outputs": [],
   "source": [
    "### css selector\n",
    "id => #id\n",
    "html tag => tag명\n",
    "class => .class명"
   ]
  },
  {
   "cell_type": "code",
   "execution_count": null,
   "id": "e1a91c08",
   "metadata": {},
   "outputs": [],
   "source": [
    "* text-allign: center, left, right"
   ]
  },
  {
   "cell_type": "code",
   "execution_count": null,
   "id": "497a5ecb",
   "metadata": {},
   "outputs": [],
   "source": [
    "*외부 연결\n",
    "<link rel=\"stylesheet\" href=\".css\">"
   ]
  },
  {
   "cell_type": "code",
   "execution_count": null,
   "id": "1c550713",
   "metadata": {},
   "outputs": [],
   "source": [
    "*h1과 p를 선택해서 스타일을 적용시켜라\n",
    "h1, p {color:red;}"
   ]
  },
  {
   "cell_type": "code",
   "execution_count": null,
   "id": "d8550c6e",
   "metadata": {},
   "outputs": [],
   "source": [
    "*h1 태그에 속하는 p태그\n",
    "# css 파일 내용\n",
    "*html 파일의 style 태그의 내용을 css 파일로 만들어줌"
   ]
  },
  {
   "cell_type": "code",
   "execution_count": null,
   "id": "6aab4e7e",
   "metadata": {},
   "outputs": [],
   "source": [
    "BS4\n",
    "*urlopen(url): 해당 웹서버에 요청하여 html 소스코드 열기\n",
    "*BeautifulSoup\n",
    ":데이터를 수집할 때 사용한다\n",
    ":파이썬 라이브러리\n",
    ":html를 파싱하여 BeautifulSoup 자료형 구조로 만든다\n",
    "-> 쉽게 정보를 우리가 가져올 수 있도록 하기 위해 "
   ]
  },
  {
   "cell_type": "code",
   "execution_count": null,
   "id": "15ccbc7c",
   "metadata": {
    "collapsed": true
   },
   "outputs": [],
   "source": [
    "soup.find(tag명)\n",
    "soup.find(tag명, id=\"\")\n",
    "soup.find(tag명, class_=\"\")\n",
    "\n",
    "soup.find_all(tag명)\n",
    "soup.find_all(tag명, id=\"\")\n",
    "soup.find_all(tag명, class_=\"\")\n",
    "-> 저장되는 자료형 BS 리스트 형태로 가져오게 된다\n",
    "-> FOR문을 이용해서 하나씩 원하는 분석을 수행한다"
   ]
  },
  {
   "cell_type": "code",
   "execution_count": null,
   "id": "889859de",
   "metadata": {},
   "outputs": [],
   "source": [
    "CHILDREN\n",
    "*태그명.children\n",
    "->태그명 하위 요소를 리스트 형태로 가져온다"
   ]
  },
  {
   "cell_type": "code",
   "execution_count": null,
   "id": "cbfc4c45",
   "metadata": {},
   "outputs": [],
   "source": [
    "a = soup.find_all(\"a\")"
   ]
  },
  {
   "cell_type": "code",
   "execution_count": null,
   "id": "24423794",
   "metadata": {},
   "outputs": [],
   "source": [
    "*for one in a:\n",
    "    print(one['href'])"
   ]
  },
  {
   "cell_type": "code",
   "execution_count": null,
   "id": "8b8dec7b",
   "metadata": {},
   "outputs": [],
   "source": [
    "#Selenium\n",
    "*pip install selenium"
   ]
  },
  {
   "cell_type": "code",
   "execution_count": 23,
   "id": "56f8dad1",
   "metadata": {},
   "outputs": [],
   "source": [
    "from selenium import webdriver\n",
    "from bs4 import BeautifulSoup"
   ]
  },
  {
   "cell_type": "code",
   "execution_count": 24,
   "id": "e4b94456",
   "metadata": {},
   "outputs": [],
   "source": [
    "driver = webdriver.Chrome('chromedriver') #90버전 활용"
   ]
  },
  {
   "cell_type": "code",
   "execution_count": 25,
   "id": "b908bdd3",
   "metadata": {},
   "outputs": [],
   "source": [
    "### 웹페이지 접속\n",
    "# url = 'https://www.naver.com/'\n",
    "url = \"https://news.naver.com/\"\n",
    "driver.get(url)"
   ]
  },
  {
   "cell_type": "code",
   "execution_count": 26,
   "id": "cf037e19",
   "metadata": {},
   "outputs": [
    {
     "ename": "NameError",
     "evalue": "name 'BeatifulSoup' is not defined",
     "output_type": "error",
     "traceback": [
      "\u001b[1;31m---------------------------------------------------------------------------\u001b[0m",
      "\u001b[1;31mNameError\u001b[0m                                 Traceback (most recent call last)",
      "\u001b[1;32m<ipython-input-26-3d8f14a125c6>\u001b[0m in \u001b[0;36m<module>\u001b[1;34m\u001b[0m\n\u001b[0;32m      1\u001b[0m \u001b[1;31m###웹 페이지로부터 html source코드를 넘겨받을 수 있다\u001b[0m\u001b[1;33m\u001b[0m\u001b[1;33m\u001b[0m\u001b[1;33m\u001b[0m\u001b[0m\n\u001b[0;32m      2\u001b[0m \u001b[0mpage\u001b[0m \u001b[1;33m=\u001b[0m \u001b[0mdriver\u001b[0m\u001b[1;33m.\u001b[0m\u001b[0mpage_source\u001b[0m\u001b[1;33m\u001b[0m\u001b[1;33m\u001b[0m\u001b[0m\n\u001b[1;32m----> 3\u001b[1;33m \u001b[0msoup\u001b[0m \u001b[1;33m=\u001b[0m \u001b[0mBeatifulSoup\u001b[0m\u001b[1;33m(\u001b[0m\u001b[0mpage\u001b[0m\u001b[1;33m,\u001b[0m \u001b[1;34m'lxml'\u001b[0m\u001b[1;33m)\u001b[0m\u001b[1;33m\u001b[0m\u001b[1;33m\u001b[0m\u001b[0m\n\u001b[0m\u001b[0;32m      4\u001b[0m \u001b[0msoup\u001b[0m\u001b[1;33m.\u001b[0m\u001b[0mtitle\u001b[0m\u001b[1;33m\u001b[0m\u001b[1;33m\u001b[0m\u001b[0m\n",
      "\u001b[1;31mNameError\u001b[0m: name 'BeatifulSoup' is not defined"
     ]
    }
   ],
   "source": [
    "###웹 페이지로부터 html source코드를 넘겨받을 수 있다\n",
    "page = driver.page_source\n",
    "soup = BeatifulSoup(page, 'lxml')\n",
    "soup.title"
   ]
  },
  {
   "cell_type": "code",
   "execution_count": null,
   "id": "1a66e982",
   "metadata": {},
   "outputs": [],
   "source": [
    "###driver가 가지고 있는 웹 요소를 선택해서 가져올 수 있음\n",
    "### 'xpath': 웹페이지의 유일한 주소"
   ]
  },
  {
   "cell_type": "code",
   "execution_count": null,
   "id": "118180fb",
   "metadata": {},
   "outputs": [],
   "source": [
    "## 검색: //*[@id=\"lnb.searchForm\"]/fieldset/input[1]\n",
    "##버튼: //*[@id=\"lnb.searchForm\"]/fieldset/button/span"
   ]
  },
  {
   "cell_type": "code",
   "execution_count": 27,
   "id": "229ca801",
   "metadata": {},
   "outputs": [],
   "source": [
    "##검색과 버튼을 선택\n",
    "sel_search = driver.find_element_by_xpath('//*[@id=\"lnb.searchForm\"]/fieldset/input[1]')\n",
    "sel_btn = driver.find_element_by_xpath('//*[@id=\"lnb.searchForm\"]/fieldset/button/span')"
   ]
  },
  {
   "cell_type": "code",
   "execution_count": 28,
   "id": "4ba03e06",
   "metadata": {},
   "outputs": [
    {
     "data": {
      "text/plain": [
       "(<selenium.webdriver.remote.webelement.WebElement (session=\"3ed0b66a396299b387d49ad47a82152a\", element=\"31e80a02-0520-410c-8cc4-6acf56b54c96\")>,\n",
       " <selenium.webdriver.remote.webelement.WebElement (session=\"3ed0b66a396299b387d49ad47a82152a\", element=\"51e514fa-6445-44a7-865d-6ed02c5d45f2\")>)"
      ]
     },
     "execution_count": 28,
     "metadata": {},
     "output_type": "execute_result"
    }
   ],
   "source": [
    "sel_search, sel_btn"
   ]
  },
  {
   "cell_type": "raw",
   "id": "3aad7297",
   "metadata": {},
   "source": [
    "sel_search"
   ]
  },
  {
   "cell_type": "code",
   "execution_count": 29,
   "id": "7a57cb00",
   "metadata": {},
   "outputs": [
    {
     "data": {
      "text/plain": [
       "''"
      ]
     },
     "execution_count": 29,
     "metadata": {},
     "output_type": "execute_result"
    }
   ],
   "source": [
    "sel_search.text"
   ]
  },
  {
   "cell_type": "code",
   "execution_count": 30,
   "id": "328a1d46",
   "metadata": {},
   "outputs": [
    {
     "data": {
      "text/plain": [
       "'검색'"
      ]
     },
     "execution_count": 30,
     "metadata": {},
     "output_type": "execute_result"
    }
   ],
   "source": [
    "sel_btn.text"
   ]
  },
  {
   "cell_type": "code",
   "execution_count": 32,
   "id": "25671485",
   "metadata": {},
   "outputs": [],
   "source": [
    "sel_search.send_keys(\"핫이슈\")\n",
    "sel_btn.click()"
   ]
  },
  {
   "cell_type": "code",
   "execution_count": null,
   "id": "c41d0aef",
   "metadata": {},
   "outputs": [],
   "source": []
  }
 ],
 "metadata": {
  "kernelspec": {
   "display_name": "Python 3",
   "language": "python",
   "name": "python3"
  },
  "language_info": {
   "codemirror_mode": {
    "name": "ipython",
    "version": 3
   },
   "file_extension": ".py",
   "mimetype": "text/x-python",
   "name": "python",
   "nbconvert_exporter": "python",
   "pygments_lexer": "ipython3",
   "version": "3.8.8"
  }
 },
 "nbformat": 4,
 "nbformat_minor": 5
}
