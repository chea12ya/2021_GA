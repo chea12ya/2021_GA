{
 "cells": [
  {
   "cell_type": "code",
   "execution_count": 2,
   "id": "9df3a64d",
   "metadata": {},
   "outputs": [],
   "source": [
    "from selenium import webdriver\n",
    "from bs4 import BeautifulSoup"
   ]
  },
  {
   "cell_type": "code",
   "execution_count": 3,
   "id": "5a6334f3",
   "metadata": {},
   "outputs": [],
   "source": [
    "driver = webdriver.Chrome('./chromedriver')\n",
    "\n",
    "url = 'https://www.amazon.com/'\n",
    "driver.get(url)"
   ]
  },
  {
   "cell_type": "code",
   "execution_count": 4,
   "id": "fdd4e614",
   "metadata": {},
   "outputs": [],
   "source": [
    "#검색창\n",
    "sel_input = driver.find_element_by_xpath('//*[@id=\"twotabsearchtextbox\"]')\n",
    "\n",
    "#검색버튼 요소\n",
    "sel_search = driver.find_element_by_xpath('//*[@id=\"nav-search-submit-button\"]')"
   ]
  },
  {
   "cell_type": "code",
   "execution_count": 5,
   "id": "52767c18",
   "metadata": {},
   "outputs": [],
   "source": [
    "#검색창에 값 입력\n",
    "word = 'computer'\n",
    "\n",
    "sel_input.clear()\n",
    "sel_input.send_keys(word)"
   ]
  },
  {
   "cell_type": "code",
   "execution_count": 6,
   "id": "adca0afb",
   "metadata": {},
   "outputs": [],
   "source": [
    "sel_search.click()"
   ]
  },
  {
   "cell_type": "code",
   "execution_count": 7,
   "id": "ea181799",
   "metadata": {},
   "outputs": [
    {
     "data": {
      "text/plain": [
       "<title>Amazon.com : computer</title>"
      ]
     },
     "execution_count": 7,
     "metadata": {},
     "output_type": "execute_result"
    }
   ],
   "source": [
    "page = driver.page_source\n",
    "soup = BeautifulSoup(page, 'html.parser')\n",
    "soup.title"
   ]
  },
  {
   "cell_type": "code",
   "execution_count": 8,
   "id": "81f5a4d5",
   "metadata": {},
   "outputs": [
    {
     "data": {
      "text/plain": [
       "'https://www.amazon.com/s?k=computer&ref=nb_sb_noss_1'"
      ]
     },
     "execution_count": 8,
     "metadata": {},
     "output_type": "execute_result"
    }
   ],
   "source": [
    "current_url = driver.current_url\n",
    "current_url"
   ]
  },
  {
   "cell_type": "code",
   "execution_count": 9,
   "id": "ac8f1c6e",
   "metadata": {},
   "outputs": [
    {
     "name": "stdout",
     "output_type": "stream",
     "text": [
      "<h2 class=\"a-size-mini a-spacing-none a-color-base s-line-clamp-2\"><a class=\"a-link-normal a-text-normal\" href=\"/gp/slredirect/picassoRedirect.html/ref=pa_sp_atf_aps_sr_pg1_1?ie=UTF8&amp;adId=A10399781VOM1501O66MY&amp;url=%2FMicrophones-Web-Cams-Computer-Conference-Streaming%2Fdp%2FB09DCKN291%2Fref%3Dsr_1_1_sspa%3Fdchild%3D1%26keywords%3Dcomputer%26qid%3D1631254055%26sr%3D8-1-spons%26psc%3D1&amp;qualifier=1631254055&amp;id=1659358964941593&amp;widgetName=sp_atf\"><span class=\"a-size-medium a-color-base a-text-normal\">6 in 1 Web-cam, HD 1080p Camera with 4 Microphones and Stereo Speaker, Wide Angle USB Web-Cams for Desktop Computer, Laptop, PC and Mac. Face-Cam for Zoom Conference, Live Streaming, and Video Gaming</span> </a> </h2>\n",
      "6 in 1 Web-cam, HD 1080p Camera with 4 Microphones and Stereo Speaker, Wide Angle USB Web-Cams for Desktop Computer, Laptop, PC and Mac. Face-Cam for Zoom Conference, Live Streaming, and Video Gaming\n",
      "\n",
      "/gp/slredirect/picassoRedirect.html/ref=pa_sp_atf_aps_sr_pg1_1?ie=UTF8&adId=A10399781VOM1501O66MY&url=%2FMicrophones-Web-Cams-Computer-Conference-Streaming%2Fdp%2FB09DCKN291%2Fref%3Dsr_1_1_sspa%3Fdchild%3D1%26keywords%3Dcomputer%26qid%3D1631254055%26sr%3D8-1-spons%26psc%3D1&qualifier=1631254055&id=1659358964941593&widgetName=sp_atf\n"
     ]
    }
   ],
   "source": [
    "tmp = soup.find_all('h2', class_='a-size-mini a-spacing-none a-color-base s-line-clamp-2')[0]\n",
    "print(tmp)\n",
    "print(tmp.span.text)\n",
    "print()\n",
    "print(tmp.a.attrs['href'])"
   ]
  },
  {
   "cell_type": "code",
   "execution_count": 10,
   "id": "9cef0d76",
   "metadata": {},
   "outputs": [
    {
     "data": {
      "text/plain": [
       "'https://www.amazon.com/s?k=computer&ref=nb_sb_noss_1/gp/slredirect/picassoRedirect.html/ref=pa_sp_atf_aps_sr_pg1_1?ie=UTF8&adId=A10399781VOM1501O66MY&url=%2FMicrophones-Web-Cams-Computer-Conference-Streaming%2Fdp%2FB09DCKN291%2Fref%3Dsr_1_1_sspa%3Fdchild%3D1%26keywords%3Dcomputer%26qid%3D1631254055%26sr%3D8-1-spons%26psc%3D1&qualifier=1631254055&id=1659358964941593&widgetName=sp_atf'"
      ]
     },
     "execution_count": 10,
     "metadata": {},
     "output_type": "execute_result"
    }
   ],
   "source": [
    "# 전체 URL을 얻는다.\n",
    "current_url + tmp.a.attrs['href']"
   ]
  },
  {
   "cell_type": "code",
   "execution_count": 18,
   "id": "386eb0b0",
   "metadata": {},
   "outputs": [],
   "source": [
    "### 아마존 리뷰 가져오기\n",
    "\n",
    "driver = webdriver.Chrome('./chromedriver')\n",
    "\n",
    "url = 'https://www.amazon.com/HP-24-inch-Computer-Processor-24-dd0010/dp/B0849GZCQR/ref=sr_1_2?dchild=1&keywords=computer&qid=1631254252&sr=8-2'\n",
    "driver.get(url)"
   ]
  },
  {
   "cell_type": "code",
   "execution_count": 19,
   "id": "a17ec752",
   "metadata": {},
   "outputs": [],
   "source": [
    "# 첫번째 리뷰 버튼: //*[@id=\"acrCustomerReviewText\"]\n",
    "first_review = driver.find_element_by_xpath('//*[@id=\"acrCustomerReviewText\"]')\n",
    "first_review.click()"
   ]
  },
  {
   "cell_type": "code",
   "execution_count": 20,
   "id": "119ae5eb",
   "metadata": {},
   "outputs": [],
   "source": [
    "#두 번째 리뷰 선택\n",
    "second_review = driver.find_element_by_xpath('//*[@id=\"reviews-medley-footer\"]/div[2]/a')\n",
    "second_review.click()"
   ]
  },
  {
   "cell_type": "code",
   "execution_count": 21,
   "id": "5f2d5e3d",
   "metadata": {},
   "outputs": [
    {
     "data": {
      "text/plain": [
       "<title>Amazon.com: Customer reviews: HP 24-inch All-in-One Desktop Computer, AMD Athlon Silver 3050U Processor, 8 GB RAM, 256 GB SSD, Windows 10 Home (24-dd0010, White)</title>"
      ]
     },
     "execution_count": 21,
     "metadata": {},
     "output_type": "execute_result"
    }
   ],
   "source": [
    "page = driver.page_source  #하나의 페이지 정보 전달\n",
    "soup = BeautifulSoup(page, 'lxml')\n",
    "soup.title"
   ]
  },
  {
   "cell_type": "code",
   "execution_count": 24,
   "id": "76ba7383",
   "metadata": {},
   "outputs": [
    {
     "data": {
      "text/plain": [
       "\"This is the worst computer that I've ever owned , I have high speed internet and nothing has ben uploaded in this computer and it's so slow that it's just shy of me taking a hammer to it,this computer took me back to dialup that's how slow it is. I bought it for my business that I open on Oct. 15th and really dont think it's going to work out wish I could return it\""
      ]
     },
     "execution_count": 24,
     "metadata": {},
     "output_type": "execute_result"
    }
   ],
   "source": [
    "#하나의 정보 확인\n",
    "txt = soup.find_all(\"span\", class_=\"a-size-base review-text review-text-content\")\n",
    "txt[0].text.strip()"
   ]
  },
  {
   "cell_type": "code",
   "execution_count": 26,
   "id": "1011e2fc",
   "metadata": {},
   "outputs": [],
   "source": [
    "all_r = soup.find_all(\"span\", class_=\"a-size-base review-text review-text-content\")\n",
    "\n",
    "all_review = []\n",
    "for one in all_r:\n",
    "    tmp = one.text\n",
    "    review = tmp.strip()\n",
    "    all_review.append(review)"
   ]
  },
  {
   "cell_type": "code",
   "execution_count": null,
   "id": "fb3ed455",
   "metadata": {},
   "outputs": [],
   "source": [
    "txt = soup.find_all(\"span\", class_=\"a-size-base review-text review-text-content\")\n",
    "txt[0:7].text.strip()"
   ]
  }
 ],
 "metadata": {
  "kernelspec": {
   "display_name": "Python 3",
   "language": "python",
   "name": "python3"
  },
  "language_info": {
   "codemirror_mode": {
    "name": "ipython",
    "version": 3
   },
   "file_extension": ".py",
   "mimetype": "text/x-python",
   "name": "python",
   "nbconvert_exporter": "python",
   "pygments_lexer": "ipython3",
   "version": "3.8.8"
  }
 },
 "nbformat": 4,
 "nbformat_minor": 5
}
