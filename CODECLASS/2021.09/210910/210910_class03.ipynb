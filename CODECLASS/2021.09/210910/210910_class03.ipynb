{
 "cells": [
  {
   "cell_type": "code",
   "execution_count": 1,
   "id": "f9eb8b70",
   "metadata": {},
   "outputs": [],
   "source": [
    "import os"
   ]
  },
  {
   "cell_type": "code",
   "execution_count": 3,
   "id": "720ae384",
   "metadata": {},
   "outputs": [
    {
     "data": {
      "text/plain": [
       "'C:\\\\Users\\\\Owner\\\\Documents'"
      ]
     },
     "execution_count": 3,
     "metadata": {},
     "output_type": "execute_result"
    }
   ],
   "source": [
    "### 작업 디렉토리\n",
    "os.getcwd()"
   ]
  },
  {
   "cell_type": "code",
   "execution_count": 68,
   "id": "a446f931",
   "metadata": {},
   "outputs": [],
   "source": [
    "from selenium import webdriver\n",
    "from bs4 import BeautifulSoup"
   ]
  },
  {
   "cell_type": "code",
   "execution_count": 69,
   "id": "6b6a8be7",
   "metadata": {},
   "outputs": [],
   "source": [
    "import time\n",
    "\n",
    "url = 'https://pythonstart.github.io/web/'\n",
    "driver = webdriver.Chrome('./chromedriver')\n",
    "driver.get(url)"
   ]
  },
  {
   "cell_type": "code",
   "execution_count": 70,
   "id": "7660aac5",
   "metadata": {},
   "outputs": [
    {
     "data": {
      "text/plain": [
       "<selenium.webdriver.remote.webelement.WebElement (session=\"ea8f1f4c48f460bf938ae42e48358ca4\", element=\"50f2dfe8-2a72-4d76-adf7-1aabd6cc70da\")>"
      ]
     },
     "execution_count": 70,
     "metadata": {},
     "output_type": "execute_result"
    }
   ],
   "source": [
    "a_tag = driver.find_element_by_tag_name(\"a\")\n",
    "a_tag"
   ]
  },
  {
   "cell_type": "code",
   "execution_count": 71,
   "id": "d24100a8",
   "metadata": {},
   "outputs": [
    {
     "name": "stdout",
     "output_type": "stream",
     "text": [
      "01. 제목 가져오기(title)\n",
      "a\n"
     ]
    }
   ],
   "source": [
    "## 내용을 보고 싶다\n",
    "print(a_tag.text)\n",
    "\n",
    "##가져온 정보의 tag를 보고 싶다\n",
    "print(a_tag.tag_name)"
   ]
  },
  {
   "cell_type": "code",
   "execution_count": 72,
   "id": "60c0ab3c",
   "metadata": {},
   "outputs": [],
   "source": [
    "##클릭을 하고 싶다\n",
    "a_tag.click()"
   ]
  },
  {
   "cell_type": "code",
   "execution_count": 73,
   "id": "1efbac3e",
   "metadata": {},
   "outputs": [
    {
     "data": {
      "text/plain": [
       "<selenium.webdriver.remote.webelement.WebElement (session=\"ea8f1f4c48f460bf938ae42e48358ca4\", element=\"db740741-3156-4eee-ad17-f81dce3c73a2\")>"
      ]
     },
     "execution_count": 73,
     "metadata": {},
     "output_type": "execute_result"
    }
   ],
   "source": [
    "a_tag = driver.find_element_by_name('text_get')\n",
    "a_tag"
   ]
  },
  {
   "cell_type": "code",
   "execution_count": 74,
   "id": "7323ec0c",
   "metadata": {},
   "outputs": [
    {
     "name": "stdout",
     "output_type": "stream",
     "text": [
      "02. 텍스트 가져오기(p)\n",
      "a\n"
     ]
    }
   ],
   "source": [
    "## 내용을 보고 싶다\n",
    "print(a_tag.text)\n",
    "\n",
    "##가져온 정보의 tag를 보고 싶다\n",
    "print(a_tag.tag_name)"
   ]
  },
  {
   "cell_type": "code",
   "execution_count": 75,
   "id": "7f7f3517",
   "metadata": {},
   "outputs": [
    {
     "data": {
      "text/plain": [
       "[<selenium.webdriver.remote.webelement.WebElement (session=\"ea8f1f4c48f460bf938ae42e48358ca4\", element=\"50f2dfe8-2a72-4d76-adf7-1aabd6cc70da\")>,\n",
       " <selenium.webdriver.remote.webelement.WebElement (session=\"ea8f1f4c48f460bf938ae42e48358ca4\", element=\"db740741-3156-4eee-ad17-f81dce3c73a2\")>,\n",
       " <selenium.webdriver.remote.webelement.WebElement (session=\"ea8f1f4c48f460bf938ae42e48358ca4\", element=\"58590e31-8f8d-442f-af78-170418c02cbc\")>,\n",
       " <selenium.webdriver.remote.webelement.WebElement (session=\"ea8f1f4c48f460bf938ae42e48358ca4\", element=\"cb83da0a-89ce-49ff-a881-b757fcc33e59\")>,\n",
       " <selenium.webdriver.remote.webelement.WebElement (session=\"ea8f1f4c48f460bf938ae42e48358ca4\", element=\"4e7174ff-6ffe-4920-b968-a01f5980c0c1\")>,\n",
       " <selenium.webdriver.remote.webelement.WebElement (session=\"ea8f1f4c48f460bf938ae42e48358ca4\", element=\"097ba5e4-d6ac-4f90-9c96-e2585be56c96\")>,\n",
       " <selenium.webdriver.remote.webelement.WebElement (session=\"ea8f1f4c48f460bf938ae42e48358ca4\", element=\"6e47dbe0-22a7-4417-9721-5bcf22eda547\")>,\n",
       " <selenium.webdriver.remote.webelement.WebElement (session=\"ea8f1f4c48f460bf938ae42e48358ca4\", element=\"af4076bf-9aed-42b7-bbdb-6fc29bc40a7e\")>,\n",
       " <selenium.webdriver.remote.webelement.WebElement (session=\"ea8f1f4c48f460bf938ae42e48358ca4\", element=\"527082db-4e5d-47df-87bf-42cd04ee053f\")>,\n",
       " <selenium.webdriver.remote.webelement.WebElement (session=\"ea8f1f4c48f460bf938ae42e48358ca4\", element=\"781e3896-0363-4a49-83f0-011d3ec34fda\")>]"
      ]
     },
     "execution_count": 75,
     "metadata": {},
     "output_type": "execute_result"
    }
   ],
   "source": [
    "all_tag = driver.find_elements_by_tag_name(\"a\")\n",
    "all_tag"
   ]
  },
  {
   "cell_type": "code",
   "execution_count": 76,
   "id": "34248f5a",
   "metadata": {},
   "outputs": [
    {
     "name": "stdout",
     "output_type": "stream",
     "text": [
      "01. 제목 가져오기(title)\n",
      "02. 텍스트 가져오기(p)\n",
      "03. 링크 가져오기(a)\n",
      "04. 이미지 정보 가져오기(img)\n",
      "05. 리스트 정보 가져오기(ul,ol)\n",
      "06. id를 활용한 정보 획득\n",
      "07. class를 활용한 정보 획득\n",
      "08. 하나의 이미지 다운로드\n",
      "09. 여러개의 이미지 다운로드\n",
      "10. 랭킹 정보 가져오기(웹 크롤링)\n"
     ]
    }
   ],
   "source": [
    "for one in all_tag:\n",
    "    print(one.text)"
   ]
  },
  {
   "cell_type": "code",
   "execution_count": 77,
   "id": "9ef32cdc",
   "metadata": {},
   "outputs": [
    {
     "name": "stdout",
     "output_type": "stream",
     "text": [
      "10. 랭킹 정보 가져오기(웹 크롤링)\n"
     ]
    }
   ],
   "source": [
    "a_tag = driver.find_element_by_id('rank')\n",
    "print(a_tag.text)"
   ]
  },
  {
   "cell_type": "code",
   "execution_count": 78,
   "id": "719e6d4f",
   "metadata": {},
   "outputs": [
    {
     "data": {
      "text/plain": [
       "[<selenium.webdriver.remote.webelement.WebElement (session=\"ea8f1f4c48f460bf938ae42e48358ca4\", element=\"50f2dfe8-2a72-4d76-adf7-1aabd6cc70da\")>,\n",
       " <selenium.webdriver.remote.webelement.WebElement (session=\"ea8f1f4c48f460bf938ae42e48358ca4\", element=\"58590e31-8f8d-442f-af78-170418c02cbc\")>]"
      ]
     },
     "execution_count": 78,
     "metadata": {},
     "output_type": "execute_result"
    }
   ],
   "source": [
    "a_tag = driver.find_elements_by_name('link_get')\n",
    "a_tag"
   ]
  },
  {
   "cell_type": "code",
   "execution_count": 79,
   "id": "897e017c",
   "metadata": {},
   "outputs": [
    {
     "name": "stdout",
     "output_type": "stream",
     "text": [
      "01. 제목 가져오기(title)\n",
      "03. 링크 가져오기(a)\n"
     ]
    }
   ],
   "source": [
    "for one in a_tag:\n",
    "    print(one.text)"
   ]
  },
  {
   "cell_type": "code",
   "execution_count": 80,
   "id": "2a1cac32",
   "metadata": {},
   "outputs": [
    {
     "name": "stdout",
     "output_type": "stream",
     "text": [
      "10. 랭킹 정보 가져오기(웹 크롤링)\n"
     ]
    }
   ],
   "source": [
    "content = driver.find_element_by_css_selector('body ul a#rank')\n",
    "print(content.text)"
   ]
  },
  {
   "cell_type": "code",
   "execution_count": 83,
   "id": "0990e9cd",
   "metadata": {},
   "outputs": [
    {
     "name": "stdout",
     "output_type": "stream",
     "text": [
      "01. 제목 가져오기(title)\n"
     ]
    }
   ],
   "source": [
    "content = driver.find_element_by_link_text('01. 제목 가져오기(title)')\n",
    "print(content.text)"
   ]
  },
  {
   "cell_type": "code",
   "execution_count": 85,
   "id": "2486a0f9",
   "metadata": {},
   "outputs": [],
   "source": [
    "### 네이버 웹 페이지를 띄우고, 검색 이후에 정보 확인하기\n",
    "from selenium import webdriver\n",
    "\n",
    "url = 'https://news.naver.com/'\n",
    "driver = webdriver.Chrome('./chromedriver' )\n",
    "driver.get(url)"
   ]
  },
  {
   "cell_type": "code",
   "execution_count": 53,
   "id": "c728ecb6",
   "metadata": {},
   "outputs": [],
   "source": [
    "#검색 입력창 xpath: //*[@id=\"lnb.searchForm\"]/fieldset/input[1]\n",
    "#검색 버튼 xpath: //*[@id=\"lnb.searchForm\"]/fieldset/button/span"
   ]
  },
  {
   "cell_type": "code",
   "execution_count": 86,
   "id": "c5b898bc",
   "metadata": {},
   "outputs": [],
   "source": [
    "sel_a = driver.find_element_by_xpath('//*[@id=\"lnb.searchForm\"]/fieldset/input[1]')\n",
    "sel_b = driver.find_element_by_xpath('//*[@id=\"lnb.searchForm\"]/fieldset/button/span')"
   ]
  },
  {
   "cell_type": "code",
   "execution_count": 88,
   "id": "1a941fd4",
   "metadata": {},
   "outputs": [],
   "source": [
    "# 검색시키기\n",
    "sel_a.send_keys(\"미세먼지\")\n",
    "sel_b.click()"
   ]
  },
  {
   "cell_type": "code",
   "execution_count": 90,
   "id": "8845d5a5",
   "metadata": {},
   "outputs": [],
   "source": [
    "url2 = \"http://daum.net\"\n",
    "driver2 = webdriver.Chrome('./chromedriver')\n",
    "driver2.get(url2)"
   ]
  },
  {
   "cell_type": "code",
   "execution_count": 92,
   "id": "41ad7bd5",
   "metadata": {},
   "outputs": [],
   "source": [
    "sel_c = driver2.find_element_by_xpath('//*[@id=\"q\"]')"
   ]
  },
  {
   "cell_type": "code",
   "execution_count": 94,
   "id": "d0681bcd",
   "metadata": {},
   "outputs": [
    {
     "data": {
      "text/plain": [
       "<title>네이버 뉴스</title>"
      ]
     },
     "execution_count": 94,
     "metadata": {},
     "output_type": "execute_result"
    }
   ],
   "source": [
    "page = driver.page_source\n",
    "soup = BeautifulSoup(page, 'lxml')\n",
    "soup.title"
   ]
  },
  {
   "cell_type": "code",
   "execution_count": 97,
   "id": "ec962ceb",
   "metadata": {},
   "outputs": [],
   "source": [
    "from selenium import webdriver\n",
    "from bs4 import BeautifulSoup"
   ]
  },
  {
   "cell_type": "code",
   "execution_count": 104,
   "id": "9e1fa718",
   "metadata": {},
   "outputs": [],
   "source": [
    "url = 'https://www.amazon.com/'\n",
    "driver = webdriver.Chrome('./chromedriver')\n",
    "driver.get(url)"
   ]
  },
  {
   "cell_type": "code",
   "execution_count": 105,
   "id": "c365189d",
   "metadata": {},
   "outputs": [],
   "source": [
    "sel_input = driver.find_element_by_xpath('//*[@id=\"twotabsearchtextbox\"]')\n",
    "sel_search = driver.find_element_by_xpath('//*[@id=\"nav-search-submit-button\"]')"
   ]
  },
  {
   "cell_type": "code",
   "execution_count": 106,
   "id": "60b6f300",
   "metadata": {},
   "outputs": [
    {
     "data": {
      "text/plain": [
       "'https://www.amazon.com/'"
      ]
     },
     "execution_count": 106,
     "metadata": {},
     "output_type": "execute_result"
    }
   ],
   "source": [
    "current_url = driver.current_url\n",
    "current_url"
   ]
  },
  {
   "cell_type": "code",
   "execution_count": 113,
   "id": "93561e2c",
   "metadata": {},
   "outputs": [],
   "source": [
    "word = \"computer\"\n",
    "\n",
    "sel_input.clear()\n",
    "sel_input.send_keys(word)"
   ]
  },
  {
   "cell_type": "code",
   "execution_count": 128,
   "id": "0cec37da",
   "metadata": {},
   "outputs": [
    {
     "ename": "IndexError",
     "evalue": "list index out of range",
     "output_type": "error",
     "traceback": [
      "\u001b[1;31m---------------------------------------------------------------------------\u001b[0m",
      "\u001b[1;31mIndexError\u001b[0m                                Traceback (most recent call last)",
      "\u001b[1;32m<ipython-input-128-46951ef5caf3>\u001b[0m in \u001b[0;36m<module>\u001b[1;34m\u001b[0m\n\u001b[1;32m----> 1\u001b[1;33m \u001b[0mtmp\u001b[0m \u001b[1;33m=\u001b[0m \u001b[0msoup\u001b[0m\u001b[1;33m.\u001b[0m\u001b[0mfind_all\u001b[0m\u001b[1;33m(\u001b[0m\u001b[1;34m'h2'\u001b[0m\u001b[1;33m,\u001b[0m \u001b[0mclass_\u001b[0m\u001b[1;33m=\u001b[0m\u001b[1;34m'a-size-mini a-spacing-none a-color-base s-line-clamp-2'\u001b[0m\u001b[1;33m)\u001b[0m\u001b[1;33m[\u001b[0m\u001b[1;36m0\u001b[0m\u001b[1;33m]\u001b[0m\u001b[1;33m\u001b[0m\u001b[1;33m\u001b[0m\u001b[0m\n\u001b[0m\u001b[0;32m      2\u001b[0m \u001b[0mtmp\u001b[0m\u001b[1;33m\u001b[0m\u001b[1;33m\u001b[0m\u001b[0m\n",
      "\u001b[1;31mIndexError\u001b[0m: list index out of range"
     ]
    }
   ],
   "source": [
    "tmp = soup.find_all('h2', class_='a-size-mini a-spacing-none a-color-base s-line-clamp-2')[0]\n",
    "tmp"
   ]
  },
  {
   "cell_type": "code",
   "execution_count": 129,
   "id": "eef921f3",
   "metadata": {},
   "outputs": [
    {
     "ename": "AttributeError",
     "evalue": "ResultSet object has no attribute 'a'. You're probably treating a list of elements like a single element. Did you call find_all() when you meant to call find()?",
     "output_type": "error",
     "traceback": [
      "\u001b[1;31m---------------------------------------------------------------------------\u001b[0m",
      "\u001b[1;31mAttributeError\u001b[0m                            Traceback (most recent call last)",
      "\u001b[1;32m<ipython-input-129-fa79664bdf73>\u001b[0m in \u001b[0;36m<module>\u001b[1;34m\u001b[0m\n\u001b[1;32m----> 1\u001b[1;33m \u001b[0mprint\u001b[0m\u001b[1;33m(\u001b[0m\u001b[0mtmp\u001b[0m\u001b[1;33m.\u001b[0m\u001b[0ma\u001b[0m\u001b[1;33m[\u001b[0m\u001b[1;34m'href'\u001b[0m\u001b[1;33m]\u001b[0m\u001b[1;33m)\u001b[0m\u001b[1;33m\u001b[0m\u001b[1;33m\u001b[0m\u001b[0m\n\u001b[0m",
      "\u001b[1;32mC:\\anaconda3\\lib\\site-packages\\bs4\\element.py\u001b[0m in \u001b[0;36m__getattr__\u001b[1;34m(self, key)\u001b[0m\n\u001b[0;32m   2171\u001b[0m     \u001b[1;32mdef\u001b[0m \u001b[0m__getattr__\u001b[0m\u001b[1;33m(\u001b[0m\u001b[0mself\u001b[0m\u001b[1;33m,\u001b[0m \u001b[0mkey\u001b[0m\u001b[1;33m)\u001b[0m\u001b[1;33m:\u001b[0m\u001b[1;33m\u001b[0m\u001b[1;33m\u001b[0m\u001b[0m\n\u001b[0;32m   2172\u001b[0m         \u001b[1;34m\"\"\"Raise a helpful exception to explain a common code fix.\"\"\"\u001b[0m\u001b[1;33m\u001b[0m\u001b[1;33m\u001b[0m\u001b[0m\n\u001b[1;32m-> 2173\u001b[1;33m         raise AttributeError(\n\u001b[0m\u001b[0;32m   2174\u001b[0m             \u001b[1;34m\"ResultSet object has no attribute '%s'. You're probably treating a list of elements like a single element. Did you call find_all() when you meant to call find()?\"\u001b[0m \u001b[1;33m%\u001b[0m \u001b[0mkey\u001b[0m\u001b[1;33m\u001b[0m\u001b[1;33m\u001b[0m\u001b[0m\n\u001b[0;32m   2175\u001b[0m         )\n",
      "\u001b[1;31mAttributeError\u001b[0m: ResultSet object has no attribute 'a'. You're probably treating a list of elements like a single element. Did you call find_all() when you meant to call find()?"
     ]
    }
   ],
   "source": [
    "print(tmp.a['href'])"
   ]
  },
  {
   "cell_type": "code",
   "execution_count": 130,
   "id": "1a34cc40",
   "metadata": {},
   "outputs": [
    {
     "ename": "AttributeError",
     "evalue": "ResultSet object has no attribute 'a'. You're probably treating a list of elements like a single element. Did you call find_all() when you meant to call find()?",
     "output_type": "error",
     "traceback": [
      "\u001b[1;31m---------------------------------------------------------------------------\u001b[0m",
      "\u001b[1;31mAttributeError\u001b[0m                            Traceback (most recent call last)",
      "\u001b[1;32m<ipython-input-130-ba8a16b80d59>\u001b[0m in \u001b[0;36m<module>\u001b[1;34m\u001b[0m\n\u001b[1;32m----> 1\u001b[1;33m \u001b[0mprint\u001b[0m\u001b[1;33m(\u001b[0m\u001b[0mtmp\u001b[0m\u001b[1;33m.\u001b[0m\u001b[0ma\u001b[0m\u001b[1;33m.\u001b[0m\u001b[0mattrs\u001b[0m\u001b[1;33m[\u001b[0m\u001b[1;34m'href'\u001b[0m\u001b[1;33m]\u001b[0m\u001b[1;33m)\u001b[0m\u001b[1;33m\u001b[0m\u001b[1;33m\u001b[0m\u001b[0m\n\u001b[0m",
      "\u001b[1;32mC:\\anaconda3\\lib\\site-packages\\bs4\\element.py\u001b[0m in \u001b[0;36m__getattr__\u001b[1;34m(self, key)\u001b[0m\n\u001b[0;32m   2171\u001b[0m     \u001b[1;32mdef\u001b[0m \u001b[0m__getattr__\u001b[0m\u001b[1;33m(\u001b[0m\u001b[0mself\u001b[0m\u001b[1;33m,\u001b[0m \u001b[0mkey\u001b[0m\u001b[1;33m)\u001b[0m\u001b[1;33m:\u001b[0m\u001b[1;33m\u001b[0m\u001b[1;33m\u001b[0m\u001b[0m\n\u001b[0;32m   2172\u001b[0m         \u001b[1;34m\"\"\"Raise a helpful exception to explain a common code fix.\"\"\"\u001b[0m\u001b[1;33m\u001b[0m\u001b[1;33m\u001b[0m\u001b[0m\n\u001b[1;32m-> 2173\u001b[1;33m         raise AttributeError(\n\u001b[0m\u001b[0;32m   2174\u001b[0m             \u001b[1;34m\"ResultSet object has no attribute '%s'. You're probably treating a list of elements like a single element. Did you call find_all() when you meant to call find()?\"\u001b[0m \u001b[1;33m%\u001b[0m \u001b[0mkey\u001b[0m\u001b[1;33m\u001b[0m\u001b[1;33m\u001b[0m\u001b[0m\n\u001b[0;32m   2175\u001b[0m         )\n",
      "\u001b[1;31mAttributeError\u001b[0m: ResultSet object has no attribute 'a'. You're probably treating a list of elements like a single element. Did you call find_all() when you meant to call find()?"
     ]
    }
   ],
   "source": [
    "print(tmp.a.attrs['href'])"
   ]
  },
  {
   "cell_type": "code",
   "execution_count": 131,
   "id": "a6ca4d88",
   "metadata": {},
   "outputs": [
    {
     "ename": "AttributeError",
     "evalue": "ResultSet object has no attribute 'a'. You're probably treating a list of elements like a single element. Did you call find_all() when you meant to call find()?",
     "output_type": "error",
     "traceback": [
      "\u001b[1;31m---------------------------------------------------------------------------\u001b[0m",
      "\u001b[1;31mAttributeError\u001b[0m                            Traceback (most recent call last)",
      "\u001b[1;32m<ipython-input-131-c1f07429c879>\u001b[0m in \u001b[0;36m<module>\u001b[1;34m\u001b[0m\n\u001b[0;32m      1\u001b[0m \u001b[1;31m# 전체 URL을 얻는다\u001b[0m\u001b[1;33m\u001b[0m\u001b[1;33m\u001b[0m\u001b[1;33m\u001b[0m\u001b[0m\n\u001b[1;32m----> 2\u001b[1;33m \u001b[0mcurrent_url\u001b[0m \u001b[1;33m+\u001b[0m \u001b[0mtmp\u001b[0m\u001b[1;33m.\u001b[0m\u001b[0ma\u001b[0m\u001b[1;33m.\u001b[0m\u001b[0mattrs\u001b[0m\u001b[1;33m[\u001b[0m\u001b[1;34m'href'\u001b[0m\u001b[1;33m]\u001b[0m\u001b[1;33m\u001b[0m\u001b[1;33m\u001b[0m\u001b[0m\n\u001b[0m",
      "\u001b[1;32mC:\\anaconda3\\lib\\site-packages\\bs4\\element.py\u001b[0m in \u001b[0;36m__getattr__\u001b[1;34m(self, key)\u001b[0m\n\u001b[0;32m   2171\u001b[0m     \u001b[1;32mdef\u001b[0m \u001b[0m__getattr__\u001b[0m\u001b[1;33m(\u001b[0m\u001b[0mself\u001b[0m\u001b[1;33m,\u001b[0m \u001b[0mkey\u001b[0m\u001b[1;33m)\u001b[0m\u001b[1;33m:\u001b[0m\u001b[1;33m\u001b[0m\u001b[1;33m\u001b[0m\u001b[0m\n\u001b[0;32m   2172\u001b[0m         \u001b[1;34m\"\"\"Raise a helpful exception to explain a common code fix.\"\"\"\u001b[0m\u001b[1;33m\u001b[0m\u001b[1;33m\u001b[0m\u001b[0m\n\u001b[1;32m-> 2173\u001b[1;33m         raise AttributeError(\n\u001b[0m\u001b[0;32m   2174\u001b[0m             \u001b[1;34m\"ResultSet object has no attribute '%s'. You're probably treating a list of elements like a single element. Did you call find_all() when you meant to call find()?\"\u001b[0m \u001b[1;33m%\u001b[0m \u001b[0mkey\u001b[0m\u001b[1;33m\u001b[0m\u001b[1;33m\u001b[0m\u001b[0m\n\u001b[0;32m   2175\u001b[0m         )\n",
      "\u001b[1;31mAttributeError\u001b[0m: ResultSet object has no attribute 'a'. You're probably treating a list of elements like a single element. Did you call find_all() when you meant to call find()?"
     ]
    }
   ],
   "source": [
    "# 전체 URL을 얻는다\n",
    "current_url + tmp.a.attrs['href']"
   ]
  }
 ],
 "metadata": {
  "kernelspec": {
   "display_name": "Python 3",
   "language": "python",
   "name": "python3"
  },
  "language_info": {
   "codemirror_mode": {
    "name": "ipython",
    "version": 3
   },
   "file_extension": ".py",
   "mimetype": "text/x-python",
   "name": "python",
   "nbconvert_exporter": "python",
   "pygments_lexer": "ipython3",
   "version": "3.8.8"
  }
 },
 "nbformat": 4,
 "nbformat_minor": 5
}
