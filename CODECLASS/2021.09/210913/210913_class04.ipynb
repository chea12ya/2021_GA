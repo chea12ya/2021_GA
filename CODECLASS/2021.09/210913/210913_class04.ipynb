{
 "cells": [
  {
   "cell_type": "code",
   "execution_count": null,
   "id": "840367ba",
   "metadata": {},
   "outputs": [],
   "source": [
    "#네이버테이터랩에서 데이터 가져오기#"
   ]
  },
  {
   "cell_type": "code",
   "execution_count": 1,
   "id": "a9e14675",
   "metadata": {},
   "outputs": [
    {
     "name": "stdout",
     "output_type": "stream",
     "text": [
      "시트명을 입력해 주세요:패션의류_0913\n"
     ]
    }
   ],
   "source": [
    "filename = \"datalab_word.xlsx\"\n",
    "#해당 시트명 입력\n",
    "sheetname = input(\"시트명을 입력해 주세요:\")"
   ]
  },
  {
   "cell_type": "code",
   "execution_count": 2,
   "id": "3b431f54",
   "metadata": {},
   "outputs": [],
   "source": [
    "import os\n",
    "os.getcwd()\n",
    "\n",
    "from selenium import webdriver\n",
    "from bs4 import BeautifulSoup\n",
    "\n",
    "driver = webdriver.Chrome('chromedriver')"
   ]
  },
  {
   "cell_type": "code",
   "execution_count": 3,
   "id": "23e4f719",
   "metadata": {},
   "outputs": [],
   "source": [
    "url = \"https://datalab.naver.com/\"\n",
    "driver.get(url)"
   ]
  },
  {
   "cell_type": "code",
   "execution_count": null,
   "id": "2b859ae3",
   "metadata": {},
   "outputs": [],
   "source": [
    "#날짜 가져오기\n",
    "* 각 날짜의 xpath or bs4를 가져온다\n",
    "* 이 요소 선택 후 가져와, 해당 부분의 text를 확인한다"
   ]
  },
  {
   "cell_type": "code",
   "execution_count": 4,
   "id": "aebaa57b",
   "metadata": {},
   "outputs": [
    {
     "data": {
      "text/plain": [
       "<title>네이버 데이터랩</title>"
      ]
     },
     "execution_count": 4,
     "metadata": {},
     "output_type": "execute_result"
    }
   ],
   "source": [
    "soup = BeautifulSoup(driver.page_source, 'lxml')\n",
    "soup.title"
   ]
  },
  {
   "cell_type": "code",
   "execution_count": 8,
   "id": "3185d74b",
   "metadata": {},
   "outputs": [
    {
     "data": {
      "text/plain": [
       "<span class=\"title_cell\">\n",
       "<span class=\"datetime\">{=datetime}</span>\n",
       "<span class=\"period\"><em>{=range}</em></span>\n",
       "</span>"
      ]
     },
     "execution_count": 8,
     "metadata": {},
     "output_type": "execute_result"
    }
   ],
   "source": [
    "date_all = soup.find_all(\"span\", class_=\"title_cell\")\n",
    "date_all[13]"
   ]
  },
  {
   "cell_type": "code",
   "execution_count": 7,
   "id": "577529b8",
   "metadata": {},
   "outputs": [
    {
     "name": "stdout",
     "output_type": "stream",
     "text": [
      "14\n"
     ]
    }
   ],
   "source": [
    "#총 데이터 개수\n",
    "print(len(date_all))"
   ]
  },
  {
   "cell_type": "code",
   "execution_count": 9,
   "id": "0142922a",
   "metadata": {},
   "outputs": [
    {
     "name": "stdout",
     "output_type": "stream",
     "text": [
      "2021.09.01.(수)\n",
      "2021.09.02.(목)\n",
      "2021.09.03.(금)\n",
      "2021.09.04.(토)\n",
      "2021.09.05.(일)\n",
      "2021.09.06.(월)\n",
      "2021.09.07.(화)\n",
      "2021.09.08.(수)\n",
      "2021.09.09.(목)\n",
      "2021.09.10.(금)\n",
      "2021.09.11.(토)\n",
      "2021.09.12.(일)\n"
     ]
    }
   ],
   "source": [
    "#날짜 가져오기\n",
    "date_all = soup.find_all(\"span\", class_=\"title_cell\")\n",
    "date_all[13]\n",
    "\n",
    "date_list = []\n",
    "for one in date_all:\n",
    "    if len(one.text):\n",
    "        date_list.append(one.text)\n",
    "        print(one.text)"
   ]
  },
  {
   "cell_type": "code",
   "execution_count": 11,
   "id": "2691dd7f",
   "metadata": {},
   "outputs": [
    {
     "data": {
      "text/plain": [
       "['2021.09.01.(수)',\n",
       " '2021.09.02.(목)',\n",
       " '2021.09.03.(금)',\n",
       " '2021.09.04.(토)',\n",
       " '2021.09.05.(일)',\n",
       " '2021.09.06.(월)',\n",
       " '2021.09.07.(화)',\n",
       " '2021.09.08.(수)',\n",
       " '2021.09.09.(목)',\n",
       " '2021.09.10.(금)',\n",
       " '2021.09.11.(토)',\n",
       " '2021.09.12.(일)']"
      ]
     },
     "execution_count": 11,
     "metadata": {},
     "output_type": "execute_result"
    }
   ],
   "source": [
    "#날짜 가져오기\n",
    "date_list"
   ]
  },
  {
   "cell_type": "code",
   "execution_count": 14,
   "id": "9fbbf553",
   "metadata": {},
   "outputs": [
    {
     "data": {
      "text/plain": [
       "<selenium.webdriver.remote.webelement.WebElement (session=\"0708ac51cf6d200e015785c24b6843b7\", element=\"e8af6015-0535-4c1e-a257-13ab11224706\")>"
      ]
     },
     "execution_count": 14,
     "metadata": {},
     "output_type": "execute_result"
    }
   ],
   "source": [
    "# xpath : //*[@id=\"content\"]/div[1]/div[4]/div/div[1]/div/div/div[9]/div/div/ul/li[1]/a/span\n",
    "xpath = '//*[@id=\"content\"]/div[1]/div[4]/div/div[1]/div/div/div[9]/div/div/ul/li[1]/a/span'\n",
    "one_ele = driver.find_element_by_xpath(xpath)\n",
    "one_ele"
   ]
  },
  {
   "cell_type": "code",
   "execution_count": 15,
   "id": "a8c13879",
   "metadata": {},
   "outputs": [
    {
     "data": {
      "text/plain": [
       "'원피스'"
      ]
     },
     "execution_count": 15,
     "metadata": {},
     "output_type": "execute_result"
    }
   ],
   "source": [
    "one_ele.text"
   ]
  },
  {
   "cell_type": "code",
   "execution_count": 16,
   "id": "dc003418",
   "metadata": {},
   "outputs": [],
   "source": [
    "#검색어1: //*[@id=\"content\"]/div[1]/div[4]/div/div[1]/div/div/div[9]/div/div/ul/li[1]/a/span\n",
    "#검색어3: //*[@id=\"content\"]/div[1]/div[4]/div/div[1]/div/div/div[9]/div/div/ul/li[3]/a/span\n",
    "#검색어7: //*[@id=\"content\"]/div[1]/div[4]/div/div[1]/div/div/div[9]/div/div/ul/li[7]/a/span\n",
    "#검색어10: //*[@id=\"content\"]/div[1]/div[4]/div/div[1]/div/div/div[9]/div/div/ul/li[10]/a/span\n"
   ]
  },
  {
   "cell_type": "code",
   "execution_count": 29,
   "id": "064087bf",
   "metadata": {},
   "outputs": [
    {
     "data": {
      "text/plain": [
       "['원피스',\n",
       " '가을원피스',\n",
       " '나이키바람막이',\n",
       " '트위드자켓',\n",
       " '나이키후드티',\n",
       " '후드집업',\n",
       " '바람막이',\n",
       " '반팔티',\n",
       " '반바지',\n",
       " '써스데이아일랜드원피스']"
      ]
     },
     "execution_count": 29,
     "metadata": {},
     "output_type": "execute_result"
    }
   ],
   "source": [
    "pop_word = []\n",
    "for num in range (1,11,1):\n",
    "    xpath_url = '//*[@id=\"content\"]/div[1]/div[4]/div/div[1]/div/div/div[9]/div/div/ul/li[' + str(num) + ']/a/span'\n",
    "    one_ele = driver.find_element_by_xpath(xpath_url)\n",
    "    #print(one_ele.text)\n",
    "    pop_word.append(one_ele.text)\n",
    "pop_word"
   ]
  },
  {
   "cell_type": "code",
   "execution_count": 30,
   "id": "e6c7c1c6",
   "metadata": {},
   "outputs": [],
   "source": [
    "##9월 9일\n",
    "#검색어1: //*[@id=\"content\"]/div[1]/div[4]/div/div[1]/div/div/div[9]/div/div/ul/li[1]/a/span\n",
    "#검색어3: //*[@id=\"content\"]/div[1]/div[4]/div/div[1]/div/div/div[9]/div/div/ul/li[3]/a/span\n",
    "#검색어7: //*[@id=\"content\"]/div[1]/div[4]/div/div[1]/div/div/div[9]/div/div/ul/li[7]/a/span\n",
    "#검색어10: //*[@id=\"content\"]/div[1]/div[4]/div/div[1]/div/div/div[9]/div/div/ul/li[10]/a/span\n",
    "\n",
    "\n",
    "#9월 12일\n",
    "#검색어1: //*[@id=\"content\"]/div[1]/div[4]/div/div[1]/div/div/div[12]/div/div/ul/li[1]/a/span"
   ]
  },
  {
   "cell_type": "code",
   "execution_count": 45,
   "id": "0b65f7f2",
   "metadata": {},
   "outputs": [
    {
     "name": "stdout",
     "output_type": "stream",
     "text": [
      "['원피스', '나이키후드티', '써스데이아일랜드원피스', '가을원피스', '트위드자켓', '나이키바람막이', '바람막이', '후드집업', '맨투맨', '블라우스']\n",
      "['원피스', '나이키후드티', '써스데이아일랜드원피스', '가을원피스', '트위드자켓', '나이키바람막이', '바람막이', '후드집업', '맨투맨', '블라우스']\n",
      "['원피스', '나이키후드티', '써스데이아일랜드원피스', '가을원피스', '트위드자켓', '나이키바람막이', '바람막이', '후드집업', '맨투맨', '블라우스']\n",
      "['원피스', '나이키후드티', '써스데이아일랜드원피스', '가을원피스', '트위드자켓', '나이키바람막이', '바람막이', '후드집업', '맨투맨', '블라우스']\n"
     ]
    }
   ],
   "source": [
    "page_start = 9\n",
    "page_end = 12\n",
    "for page in range(page_start, page_end +1, 1):\n",
    "    pop_word = []\n",
    "    for num in range (1,11,1):\n",
    "        xpath_url = '//*[@id=\"content\"]/div[1]/div[4]/div/div[1]/div/div/div['+str(day)+']/div/div/ul/li['+str(num)+']/a/span'\n",
    "        one_ele = driver.find_element_by_xpath(xpath_url)\n",
    "        #print(one_ele.text)\n",
    "        pop_word.append(one_ele.text)\n",
    "    print(pop_word)"
   ]
  },
  {
   "cell_type": "code",
   "execution_count": 50,
   "id": "59e48574",
   "metadata": {
    "scrolled": true
   },
   "outputs": [
    {
     "data": {
      "text/plain": [
       "['원피스',\n",
       " '가을원피스',\n",
       " '나이키바람막이',\n",
       " '트위드자켓',\n",
       " '나이키후드티',\n",
       " '후드집업',\n",
       " '바람막이',\n",
       " '반팔티',\n",
       " '반바지',\n",
       " '써스데이아일랜드원피스',\n",
       " '원피스',\n",
       " '가을원피스',\n",
       " '트위드자켓',\n",
       " '나이키바람막이',\n",
       " '나이키후드티',\n",
       " '써스데이아일랜드원피스',\n",
       " '반팔티',\n",
       " '반바지',\n",
       " '팬츠',\n",
       " '바람막이',\n",
       " '원피스',\n",
       " '나이키후드티',\n",
       " '트위드자켓',\n",
       " '나이키바람막이',\n",
       " '가을원피스',\n",
       " '써스데이아일랜드원피스',\n",
       " '반팔티',\n",
       " '맨투맨',\n",
       " '후드집업',\n",
       " '반바지',\n",
       " '원피스',\n",
       " '나이키후드티',\n",
       " '써스데이아일랜드원피스',\n",
       " '가을원피스',\n",
       " '트위드자켓',\n",
       " '나이키바람막이',\n",
       " '바람막이',\n",
       " '후드집업',\n",
       " '맨투맨',\n",
       " '블라우스']"
      ]
     },
     "execution_count": 50,
     "metadata": {},
     "output_type": "execute_result"
    }
   ],
   "source": [
    "#9월 9일 ~ 9월 13일 검색어 10위\n",
    "lists = []\n",
    "for day in range(9, 13):\n",
    "    for num in range(1, 11):\n",
    "        xpath_s = '//*[@id=\"content\"]/div[1]/div[4]/div/div[1]/div/div/div['+str(day)+']/div/div/ul/li['+str(num)+']/a/span'\n",
    "        one_ele = driver.find_element_by_xpath(xpath_s)\n",
    "        lists.append(one_ele.text)\n",
    "lists"
   ]
  },
  {
   "cell_type": "code",
   "execution_count": 51,
   "id": "4962ab76",
   "metadata": {
    "scrolled": true
   },
   "outputs": [
    {
     "name": "stdout",
     "output_type": "stream",
     "text": [
      "['원피스', '가을원피스', '나이키바람막이', '트위드자켓', '나이키후드티', '후드집업', '바람막이', '반팔티', '반바지', '써스데이아일랜드원피스']\n",
      "['원피스', '가을원피스', '트위드자켓', '나이키바람막이', '나이키후드티', '써스데이아일랜드원피스', '반팔티', '반바지', '팬츠', '바람막이']\n",
      "['원피스', '나이키후드티', '트위드자켓', '나이키바람막이', '가을원피스', '써스데이아일랜드원피스', '반팔티', '맨투맨', '후드집업', '반바지']\n",
      "['원피스', '나이키후드티', '써스데이아일랜드원피스', '가을원피스', '트위드자켓', '나이키바람막이', '바람막이', '후드집업', '맨투맨', '블라우스']\n"
     ]
    }
   ],
   "source": [
    "pop_word = []\n",
    "for day in range(9, 13):\n",
    "    pop_word = []\n",
    "    for num in range(1,11,1):\n",
    "        xpath_url = '//*[@id=\"content\"]/div[1]/div[4]/div/div[1]/div/div/div['+str(day)+']/div/div/ul/li['+str(num)+']/a/span'\n",
    "        one_ele = driver.find_element_by_xpath(xpath_url)\n",
    "        pop_word.append(one_ele.text)\n",
    "    print(pop_word)"
   ]
  },
  {
   "cell_type": "code",
   "execution_count": 88,
   "id": "6a778ab3",
   "metadata": {},
   "outputs": [],
   "source": [
    "#다른 날짜 가져오기\n",
    "import time\n",
    "left_click_xpath= '//*[@id=\"content\"]/div[1]/div[4]/div/div[1]/div/a[1]/span'\n",
    "right_click_xpath = '//*[@id=\"content\"]/div[1]/div[4]/div/div[1]/div/a[2]/span'\n",
    "\n",
    "left_click = driver.find_element_by_xpath(left_click_xpath)\n",
    "right_click = driver.find_element_by_xpath(right_click_xpath)"
   ]
  },
  {
   "cell_type": "code",
   "execution_count": 89,
   "id": "a3639d46",
   "metadata": {},
   "outputs": [],
   "source": [
    "import time"
   ]
  },
  {
   "cell_type": "code",
   "execution_count": 90,
   "id": "4b87e055",
   "metadata": {},
   "outputs": [
    {
     "name": "stdout",
     "output_type": "stream",
     "text": [
      "12\n"
     ]
    }
   ],
   "source": [
    "print(len(date_list))\n",
    "date_len = len(date_list)"
   ]
  },
  {
   "cell_type": "code",
   "execution_count": 91,
   "id": "7dc4317b",
   "metadata": {},
   "outputs": [],
   "source": [
    "for i in range(date_len-4):\n",
    "    left_click.click()\n",
    "    time.sleep(3)"
   ]
  },
  {
   "cell_type": "code",
   "execution_count": 92,
   "id": "809780e0",
   "metadata": {
    "scrolled": true
   },
   "outputs": [
    {
     "name": "stdout",
     "output_type": "stream",
     "text": [
      "['원피스', '나이키후드티', '후드집업', '나이키바람막이', '가을원피스', '바람막이', '트위드자켓', '트렌치코트', '맨투맨', '가디건'] 10\n",
      "['원피스', '가을원피스', '나이키후드티', '나이키바람막이', '후드집업', '트위드자켓', '바람막이', '트렌치코트', '맨투맨', '반팔티'] 10\n",
      "['원피스', '나이키후드티', '가을원피스', '나이키바람막이', '후드집업', '트위드자켓', '써스데이아일랜드원피스', '반바지', '반팔티', '바람막이'] 10\n",
      "['원피스', '트위드자켓', '나이키후드티', '가을원피스', '나이키바람막이', '후드집업', '써스데이아일랜드원피스', '바람막이', '트렌치코트', '가디건'] 10\n",
      "['원피스', '나이키후드티', '가을원피스', '나이키바람막이', '트위드자켓', '후드집업', '바람막이', '트렌치코트', '맨투맨', '써스데이아일랜드원피스'] 10\n",
      "['원피스', '나이키바람막이', '가을원피스', '후드집업', '나이키후드티', '바람막이', '트위드자켓', '맨투맨', '가디건', '폴로가디건'] 10\n",
      "['원피스', '나이키바람막이', '후드집업', '바람막이', '가을원피스', '나이키후드티', '트위드자켓', '맨투맨', '가디건', '폴로가디건'] 10\n",
      "['원피스', '가을원피스', '나이키바람막이', '나이키후드티', '후드집업', '트위드자켓', '바람막이', '맨투맨', '반팔티', '가디건'] 10\n",
      "['원피스', '가을원피스', '나이키바람막이', '트위드자켓', '나이키후드티', '후드집업', '바람막이', '반팔티', '반바지', '써스데이아일랜드원피스'] 10\n",
      "['원피스', '가을원피스', '트위드자켓', '나이키바람막이', '나이키후드티', '써스데이아일랜드원피스', '반팔티', '반바지', '팬츠', '바람막이'] 10\n",
      "['원피스', '나이키후드티', '트위드자켓', '나이키바람막이', '가을원피스', '써스데이아일랜드원피스', '반팔티', '맨투맨', '후드집업', '반바지'] 10\n",
      "['원피스', '나이키후드티', '써스데이아일랜드원피스', '가을원피스', '트위드자켓', '나이키바람막이', '바람막이', '후드집업', '맨투맨', '블라우스'] 10\n"
     ]
    }
   ],
   "source": [
    "for day in range(1, 13):\n",
    "    lists = []\n",
    "    for num in range(1, 11):\n",
    "        xpath_s = '//*[@id=\"content\"]/div[1]/div[4]/div/div[1]/div/div/div['+str(day)+']/div/div/ul/li['+str(num)+']/a/span'\n",
    "        one_ele = driver.find_element_by_xpath(xpath_s)\n",
    "        lists.append(one_ele.text)\n",
    "        \n",
    "    print(lists, len(lists))\n",
    "    if day==5 or day==9:\n",
    "        right_click.click()\n",
    "        time.sleep(5)\n",
    "        right_click.click()\n",
    "        time.sleep(5)\n",
    "        right_click.click()\n",
    "        time.sleep(5)\n",
    "        right_click.click()\n",
    "        time.sleep(5)"
   ]
  },
  {
   "cell_type": "code",
   "execution_count": 93,
   "id": "9c80e026",
   "metadata": {},
   "outputs": [
    {
     "name": "stdout",
     "output_type": "stream",
     "text": [
      "2021.09.12.(일)\n",
      "1.원피스\n",
      "2.나이키후드티\n",
      "3.써스데이아일랜드원피스\n",
      "4.가을원피스\n",
      "5.트위드자켓\n",
      "6.나이키바람막이\n",
      "7.바람막이\n",
      "8.후드집업\n",
      "9.맨투맨\n",
      "10.블라우스\n",
      "2021.09.11.(토)\n",
      "1.원피스\n",
      "2.나이키후드티\n",
      "3.트위드자켓\n",
      "4.나이키바람막이\n",
      "5.가을원피스\n",
      "6.써스데이아일랜드원피스\n",
      "7.반팔티\n",
      "8.맨투맨\n",
      "9.후드집업\n",
      "10.반바지\n",
      "2021.09.10.(금)\n",
      "1.원피스\n",
      "2.가을원피스\n",
      "3.트위드자켓\n",
      "4.나이키바람막이\n",
      "5.나이키후드티\n",
      "6.써스데이아일랜드원피스\n",
      "7.반팔티\n",
      "8.반바지\n",
      "9.팬츠\n",
      "10.바람막이\n",
      "2021.09.09.(목)\n",
      "1.원피스\n",
      "2.가을원피스\n",
      "3.나이키바람막이\n",
      "4.트위드자켓\n",
      "5.나이키후드티\n",
      "6.후드집업\n",
      "7.바람막이\n",
      "8.반팔티\n",
      "9.반바지\n",
      "10.써스데이아일랜드원피스\n",
      "2021.09.08.(수)\n",
      "1.\n",
      "2.\n",
      "3.\n",
      "4.\n",
      "5.\n",
      "6.\n",
      "7.\n",
      "8.\n",
      "9.\n",
      "10.\n",
      "\n",
      "1.\n",
      "2.\n",
      "3.\n",
      "4.\n",
      "5.\n",
      "6.\n",
      "7.\n",
      "8.\n",
      "9.\n",
      "10.\n",
      "\n",
      "1.\n",
      "2.\n",
      "3.\n",
      "4.\n",
      "5.\n",
      "6.\n",
      "7.\n",
      "8.\n",
      "9.\n",
      "10.\n",
      "\n",
      "1.\n",
      "2.\n",
      "3.\n",
      "4.\n",
      "5.\n",
      "6.\n",
      "7.\n",
      "8.\n",
      "9.\n",
      "10.\n",
      "\n",
      "1.\n",
      "2.\n",
      "3.\n",
      "4.\n",
      "5.\n",
      "6.\n",
      "7.\n",
      "8.\n",
      "9.\n",
      "10.\n",
      "\n",
      "1.\n",
      "2.\n",
      "3.\n",
      "4.\n",
      "5.\n",
      "6.\n",
      "7.\n",
      "8.\n",
      "9.\n",
      "10.\n",
      "\n",
      "1.\n",
      "2.\n",
      "3.\n",
      "4.\n",
      "5.\n",
      "6.\n",
      "7.\n",
      "8.\n",
      "9.\n",
      "10.\n",
      "\n",
      "1.\n",
      "2.\n",
      "3.\n",
      "4.\n",
      "5.\n",
      "6.\n",
      "7.\n",
      "8.\n",
      "9.\n",
      "10.\n"
     ]
    }
   ],
   "source": [
    "pop_word = []\n",
    "for date in range(12, 0, -1) :\n",
    "    date_url = '//*[@id=\"content\"]/div[1]/div[4]/div/div[1]/div/div/div[' + str(date) + ']/div/strong/span'\n",
    "    date_text = driver.find_element_by_xpath(date_url)\n",
    "    pop_word.append(date_text.text)\n",
    "    \n",
    "    for num in range(1, 11, 1) :\n",
    "        xpath_url = '//*[@id=\"content\"]/div[1]/div[4]/div/div[1]/div/div/div[' + str(date) + ']/div/div/ul/li[' + str(num) + ']/a/span'\n",
    "        one_item = driver.find_element_by_xpath(xpath_url)\n",
    "        pop_word.append(str(num) + \".\" + one_item.text)\n",
    "    \n",
    "    if date <= 9 :\n",
    "        button = driver.find_element_by_xpath('//*[@id=\"content\"]/div[1]/div[4]/div/div[1]/div/a[1]')\n",
    "        button.click()\n",
    "        time.sleep(5)\n",
    "        \n",
    "for i in pop_word :\n",
    "    print(i)"
   ]
  },
  {
   "cell_type": "code",
   "execution_count": null,
   "id": "b16dfdd5",
   "metadata": {},
   "outputs": [],
   "source": []
  }
 ],
 "metadata": {
  "kernelspec": {
   "display_name": "Python 3",
   "language": "python",
   "name": "python3"
  },
  "language_info": {
   "codemirror_mode": {
    "name": "ipython",
    "version": 3
   },
   "file_extension": ".py",
   "mimetype": "text/x-python",
   "name": "python",
   "nbconvert_exporter": "python",
   "pygments_lexer": "ipython3",
   "version": "3.8.8"
  }
 },
 "nbformat": 4,
 "nbformat_minor": 5
}
