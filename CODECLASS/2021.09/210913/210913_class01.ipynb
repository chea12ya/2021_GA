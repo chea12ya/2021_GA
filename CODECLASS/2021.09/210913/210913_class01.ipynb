{
 "cells": [
  {
   "cell_type": "code",
   "execution_count": 3,
   "id": "d167a3ac",
   "metadata": {},
   "outputs": [],
   "source": [
    "#셀레니움 실습\n",
    "from selenium import webdriver\n",
    "from bs4 import BeautifulSoup"
   ]
  },
  {
   "cell_type": "code",
   "execution_count": 5,
   "id": "13791238",
   "metadata": {},
   "outputs": [],
   "source": [
    "import time\n",
    "\n",
    "url = 'https://pythonstart.github.io/web/'\n",
    "start = time.time()\n",
    "driver = webdriver.Chrome('./chromedriver')\n",
    "driver.get(url)"
   ]
  },
  {
   "cell_type": "code",
   "execution_count": 6,
   "id": "fc407dcf",
   "metadata": {},
   "outputs": [
    {
     "data": {
      "text/plain": [
       "'01. 제목 가져오기(title)'"
      ]
     },
     "execution_count": 6,
     "metadata": {},
     "output_type": "execute_result"
    }
   ],
   "source": [
    "#a tag 가져오기\n",
    "\n",
    "a_tag = driver.find_element_by_css_selector(\"ul a\")\n",
    "a_tag.text"
   ]
  },
  {
   "cell_type": "code",
   "execution_count": 7,
   "id": "672fc28a",
   "metadata": {},
   "outputs": [
    {
     "data": {
      "text/plain": [
       "'my web page'"
      ]
     },
     "execution_count": 7,
     "metadata": {},
     "output_type": "execute_result"
    }
   ],
   "source": [
    "#body 밑 h1 선택\n",
    "a_tag = driver.find_element_by_css_selector(\"body h1\")\n",
    "a_tag.text"
   ]
  },
  {
   "cell_type": "code",
   "execution_count": 11,
   "id": "ad0b29d9",
   "metadata": {},
   "outputs": [
    {
     "data": {
      "text/plain": [
       "'10. 랭킹 정보 가져오기(웹 크롤링)'"
      ]
     },
     "execution_count": 11,
     "metadata": {},
     "output_type": "execute_result"
    }
   ],
   "source": [
    "#a태그 (id='rank' 선택)\n",
    "a_tag = driver.find_element_by_css_selector(\"body ul a#rank\")\n",
    "a_tag.text"
   ]
  },
  {
   "cell_type": "code",
   "execution_count": null,
   "id": "23b55d6c",
   "metadata": {},
   "outputs": [],
   "source": [
    "a_tag = driver.find_element_by_css_selector(\"body a\")\n",
    "a_tag.text"
   ]
  },
  {
   "cell_type": "code",
   "execution_count": 8,
   "id": "04eeb467",
   "metadata": {},
   "outputs": [
    {
     "data": {
      "text/plain": [
       "'10. 랭킹 정보 가져오기(웹 크롤링)'"
      ]
     },
     "execution_count": 8,
     "metadata": {},
     "output_type": "execute_result"
    }
   ],
   "source": [
    "#a 태그 (id='rank' 선택)\n",
    "a_tag = driver.find_element_by_css_selector(\"a#rank\")\n",
    "a_tag.text"
   ]
  },
  {
   "cell_type": "code",
   "execution_count": 10,
   "id": "08a09370",
   "metadata": {},
   "outputs": [
    {
     "data": {
      "text/plain": [
       "'my web page'"
      ]
     },
     "execution_count": 10,
     "metadata": {},
     "output_type": "execute_result"
    }
   ],
   "source": [
    "#h1요소 선택\n",
    "a_tag = driver.find_element_by_css_selector(\"h1\")\n",
    "a_tag.text"
   ]
  },
  {
   "cell_type": "code",
   "execution_count": 13,
   "id": "ac81fe90",
   "metadata": {},
   "outputs": [
    {
     "data": {
      "text/plain": [
       "[<selenium.webdriver.remote.webelement.WebElement (session=\"103d1ba3d1a49ec38024c46b65ffe225\", element=\"cd97ab38-1c94-43aa-9f98-e15367ae9cbf\")>,\n",
       " <selenium.webdriver.remote.webelement.WebElement (session=\"103d1ba3d1a49ec38024c46b65ffe225\", element=\"413f6318-bc49-4c22-bbef-24f45d0bf31a\")>,\n",
       " <selenium.webdriver.remote.webelement.WebElement (session=\"103d1ba3d1a49ec38024c46b65ffe225\", element=\"6eab648a-143a-4b58-b56d-25113177fdf4\")>,\n",
       " <selenium.webdriver.remote.webelement.WebElement (session=\"103d1ba3d1a49ec38024c46b65ffe225\", element=\"a8959a2a-03ec-4481-8fe9-7c944383f4ce\")>,\n",
       " <selenium.webdriver.remote.webelement.WebElement (session=\"103d1ba3d1a49ec38024c46b65ffe225\", element=\"65bf0352-659d-4d7d-a4cb-9217b1d0ac71\")>,\n",
       " <selenium.webdriver.remote.webelement.WebElement (session=\"103d1ba3d1a49ec38024c46b65ffe225\", element=\"df0dc48b-ef79-44ce-8de3-fcdd04604b7e\")>,\n",
       " <selenium.webdriver.remote.webelement.WebElement (session=\"103d1ba3d1a49ec38024c46b65ffe225\", element=\"266bb7ec-fc7b-4335-987d-a4b2301ca633\")>,\n",
       " <selenium.webdriver.remote.webelement.WebElement (session=\"103d1ba3d1a49ec38024c46b65ffe225\", element=\"570e24c0-1d4d-4fce-b027-ecc26845a420\")>,\n",
       " <selenium.webdriver.remote.webelement.WebElement (session=\"103d1ba3d1a49ec38024c46b65ffe225\", element=\"03b51e46-0e43-45a4-88f3-e608c03b7acf\")>,\n",
       " <selenium.webdriver.remote.webelement.WebElement (session=\"103d1ba3d1a49ec38024c46b65ffe225\", element=\"fbb659eb-cf5e-480b-9a96-50e18e6a826a\")>]"
      ]
     },
     "execution_count": 13,
     "metadata": {},
     "output_type": "execute_result"
    }
   ],
   "source": [
    "#a태그 전체 선택\n",
    "a_tag = driver.find_elements_by_css_selector(\"a\")\n",
    "a_tag"
   ]
  },
  {
   "cell_type": "code",
   "execution_count": 20,
   "id": "9c2a37ae",
   "metadata": {},
   "outputs": [
    {
     "data": {
      "text/plain": [
       "<html><head>\n",
       "<title>나의 웹 페이지</title>\n",
       "</head>\n",
       "<body>\n",
       "<h1> my web page </h1>\n",
       "<ul>\n",
       "<a href=\"./01.html\" name=\"link_get\" target=\"_blank\"> 01. 제목 가져오기(title) </a> <br/>\n",
       "<a href=\"./02.html\" name=\"text_get\" target=\"_blank\"> 02. 텍스트 가져오기(p) </a> <br/>\n",
       "<a href=\"./03.html\" name=\"link_get\" target=\"_blank\"> 03. 링크 가져오기(a) </a> <br/>\n",
       "<a href=\"https://pythonstart.github.io/web/04.html\" target=\"_blank\"> 04. 이미지 정보 가져오기(img) </a> <br/>\n",
       "<a href=\"./05.html\" target=\"_blank\"> 05. 리스트 정보 가져오기(ul,ol) </a> <br/>\n",
       "<a href=\"./06.html\" target=\"_blank\"> 06. id를 활용한 정보 획득 </a> <br/>\n",
       "<a href=\"./07.html\" target=\"_blank\"> 07. class를 활용한 정보 획득 </a> <br/>\n",
       "<a href=\"./08.html\" target=\"_blank\"> 08. 하나의 이미지 다운로드 </a> <br/>\n",
       "<a href=\"https://pythonstart.github.io/web/09.html\" target=\"_blank\"> 09. 여러개의 이미지 다운로드 </a> <br/>\n",
       "<a href=\"./10.html\" id=\"rank\" target=\"_blank\"> 10. 랭킹 정보 가져오기(웹 크롤링) </a> <br/>\n",
       "</ul>\n",
       "</body></html>"
      ]
     },
     "execution_count": 20,
     "metadata": {},
     "output_type": "execute_result"
    }
   ],
   "source": [
    "## 주어진 페이지 구조화\n",
    "soup = BeautifulSoup(driver.page_source, 'lxml')\n",
    "soup"
   ]
  },
  {
   "cell_type": "code",
   "execution_count": 21,
   "id": "aed4e8a2",
   "metadata": {
    "scrolled": true
   },
   "outputs": [
    {
     "data": {
      "text/plain": [
       "[<ul>\n",
       " <a href=\"./01.html\" name=\"link_get\" target=\"_blank\"> 01. 제목 가져오기(title) </a> <br/>\n",
       " <a href=\"./02.html\" name=\"text_get\" target=\"_blank\"> 02. 텍스트 가져오기(p) </a> <br/>\n",
       " <a href=\"./03.html\" name=\"link_get\" target=\"_blank\"> 03. 링크 가져오기(a) </a> <br/>\n",
       " <a href=\"https://pythonstart.github.io/web/04.html\" target=\"_blank\"> 04. 이미지 정보 가져오기(img) </a> <br/>\n",
       " <a href=\"./05.html\" target=\"_blank\"> 05. 리스트 정보 가져오기(ul,ol) </a> <br/>\n",
       " <a href=\"./06.html\" target=\"_blank\"> 06. id를 활용한 정보 획득 </a> <br/>\n",
       " <a href=\"./07.html\" target=\"_blank\"> 07. class를 활용한 정보 획득 </a> <br/>\n",
       " <a href=\"./08.html\" target=\"_blank\"> 08. 하나의 이미지 다운로드 </a> <br/>\n",
       " <a href=\"https://pythonstart.github.io/web/09.html\" target=\"_blank\"> 09. 여러개의 이미지 다운로드 </a> <br/>\n",
       " <a href=\"./10.html\" id=\"rank\" target=\"_blank\"> 10. 랭킹 정보 가져오기(웹 크롤링) </a> <br/>\n",
       " </ul>]"
      ]
     },
     "execution_count": 21,
     "metadata": {},
     "output_type": "execute_result"
    }
   ],
   "source": [
    "soup.select(\"ul\")"
   ]
  },
  {
   "cell_type": "code",
   "execution_count": 22,
   "id": "8e15413a",
   "metadata": {},
   "outputs": [
    {
     "data": {
      "text/plain": [
       "[<a href=\"./10.html\" id=\"rank\" target=\"_blank\"> 10. 랭킹 정보 가져오기(웹 크롤링) </a>]"
      ]
     },
     "execution_count": 22,
     "metadata": {},
     "output_type": "execute_result"
    }
   ],
   "source": [
    "soup.select(\"#rank\")"
   ]
  },
  {
   "cell_type": "code",
   "execution_count": 23,
   "id": "ebdc2a3a",
   "metadata": {},
   "outputs": [],
   "source": [
    "driver.get(\"https://pythonstart.github.io/web/07.html\")"
   ]
  },
  {
   "cell_type": "code",
   "execution_count": 26,
   "id": "50b7aa39",
   "metadata": {},
   "outputs": [],
   "source": [
    "## 주어진 페이지 구조화\n",
    "soup = BeautifulSoup(driver.page_source, 'lxml')\n",
    "soup.title"
   ]
  },
  {
   "cell_type": "code",
   "execution_count": 25,
   "id": "8185d36e",
   "metadata": {},
   "outputs": [
    {
     "data": {
      "text/plain": [
       "[<div class=\"word\">\n",
       " 오늘의 인기 키워드\n",
       " <ul>\n",
       " <li class=\"kw\">냉면</li>\n",
       " <li class=\"kw\">감자</li>\n",
       " <li class=\"kw\">오늘의 영화</li>\n",
       " <li class=\"kw\">할수있어</li>\n",
       " </ul>\n",
       " </div>]"
      ]
     },
     "execution_count": 25,
     "metadata": {},
     "output_type": "execute_result"
    }
   ],
   "source": [
    "soup.select(\"div.word\")"
   ]
  }
 ],
 "metadata": {
  "kernelspec": {
   "display_name": "Python 3",
   "language": "python",
   "name": "python3"
  },
  "language_info": {
   "codemirror_mode": {
    "name": "ipython",
    "version": 3
   },
   "file_extension": ".py",
   "mimetype": "text/x-python",
   "name": "python",
   "nbconvert_exporter": "python",
   "pygments_lexer": "ipython3",
   "version": "3.8.8"
  }
 },
 "nbformat": 4,
 "nbformat_minor": 5
}
