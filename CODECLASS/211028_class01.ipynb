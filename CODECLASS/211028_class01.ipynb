{
 "cells": [
  {
   "cell_type": "code",
   "execution_count": 1,
   "id": "73234c0d",
   "metadata": {},
   "outputs": [],
   "source": [
    "# 한글\n",
    "import matplotlib\n",
    "from matplotlib import font_manager, rc\n",
    "font_loc = \"C:/Windows/Fonts/malgunbd.ttf\"\n",
    "font_name = font_manager.FontProperties(fname=font_loc).get_name()\n",
    "matplotlib.rc('font', family=font_name)\n",
    "\n",
    "matplotlib.rcParams['axes.unicode_minus'] = False"
   ]
  },
  {
   "cell_type": "code",
   "execution_count": 3,
   "id": "07a0d23b",
   "metadata": {},
   "outputs": [],
   "source": [
    "import os, warnings\n",
    "warnings.filterwarnings(action='ignore')"
   ]
  },
  {
   "cell_type": "code",
   "execution_count": 4,
   "id": "1cb0fd42",
   "metadata": {},
   "outputs": [],
   "source": [
    "import numpy as np\n",
    "import matplotlib.pyplot as plt"
   ]
  },
  {
   "cell_type": "code",
   "execution_count": 5,
   "id": "87bba364",
   "metadata": {},
   "outputs": [
    {
     "name": "stdout",
     "output_type": "stream",
     "text": [
      "(1000, 3)\n"
     ]
    }
   ],
   "source": [
    "rnd = np.random.RandomState(0)\n",
    "X_org = rnd.normal(size=(1000,3))\n",
    "print(X_org.shape)"
   ]
  },
  {
   "cell_type": "code",
   "execution_count": 6,
   "id": "4c28a903",
   "metadata": {},
   "outputs": [
    {
     "name": "stdout",
     "output_type": "stream",
     "text": [
      "(3,)\n"
     ]
    }
   ],
   "source": [
    "w = rnd.normal(size=3)\n",
    "print(w.shape)"
   ]
  },
  {
   "cell_type": "code",
   "execution_count": 7,
   "id": "36d9181f",
   "metadata": {},
   "outputs": [],
   "source": [
    "X = rnd.poisson(10 * np.exp(X_org))\n",
    "y = np.dot(X_org, w)"
   ]
  },
  {
   "cell_type": "code",
   "execution_count": 8,
   "id": "37d198cc",
   "metadata": {},
   "outputs": [
    {
     "name": "stdout",
     "output_type": "stream",
     "text": [
      "(1000,)\n"
     ]
    }
   ],
   "source": [
    "print(y.shape)"
   ]
  },
  {
   "cell_type": "code",
   "execution_count": 9,
   "id": "df52a9a4",
   "metadata": {},
   "outputs": [
    {
     "data": {
      "text/plain": [
       "array([ 2.92614361e+00,  4.74436373e+00,  1.43948780e+00,  5.69621088e-01,\n",
       "        1.23092405e+00,  1.40483870e+00,  3.05343393e-01,  1.61798577e+00,\n",
       "        2.78397106e+00,  4.05268238e-01,  5.63583108e-01, -3.37171612e+00,\n",
       "        2.68835394e+00, -9.15412896e-01, -1.55075704e+00, -1.49947758e+00,\n",
       "       -2.58985170e+00,  4.61102309e-01,  1.91084568e-01,  1.62696476e-01,\n",
       "       -1.18280471e+00, -2.60353559e+00, -2.23028347e+00,  4.82646490e-01,\n",
       "        1.06704104e+00, -1.52006091e+00, -3.31051378e-01,  1.87597574e+00,\n",
       "        3.31447260e+00, -1.01635156e+00,  2.90159141e-02,  1.67783329e+00,\n",
       "        1.01786417e+00,  1.86576998e+00, -1.33860517e+00,  2.94705987e+00,\n",
       "        3.69196341e+00,  7.35101018e-01, -7.90758525e-02, -3.31351602e-03,\n",
       "       -5.96493955e-02,  1.73541057e+00,  2.81429991e-01,  1.49592629e-01,\n",
       "       -9.83497546e-01,  1.42951094e+00,  1.80028159e-01,  7.22159282e-01,\n",
       "        4.43865465e+00,  1.08417202e+00,  9.50953613e-01, -1.29677521e+00,\n",
       "        1.31222835e+00, -1.20171576e+00,  1.70277597e+00,  9.53312660e-01,\n",
       "        1.96768248e+00,  1.06965312e+00, -1.16821376e+00, -1.35971414e+00,\n",
       "       -1.27228879e+00, -3.00349160e+00, -1.64524701e+00,  1.69259390e+00,\n",
       "       -7.86817613e-01,  7.13337728e-02,  4.24900668e+00,  1.68985307e-01,\n",
       "        1.03090577e-01, -1.00544884e+00,  1.54054878e+00, -1.23331560e+00,\n",
       "       -7.01476985e-02, -5.71384108e-01, -2.88404638e-01,  1.63220719e-01,\n",
       "       -9.23962824e-01, -1.14236338e+00, -1.56892923e+00, -3.13312684e+00,\n",
       "       -1.22633587e+00, -4.58324224e-01,  2.54310243e+00, -1.97415366e+00,\n",
       "       -3.46112222e-02,  8.52639251e-01, -2.03880858e+00, -1.14061600e+00,\n",
       "       -3.03763965e+00, -4.70784083e-02, -1.16497221e+00,  2.95245122e-01,\n",
       "        9.53121901e-01,  3.10963850e+00, -2.61635362e-01,  2.36935370e-01,\n",
       "        1.91136608e+00,  6.65239295e-01,  4.18782269e-01,  6.59262502e-01,\n",
       "       -1.12511045e+00, -6.51976554e-01, -2.97117527e+00, -4.53670925e-01,\n",
       "       -2.16683088e+00,  1.59188916e-01, -7.68292542e-02, -1.03719844e+00,\n",
       "       -2.00354037e+00,  3.08680804e+00,  4.25768383e-01, -3.46799233e+00,\n",
       "       -2.46284722e+00,  3.30371053e+00, -1.73590660e+00, -6.72032962e-01,\n",
       "        1.20808394e+00, -1.43582239e+00, -1.12468663e+00, -1.10535736e+00,\n",
       "        1.00829337e+00,  5.14314280e-01, -4.97670922e-01, -1.52403743e+00,\n",
       "        1.19340967e+00,  1.33250049e+00,  3.65334413e-01, -5.48682349e-01,\n",
       "       -7.67833736e-01, -1.42650658e+00,  8.17671672e-01, -2.65427913e+00,\n",
       "        1.84797348e+00,  1.14563636e+00,  1.62661067e+00,  1.02286921e+00,\n",
       "       -5.88559433e-01,  1.12602221e+00,  3.10753540e+00,  8.93927750e-01,\n",
       "        2.05188505e+00,  1.12371695e-01,  9.59353324e-03,  3.26743363e-01,\n",
       "        1.65313874e+00,  9.68238204e-01,  1.36527569e+00, -1.91838889e+00,\n",
       "        1.27760887e+00, -1.96935146e+00, -1.26684081e+00,  4.06034979e-01,\n",
       "       -2.02185520e+00, -2.62886619e-01, -5.39051852e-01,  3.38824010e+00,\n",
       "       -3.27252067e+00, -9.35024184e-01,  3.18501024e+00, -8.20863581e-01,\n",
       "        1.91856728e+00,  1.18557587e-01,  2.73095681e+00, -1.94354253e-01,\n",
       "        2.18258545e+00, -4.33442916e-01, -1.71011491e+00,  5.95774361e-01,\n",
       "       -6.97248857e-01, -3.31749313e+00,  2.36088841e+00, -3.53207558e+00,\n",
       "        1.35800896e+00,  2.75448309e+00, -3.21193792e+00, -1.04492134e+00,\n",
       "       -3.02758875e+00,  1.32888399e+00, -2.34188782e+00, -3.93177629e-01,\n",
       "       -3.19502643e-01,  2.25106248e+00,  1.27145128e-01, -9.24593282e-01,\n",
       "        1.42704763e+00,  7.20936850e-01, -2.81100069e+00,  2.43853658e-01,\n",
       "       -1.09039618e+00,  9.27440796e-01, -3.21852283e-01,  1.60061363e+00,\n",
       "       -1.90458851e+00,  7.70820620e-01, -1.30613298e+00, -9.24230401e-01,\n",
       "       -2.41979500e+00,  6.98765810e-01,  8.29974387e-01, -8.53867234e-01,\n",
       "       -2.12480165e+00, -3.52685183e-01, -1.13369997e+00, -1.44579839e+00,\n",
       "        1.48854644e+00,  7.34463603e-01,  1.11441465e+00, -7.01582190e-01,\n",
       "       -1.31606721e+00,  2.63050391e+00, -1.21523584e+00, -8.94154601e-01,\n",
       "       -1.41294851e+00,  1.95879569e+00,  1.22096772e+00,  1.07564070e-01,\n",
       "       -1.07063221e-01, -3.57650319e+00,  6.22919847e-01, -2.20313227e+00,\n",
       "       -2.25625088e+00, -2.45655537e-02,  8.05899536e-01,  5.05869460e-01,\n",
       "       -3.64428881e+00, -2.41987792e-02,  2.56017332e+00,  2.12181096e+00,\n",
       "       -2.90034604e+00, -2.85947666e+00,  1.23856190e+00, -3.26014658e+00,\n",
       "       -1.02626227e+00,  1.04064047e+00, -6.60904575e-01,  3.93369938e+00,\n",
       "        2.21660259e+00,  7.20616120e-01,  2.14986937e+00, -9.54430502e-02,\n",
       "       -9.27663111e-01, -1.42361998e+00, -8.72125236e-01,  7.41653844e-01,\n",
       "       -1.69273927e+00, -3.10958286e+00, -5.93323306e-01, -8.03319296e-01,\n",
       "       -9.05069471e-01,  7.49564553e-02,  2.34813577e-01,  2.59999110e+00,\n",
       "        6.61475092e-01, -2.78373531e+00,  1.08366560e+00, -1.81727613e+00,\n",
       "        2.88223450e+00, -5.10769881e-01, -1.59369354e+00, -1.42664274e+00,\n",
       "        2.59937094e+00, -1.88314411e+00,  1.23894946e+00, -4.91246975e-01,\n",
       "       -5.85032713e-01, -1.26652797e+00, -1.31018521e+00,  1.26410559e+00,\n",
       "        1.67256730e+00, -9.88989734e-01, -5.97387607e-01, -9.80650524e-01,\n",
       "       -9.69245882e-03,  2.89259387e-02, -1.59442407e+00,  4.53797449e-01,\n",
       "        1.85720798e+00,  1.61405877e+00,  6.72534351e-01, -2.86991361e-01,\n",
       "        6.00639344e-02,  3.65308980e+00,  9.83314089e-01, -1.28450862e+00,\n",
       "       -1.20587674e+00, -1.58376081e+00, -9.70522439e-01,  2.75438932e-01,\n",
       "       -2.02802847e-01, -3.86762744e-01,  1.39148029e+00, -8.79947952e-01,\n",
       "       -8.48787346e-01, -1.99387477e+00,  6.18142413e-02, -8.21746804e-01,\n",
       "        5.03129592e-02,  1.30163453e+00, -1.03116124e+00, -9.34406691e-01,\n",
       "       -2.75970676e+00, -3.89857329e-01, -1.61476389e+00,  1.81307024e+00,\n",
       "        6.17843597e-01,  1.54014360e+00,  6.23929960e-01,  2.76319443e+00,\n",
       "        1.43415585e+00, -3.74735810e-01,  2.35536364e+00, -2.27688946e+00,\n",
       "       -5.57101563e-01, -7.87511447e-01,  2.34440361e+00,  4.04651790e-01,\n",
       "        8.50543174e-01,  1.23342490e+00,  8.83879858e-01,  1.98845203e-01,\n",
       "       -8.28807707e-02,  1.04881474e+00,  8.32916810e-01,  7.84214834e-01,\n",
       "        9.18867573e-01, -6.20913550e-01, -4.87186474e-01, -5.57865313e-01,\n",
       "       -1.20150656e+00,  1.97664732e+00,  8.95893111e-01,  5.00801333e-01,\n",
       "       -1.31147870e-01, -3.56561978e-01, -6.39419004e-01,  8.36709071e-01,\n",
       "        1.71881890e-01,  2.58001004e+00, -1.80119535e+00, -2.56348447e+00,\n",
       "        2.06472636e+00, -6.84099222e-01, -2.41070562e+00, -1.27116232e+00,\n",
       "       -8.01689880e-01,  2.16990884e+00, -5.59602241e-01,  6.99374881e-01,\n",
       "        2.47181065e+00, -8.38118949e-01, -1.63739532e+00,  3.45320162e+00,\n",
       "       -1.39453078e+00, -7.91148700e-01,  2.92920554e-01,  6.44214314e-01,\n",
       "        8.07329842e-01, -2.14939263e+00,  6.03841537e-01, -2.19685903e+00,\n",
       "       -8.87804224e-01, -1.70960993e+00, -2.22699091e+00, -3.90976142e-01,\n",
       "       -3.27421830e+00,  2.79825246e-01,  1.05840288e+00,  9.39720587e-01,\n",
       "       -1.10828437e+00,  1.49995710e+00,  5.36637352e-01, -1.14885758e+00,\n",
       "       -2.04707264e-01,  1.45445167e-02, -2.06494429e+00,  1.27476466e+00,\n",
       "       -1.46593321e+00,  4.83120285e-01, -3.83751385e-01,  9.06642735e-01,\n",
       "       -3.25764070e+00, -1.40046704e+00, -4.86588484e-01, -1.50942050e-01,\n",
       "        6.03951237e-01,  2.22437937e+00,  1.79717625e+00,  2.72699299e+00,\n",
       "        1.32585356e+00,  7.20092805e-01, -4.38968673e-01,  8.36998738e-01,\n",
       "        8.82504360e-01,  2.66588960e+00, -4.64006791e-01, -2.61312858e-01,\n",
       "        1.32443903e+00,  1.75042764e+00,  2.80660970e+00, -2.15776477e+00,\n",
       "       -2.72585331e+00,  5.23643740e-01,  7.39966504e-01,  1.24103043e+00,\n",
       "        8.57786384e-01,  5.00138849e-01, -2.21747786e+00,  4.04219951e-01,\n",
       "        1.41292087e-01, -6.96216228e-01,  2.01712906e+00,  2.12565347e+00,\n",
       "        1.72178149e+00, -4.43838291e-01,  9.82137128e-01,  1.32002230e+00,\n",
       "       -1.36548940e+00,  9.57702801e-01, -9.43239209e-01,  1.55126307e+00,\n",
       "       -5.49694622e-01,  3.47023997e+00, -1.08246846e+00,  1.69901345e+00,\n",
       "        2.06076326e+00,  5.75368394e-01, -1.78205615e+00, -4.07430519e-01,\n",
       "       -1.94671573e+00, -9.80563182e-01,  2.91562150e-01, -5.38727997e-01,\n",
       "        4.87021305e-01, -3.89132819e+00,  5.40165173e-01, -2.32314922e+00,\n",
       "        5.62501960e-01, -1.05316185e+00, -7.97859462e-01, -7.24169271e-01,\n",
       "       -8.77807529e-01, -5.25214675e-01,  1.93927749e+00,  1.08100845e+00,\n",
       "        3.13442808e-01, -2.32982657e+00, -7.30155877e-01, -9.47883939e-01,\n",
       "        6.61430711e-01, -1.12564389e+00, -2.39955259e-02,  4.58106804e+00,\n",
       "       -6.76803422e-01, -1.14301674e+00, -5.86185996e-01, -1.23700624e+00,\n",
       "        1.18767385e+00,  4.27576603e-01, -1.66430800e-01,  3.80238790e-01,\n",
       "        1.64943609e+00,  2.43532802e+00, -4.65136981e-01,  1.95532349e+00,\n",
       "        8.43288721e-01, -1.21013934e+00,  1.03897355e+00,  3.95906543e-01,\n",
       "       -1.17965851e+00,  2.54739508e+00, -9.95139445e-01, -1.20497440e+00,\n",
       "        2.16096400e+00, -2.10529331e+00,  1.66859950e+00,  1.02314955e+00,\n",
       "       -2.15533173e+00, -4.87769409e+00, -3.25423446e-01, -1.81519362e+00,\n",
       "       -4.21681584e-01,  1.23903431e+00, -4.47723641e+00,  7.25560652e-01,\n",
       "        9.09399916e-01, -1.67847142e+00, -2.99652342e+00,  8.90708554e-01,\n",
       "       -2.01218003e-01,  1.18013901e+00,  1.22505132e+00, -4.71970755e-01,\n",
       "       -8.08702662e-01,  6.01223835e-01, -1.75945105e+00,  7.42174657e-01,\n",
       "        4.27103374e+00, -1.55535112e+00, -2.66110785e+00, -9.93978953e-01,\n",
       "       -8.70761318e-02, -1.51169213e+00,  1.48100632e-01, -2.25955463e+00,\n",
       "       -3.20096553e+00,  4.49859770e-01, -1.57749096e-01, -9.31576796e-01,\n",
       "        1.32524701e+00,  1.21964468e+00, -1.90538219e+00,  4.24230689e-01,\n",
       "       -3.07000322e+00,  6.05731107e-02,  4.04020053e-01,  1.42971404e+00,\n",
       "       -6.62273459e-02,  3.68514921e-01,  1.22544294e+00,  6.02114293e-02,\n",
       "        2.29368523e+00,  1.49251296e+00, -1.24254285e-01, -1.92210077e+00,\n",
       "       -3.55409531e+00,  1.05939921e+00, -1.90882723e+00,  2.00172991e+00,\n",
       "       -1.23034855e+00,  4.51034533e+00, -1.82729503e+00,  2.17972301e+00,\n",
       "       -5.10880898e-01, -5.91708693e-01, -1.89287071e+00,  1.57598865e+00,\n",
       "       -1.57975802e+00,  2.62270877e+00, -1.42974607e+00,  3.08515002e+00,\n",
       "       -1.69895371e+00,  2.48253615e+00,  3.26509976e-01,  2.36804177e+00,\n",
       "        8.69188372e-01, -9.71927076e-01, -1.41044651e+00,  2.15981078e+00,\n",
       "        1.91119301e+00,  5.92610402e-01,  1.66545919e+00,  9.18473493e-01,\n",
       "        1.15100812e+00,  6.81404479e-01, -3.64540716e+00,  1.04602894e+00,\n",
       "        9.30756313e-02,  5.64084949e-01,  1.30167328e+00,  1.32056054e+00,\n",
       "        4.57020347e-01,  4.05991774e+00,  4.12652716e-02, -3.31996432e+00,\n",
       "        3.68393741e+00,  6.59608268e-01,  5.96703987e-01, -2.49930453e-01,\n",
       "       -4.25688316e-01, -1.96836468e+00,  1.07019499e+00, -4.06626505e-01,\n",
       "       -7.90633534e-01,  6.47826983e-01,  2.02834774e+00,  7.09614384e-01,\n",
       "        6.17308095e-01,  3.49357897e+00,  1.22792909e+00, -4.84400392e-01,\n",
       "       -2.16909662e+00, -2.41187838e+00, -4.65057671e+00, -4.25898922e-01,\n",
       "        5.97533762e-01,  9.63501672e-02,  1.48932553e+00, -9.45626796e-01,\n",
       "        9.31030132e-01,  2.81641728e-01, -2.08465405e-01,  1.33076669e+00,\n",
       "        2.08447307e+00,  2.86321065e-02, -2.60098124e+00, -9.80026926e-01,\n",
       "       -9.85874993e-01,  6.47826762e-02, -2.00410720e+00, -6.66700675e-03,\n",
       "        9.80741381e-01,  2.15891927e+00, -2.68185681e+00,  4.14421105e-01,\n",
       "        1.21538496e+00, -7.29416819e-01, -2.44032927e+00,  7.43501878e-02,\n",
       "       -2.29822114e+00,  9.27867836e-01, -7.20250094e-01, -7.99308121e-01,\n",
       "        7.99632332e-01, -2.50595495e+00, -6.17611391e-01, -3.82869876e-02,\n",
       "        1.26279471e+00, -4.95591263e-01, -3.60580497e-01,  4.38809901e-01,\n",
       "       -1.45299738e+00, -1.33189344e+00,  5.08671966e-01, -6.95150022e-01,\n",
       "       -2.12971525e+00, -1.08132848e+00,  1.77855240e+00, -9.12785942e-01,\n",
       "       -1.03907294e+00,  1.91239541e+00, -1.68241603e+00,  9.84403205e-01,\n",
       "        1.71444876e+00,  1.44745690e+00, -9.29889989e-01,  8.87085306e-01,\n",
       "       -1.08310365e+00, -3.26426723e+00,  2.18105533e+00, -3.15462470e+00,\n",
       "        1.29977895e+00, -3.16000319e-01,  4.96911931e-01,  1.95480347e+00,\n",
       "       -4.38689392e-01,  1.91533378e+00,  8.08352383e-01,  2.21187061e+00,\n",
       "        4.01806479e-01,  3.05386337e+00, -1.64230952e+00, -1.38373189e+00,\n",
       "       -1.42712715e-01,  2.57276348e+00,  1.32016662e+00, -2.60184074e+00,\n",
       "       -1.17679043e-01, -1.15808138e+00, -6.31998326e-01,  3.56100880e-01,\n",
       "       -1.23823463e+00, -1.49169268e+00,  7.87225066e-01,  8.93892575e-01,\n",
       "        1.88876787e+00,  9.34682911e-01, -2.38944001e+00, -2.59167739e+00,\n",
       "       -4.40810593e-01, -4.72348413e-01, -4.52422632e-02,  1.32290562e+00,\n",
       "        1.72671336e+00, -1.37569106e-01,  4.44592398e-01, -1.61775653e+00,\n",
       "       -1.08334168e-01,  1.75392799e-01,  2.85927314e+00,  2.97555097e+00,\n",
       "       -1.77239864e+00, -1.28291227e-01,  1.61058409e-01,  6.31872821e-02,\n",
       "       -9.23467937e-01, -1.09514423e-01,  3.26699720e-01,  1.08841746e+00,\n",
       "       -2.18396950e+00,  1.97669823e+00,  2.33573150e+00,  1.61502991e-01,\n",
       "       -1.07160841e-01,  1.30703499e+00, -2.23473225e+00, -2.76435887e+00,\n",
       "        1.91619483e+00, -3.32428617e-01,  7.55055943e-01, -1.35744673e+00,\n",
       "        1.65237090e-01, -6.09636577e-01,  1.21269286e+00, -1.87111457e-01,\n",
       "       -6.75743380e-01, -1.96084261e+00, -9.00364125e-01,  2.73616697e-01,\n",
       "       -1.65622569e+00,  9.23021296e-02, -1.65816228e+00, -1.36693927e+00,\n",
       "        1.34715460e+00, -9.06683280e-01, -1.12029041e+00, -2.36824097e+00,\n",
       "        5.55342382e-03, -7.83708082e-01, -7.01725657e-01, -1.42317999e+00,\n",
       "       -1.70137821e+00,  1.97047653e+00, -9.99020723e-01,  1.27672595e+00,\n",
       "       -1.33312365e-02,  2.46817961e+00,  6.01339655e-01, -1.50047176e+00,\n",
       "       -8.75042627e-01, -1.98075290e+00,  6.89417667e-01, -2.76147048e+00,\n",
       "        1.22675285e-01,  4.80879213e-01,  1.58494547e+00,  1.28450776e+00,\n",
       "       -1.45388311e-02,  2.18855895e+00, -3.02839520e+00, -5.57556738e-01,\n",
       "        1.63555234e+00, -1.07947154e+00,  1.37029278e+00, -1.16924274e+00,\n",
       "       -1.98746867e+00,  1.31325129e+00, -5.32210463e-01,  1.72120185e+00,\n",
       "       -3.75592155e+00,  7.71635254e-01,  1.63715011e+00, -1.98046522e-01,\n",
       "       -8.27813026e-01,  1.97457278e+00, -1.89898083e+00,  1.06790973e+00,\n",
       "        4.60233709e-01, -1.43371879e-03,  1.37192013e+00,  2.96569741e+00,\n",
       "       -1.47625309e+00, -1.34528483e+00, -1.51495555e+00, -6.40514832e-01,\n",
       "        1.36380092e-01,  1.01684873e+00, -2.59114387e+00, -1.74568488e-02,\n",
       "        7.58447667e-01,  1.12327768e+00,  6.91133616e-01,  2.15268367e-02,\n",
       "       -6.33999828e-01, -4.31172629e-01, -2.87416547e+00,  2.63712233e+00,\n",
       "        1.10369238e+00,  1.05638282e+00, -5.51488829e-02, -3.07355885e+00,\n",
       "        1.05315626e+00,  1.25028278e+00,  2.12353263e+00,  1.85305709e-01,\n",
       "        1.22422544e+00,  9.37305654e-01,  3.45236092e-02, -1.59792999e+00,\n",
       "       -1.88920869e+00, -2.89014094e-01,  2.91380044e+00, -1.45656783e+00,\n",
       "       -3.23295582e-01,  1.69226115e+00, -4.22049937e-02, -2.26422387e+00,\n",
       "        9.21839218e-02, -5.07073978e-02, -5.35238935e-01,  7.35697877e-01,\n",
       "        3.12255607e-02,  1.47772359e+00, -6.04047375e-01,  1.20695835e+00,\n",
       "        6.89034151e-01,  4.03638855e+00,  8.57070239e-01, -1.11592997e+00,\n",
       "       -6.39478657e-02,  1.31716748e+00, -4.91314448e-02,  4.36659991e-01,\n",
       "       -1.32662226e+00,  1.18982462e+00,  1.39427686e+00, -1.60365918e-01,\n",
       "        8.53247349e-01,  3.33573057e+00, -1.59881638e+00, -9.06131328e-01,\n",
       "       -1.31836139e+00, -1.06643682e+00, -2.51843944e-01, -1.68549682e-01,\n",
       "       -3.98901854e+00, -7.99145145e-01,  6.94276692e-01,  2.77316312e+00,\n",
       "       -2.47488124e+00,  6.92482129e-01,  2.81231619e-01,  1.97004380e+00,\n",
       "        1.50281859e+00, -2.53882454e+00,  2.61178766e+00, -7.16459760e-01,\n",
       "       -3.38392072e+00, -9.96888205e-01, -1.17697774e+00,  1.27553071e+00,\n",
       "        2.97851052e-01, -8.22806060e-02,  1.14156827e+00,  3.46099137e-01,\n",
       "       -2.18674334e+00,  1.05130784e+00, -1.07890075e+00,  6.31571446e-01,\n",
       "        3.25895736e+00,  1.12422112e+00, -3.22427468e+00,  1.58740739e+00,\n",
       "        1.07084958e+00,  1.44546179e+00,  1.42897879e+00,  1.25784047e-02,\n",
       "       -1.84208579e+00,  1.74462629e+00, -1.15331135e+00,  1.19420149e-01,\n",
       "       -3.35926506e+00,  1.48593973e+00, -1.91147804e+00,  3.88759458e+00,\n",
       "        4.95712258e-01, -4.98535487e-01, -2.35287378e+00,  3.29206882e-01,\n",
       "       -6.83406164e-01,  9.70884133e-01, -1.70092882e-01,  2.89180416e+00,\n",
       "       -6.40378060e-01,  6.69658950e-01, -8.23554166e-01,  5.57719871e-01,\n",
       "        3.42390680e+00, -1.32365476e+00, -6.40266576e-02,  1.35046135e-01,\n",
       "        1.16525750e+00, -1.03085939e+00,  1.42858025e+00, -2.31862640e+00,\n",
       "        1.55244870e+00, -8.54493721e-01,  1.30609587e+00,  7.31460323e-01,\n",
       "        2.86125699e-02, -3.27601532e+00, -3.86848375e-01,  1.15874879e+00,\n",
       "        1.38927409e+00, -5.30117278e-01, -2.45509911e+00,  9.61842653e-01,\n",
       "       -3.78218993e-01, -9.67921600e-01,  4.69505933e-01,  1.90653917e+00,\n",
       "       -4.16563286e+00, -1.81485246e-01, -1.47859266e+00,  9.03509457e-01,\n",
       "        1.06198583e+00, -1.78828290e+00,  1.73066471e+00,  9.21550166e-01,\n",
       "       -2.41814581e+00, -3.92977683e+00,  1.30386505e+00, -1.31164013e+00,\n",
       "        1.11068095e-01,  5.64005039e-01, -1.61162482e+00,  1.85659362e+00,\n",
       "       -1.84844756e+00, -2.42331817e-02, -4.02085430e-01, -1.18069611e+00,\n",
       "        5.14910464e-01,  1.39608333e+00, -2.46278652e+00,  1.96523332e+00,\n",
       "        7.50575972e-01, -2.47341637e+00,  1.24548853e+00,  6.96156309e-01,\n",
       "       -4.36436540e-01,  1.91454928e+00, -1.20497102e+00, -1.05267471e+00,\n",
       "       -1.09532010e+00,  5.91891125e-01,  9.95934107e-02,  8.03694094e-02,\n",
       "        9.44088885e-01,  2.69939294e+00, -1.89833680e+00, -1.23419185e+00,\n",
       "        3.28438130e-01, -8.10198342e-01, -5.35304216e-01,  1.52249308e+00,\n",
       "       -2.13382541e+00,  5.02046412e-01, -1.61012303e+00, -8.09496546e-01,\n",
       "        9.52049671e-01,  1.05673571e+00,  1.08076540e+00,  1.41457146e+00,\n",
       "        1.61321968e+00, -1.98650385e+00, -9.91569242e-01, -7.34975355e-01,\n",
       "        2.23880141e+00, -4.80457044e-01, -3.24310123e-01, -2.17277245e+00,\n",
       "       -2.40657921e+00, -4.11005395e-01, -9.31088572e-01, -4.85454617e-01,\n",
       "        2.35485200e+00,  3.30221704e+00, -1.81902394e+00, -9.13845464e-01,\n",
       "       -2.48713089e+00, -6.76101852e-01, -1.62540304e+00,  2.25570417e+00,\n",
       "       -1.23396507e+00,  3.04848224e+00, -4.38138793e-01, -1.94296285e+00,\n",
       "        6.76632080e-01,  1.54982166e+00, -2.71850149e+00, -1.80294159e+00,\n",
       "       -7.28217481e-01,  1.55779064e+00, -2.21271186e+00, -1.75843479e-01,\n",
       "        5.31188329e-02, -4.48231069e-01,  2.50018879e-01,  9.27683842e-01,\n",
       "        2.45971521e-01, -6.62046840e-01, -1.75802788e+00, -7.14096458e-01,\n",
       "        1.57718892e+00, -1.24800064e+00, -4.02184057e+00,  7.10797561e-01,\n",
       "       -1.91328292e+00, -1.82937921e+00,  1.79626587e+00, -9.86909925e-01])"
      ]
     },
     "execution_count": 9,
     "metadata": {},
     "output_type": "execute_result"
    }
   ],
   "source": [
    "y"
   ]
  },
  {
   "cell_type": "code",
   "execution_count": 11,
   "id": "2f7725e2",
   "metadata": {},
   "outputs": [
    {
     "data": {
      "text/plain": [
       "(1000, 3)"
      ]
     },
     "execution_count": 11,
     "metadata": {},
     "output_type": "execute_result"
    }
   ],
   "source": [
    "X.shape"
   ]
  },
  {
   "cell_type": "code",
   "execution_count": 10,
   "id": "4c22bf2e",
   "metadata": {
    "scrolled": true
   },
   "outputs": [
    {
     "name": "stdout",
     "output_type": "stream",
     "text": [
      "값들의 출현 횟수:  [28 38 68 48 61 59 45 56 37 40 35 34 36 26 23 26 27 21 23 23 18 21 10  9\n",
      " 17  9  7 14 12  7  3  8  4  5  5  3  4  2  4  1  1  3  2  5  3  8  2  5\n",
      "  2  1  2  3  3  2  2  3  3  0  1  2  1  0  0  3  1  0  0  0  1  3  0  1\n",
      "  0  2  0  1  1  0  0  0  0  1  0  0  2  2  0  1  1  0  0  0  0  1  1  0\n",
      "  0  0  0  0  0  0  1  0  0  0  0  0  1  1  0  0  1  0  0  0  0  0  0  0\n",
      "  1  0  0  0  0  1  0  0  0  0  0  0  0  0  0  0  0  0  0  0  1]\n"
     ]
    }
   ],
   "source": [
    "print(\"값들의 출현 횟수: \", np.bincount(X[:,0]))"
   ]
  },
  {
   "cell_type": "code",
   "execution_count": 12,
   "id": "3d905eb1",
   "metadata": {},
   "outputs": [
    {
     "data": {
      "text/plain": [
       "Text(0.5, 0, '값')"
      ]
     },
     "execution_count": 12,
     "metadata": {},
     "output_type": "execute_result"
    },
    {
     "data": {
      "image/png": "[encoded data removed]",
      "text/plain": [
       "<Figure size 432x288 with 1 Axes>"
      ]
     },
     "metadata": {
      "needs_background": "light"
     },
     "output_type": "display_data"
    }
   ],
   "source": [
    "plt.xlim(0, 160)\n",
    "plt.ylim(0, 70)\n",
    "bins = np.bincount(X[:, 0])\n",
    "plt.bar(range(len(bins)), bins, color='grey')\n",
    "plt.ylabel(\"출현 횟수\")\n",
    "plt.xlabel(\"값\")"
   ]
  },
  {
   "cell_type": "code",
   "execution_count": 13,
   "id": "212a3d40",
   "metadata": {
    "scrolled": true
   },
   "outputs": [
    {
     "data": {
      "text/plain": [
       "Text(0.5, 0, '값')"
      ]
     },
     "execution_count": 13,
     "metadata": {},
     "output_type": "execute_result"
    },
    {
     "data": {
      "image/png": "[encoded data removed]",
      "text/plain": [
       "<Figure size 864x720 with 2 Axes>"
      ]
     },
     "metadata": {
      "needs_background": "light"
     },
     "output_type": "display_data"
    }
   ],
   "source": [
    "plt.figure(figsize=(12, 10))\n",
    "\n",
    "plt.subplot(2,1,1)\n",
    "bins = np.bincount(X[:, 0])\n",
    "plt.bar(range(len(bins)), bins, color='grey')\n",
    "plt.ylabel(\"출현 횟수\")\n",
    "plt.xlabel(\"값\")\n",
    "\n",
    "plt.subplot(2,1,2)\n",
    "bins = np.bincount(X[:, 1])\n",
    "plt.bar(range(len(bins)), bins, color='grey')\n",
    "plt.ylabel(\"출현 횟수\")\n",
    "plt.xlabel(\"값\")"
   ]
  },
  {
   "cell_type": "code",
   "execution_count": 14,
   "id": "c9a24b3a",
   "metadata": {},
   "outputs": [],
   "source": [
    "from sklearn.linear_model import Ridge\n",
    "from sklearn.model_selection import train_test_split"
   ]
  },
  {
   "cell_type": "code",
   "execution_count": 15,
   "id": "0d9f60d3",
   "metadata": {},
   "outputs": [
    {
     "data": {
      "text/plain": [
       "0.6224186236310756"
      ]
     },
     "execution_count": 15,
     "metadata": {},
     "output_type": "execute_result"
    }
   ],
   "source": [
    "X_train, X_test, y_train, y_test = train_test_split(X, y, random_state=0)\n",
    "model = Ridge().fit(X_train, y_train)\n",
    "model.score(X_test, y_test)"
   ]
  },
  {
   "cell_type": "code",
   "execution_count": 16,
   "id": "8c718019",
   "metadata": {},
   "outputs": [],
   "source": [
    "X_train_log = np.log(X_train + 1)\n",
    "X_test_log = np.log(X_test + 1)"
   ]
  },
  {
   "cell_type": "code",
   "execution_count": 17,
   "id": "addc83e5",
   "metadata": {
    "scrolled": true
   },
   "outputs": [
    {
     "data": {
      "text/plain": [
       "Text(0.5, 0, '값(log적용)')"
      ]
     },
     "execution_count": 17,
     "metadata": {},
     "output_type": "execute_result"
    },
    {
     "data": {
      "image/png": "[encoded data removed]",
      "text/plain": [
       "<Figure size 864x720 with 2 Axes>"
      ]
     },
     "metadata": {
      "needs_background": "light"
     },
     "output_type": "display_data"
    }
   ],
   "source": [
    "plt.figure(figsize=(12, 10))\n",
    "\n",
    "plt.subplot(2,2,1)\n",
    "bins = np.bincount(X[:, 0])\n",
    "plt.bar(range(len(bins)), bins, color='grey')\n",
    "plt.ylabel(\"출현 횟수\")\n",
    "plt.xlabel(\"값\")\n",
    "\n",
    "plt.subplot(2,2,2)\n",
    "plt.hist( X_train_log[:, 0], bins=25, color='orange')\n",
    "plt.ylabel(\"출현 횟수\")\n",
    "plt.xlabel(\"값(log적용)\")"
   ]
  },
  {
   "cell_type": "code",
   "execution_count": 18,
   "id": "2acf0b77",
   "metadata": {},
   "outputs": [
    {
     "data": {
      "text/plain": [
       "0.8749342372887815"
      ]
     },
     "execution_count": 18,
     "metadata": {},
     "output_type": "execute_result"
    }
   ],
   "source": [
    "model = Ridge().fit(X_train_log, y_train)\n",
    "model.score(X_test_log, y_test)"
   ]
  },
  {
   "cell_type": "code",
   "execution_count": null,
   "id": "53a720f0",
   "metadata": {},
   "outputs": [],
   "source": []
  }
 ],
 "metadata": {
  "kernelspec": {
   "display_name": "Python 3",
   "language": "python",
   "name": "python3"
  },
  "language_info": {
   "codemirror_mode": {
    "name": "ipython",
    "version": 3
   },
   "file_extension": ".py",
   "mimetype": "text/x-python",
   "name": "python",
   "nbconvert_exporter": "python",
   "pygments_lexer": "ipython3",
   "version": "3.8.8"
  }
 },
 "nbformat": 4,
 "nbformat_minor": 5
}
