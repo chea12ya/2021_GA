{
 "cells": [
  {
   "cell_type": "markdown",
   "metadata": {
    "id": "G8CAY-u5_7ga"
   },
   "source": [
    "## RFM(Recency, Frequency, Monetary)\n",
    "\n",
    "* RFM은 가치있는 고객을 추출해내어 이를 기준으로 고객을 분류할 수 있는 매우 간단하면서도 유용하게 사용될 수 있는 방법으로 알려져 있어 마케팅에서 가장 많이 사용되고 있는 분석방법 중 하나이다. RFM은 구매 가능성이 높은 고객을 선정하기 위한 데이터 분석방법으로서, 분석과정을 통해 데이터는 의미있는 정보로 전환된다.\n",
    "\n",
    "* RFM은 Recency, Frequency, Monetary의 약자로 고객의 가치를 다음의 세 가지 기준에 의해 계산하고 있다.\n",
    "\n",
    "* Recency - 거래의 최근성: 고객이 얼마나 최근에 구입했는가?\n",
    "* Frequency - 거래빈도: 고객이 얼마나 빈번하게 우리 상품을 구입했나?\n",
    "* Monetary - 거래규모: 고객이 구입했던 총 금액은 어느 정도인가?\n",
    "\n",
    "### RFM 모형\n",
    "\n",
    "* Scoring 기법: RFM의 요인을 각각 5등급으로 등간격으로 분류하는 방법이다.\n",
    "* 현재 개발된 RFM 모형은 크게 4가지로 분류 할 수 있다. 이 문서의 내용들은 정설이 아니며 신뢰하기 어려움을 전제로 참고해야한다.\n",
    "    * 모델1. RFM 각 요소의 20% rule의 적용\n",
    "    * 모델2. 비율 척도에 의한 양적인 정도의 차이에 따른 등간격의 5등급 분류\n",
    "    * 모델3. 상하 20%를 제외한 등간격 척도에 의한 그룹 분류\n",
    "    * 모델4. 군집 분석에 의한 각 요소 별 5개의 그룹 분류\n",
    "* Data Mining 기법을 이용한 모형\n",
    "* 회귀분석\n",
    "* 선형 회귀 분석을 이용한 모형: 고객의 구매 최근성, 구매 빈도, 구매 금액 등 고객의 수익 기여도를 나타내는 세가지 지표들의 선형결합으로 세가지 지표들을 점수화 한다.\n",
    "* 다중 회귀 분석을 이용한 모형: 각 고객의 구매 행동을 나타내는 R,F,M의 변수들을 독립변수로하고 고객의 미래 구매 행동을 예측하는 기법.\n",
    "* 신경망을 적용한 모형: 로지스틱 회귀 모형을 보완하는 차원에서 연구.\n",
    "* 확률적 RFM모형:Colombo와 Weina의 확률적인 RFM모형은 과거의 고객의 응답 이력으로 고객의 미래 응답을 예측하는 행동모델이다.\n",
    "\n",
    "출처 : [RFM - 위키백과, 우리 모두의 백과사전](https://ko.wikipedia.org/wiki/RFM)\n",
    "\n",
    "\n",
    "\n",
    "\n",
    "### 파레토 법칙\n",
    "\n",
    "* 상위 고객의 20%가 기업 총 매출의 80%를 차지한다. \n",
    "* 80:20 법칙을 고려하면 고객 매출 데이터가 누적됨에 따라 마케팅에 데이터를 활용해 마케팅에 활용할 수 있다.\n",
    "    \n",
    "    \n",
    "### 고객 세분화\n",
    "\n",
    "* 상품과 서비스 판매정보 - 상품판매 자료 거래 금액, 횟수\n",
    "* 인구통계학적 정보 - 나이, 성별, 직업, 학력, 거주지역, 소득수준\n",
    "* 라이프 스타일 정보 - 순차적, 구매 정보, RFM 정보\n",
    "* 심리 정보 - 구매욕구\n",
    "* 행동 정보 - 구매패턴 Life Time Value\n",
    "    \n",
    "    \n",
    "### RFM 관련 논문\n",
    "\n",
    "[국회도서관 소장자료 -RFM을 적용한 고객 세분화 개선 및 우수고객 예측 모형에 관한 연구](http://dl.nanet.go.kr/law/SearchDetailView.do?cn=KDMT1200458026#none)"
   ]
  },
  {
   "cell_type": "markdown",
   "metadata": {
    "id": "VIHxBnRM_7gf"
   },
   "source": [
    "## 라이브러리 로드"
   ]
  },
  {
   "cell_type": "code",
   "execution_count": 13,
   "metadata": {
    "executionInfo": {
     "elapsed": 285,
     "status": "ok",
     "timestamp": 1634777179006,
     "user": {
      "displayName": "JINY ROH",
      "photoUrl": "https://lh3.googleusercontent.com/a-/AOh14Gi7VIzxUnr7MUJE9Bupl4bkwgEAsz4e1gsgrYIPZw=s64",
      "userId": "06348894780083418282"
     },
     "user_tz": -540
    },
    "id": "8A6d2MYH_7gf"
   },
   "outputs": [],
   "source": [
    "import pandas as pd\n",
    "import numpy as np\n",
    "import seaborn as sns\n",
    "import datetime as dt\n",
    "import matplotlib.pyplot as plt"
   ]
  },
  {
   "cell_type": "markdown",
   "metadata": {
    "id": "om2L2v7w_7gg"
   },
   "source": [
    "## 폰트설정"
   ]
  },
  {
   "cell_type": "code",
   "execution_count": 14,
   "metadata": {
    "executionInfo": {
     "elapsed": 6815,
     "status": "ok",
     "timestamp": 1634777186126,
     "user": {
      "displayName": "JINY ROH",
      "photoUrl": "https://lh3.googleusercontent.com/a-/AOh14Gi7VIzxUnr7MUJE9Bupl4bkwgEAsz4e1gsgrYIPZw=s64",
      "userId": "06348894780083418282"
     },
     "user_tz": -540
    },
    "id": "2rfCWih2_7gh"
   },
   "outputs": [],
   "source": [
    "def get_font_family():\n",
    "    \"\"\"\n",
    "    시스템 환경에 따른 기본 폰트명을 반환하는 함수\n",
    "    \"\"\"\n",
    "    import platform\n",
    "    system_name = platform.system()\n",
    "    # colab 사용자는 system_name이 'Linux'로 확인\n",
    "\n",
    "    if system_name == \"Darwin\" :\n",
    "        font_family = \"AppleGothic\"\n",
    "    elif system_name == \"Windows\":\n",
    "        font_family = \"Malgun Gothic\"\n",
    "    else:\n",
    "        # Linux\n",
    "        # colab에서는 runtime을 <꼭> 재시작 해야합니다.\n",
    "        # 런타임을 재시작 하지 않고 폰트 설치를 하면 기본 설정 폰트가 로드되어 한글이 깨집니다.\n",
    "        !apt-get update -qq\n",
    "        !apt-get install fonts-nanum -qq  > /dev/null\n",
    "\n",
    "        import matplotlib.font_manager as fm\n",
    "\n",
    "        fontpath = '/usr/share/fonts/truetype/nanum/NanumBarunGothic.ttf'\n",
    "        font = fm.FontProperties(fname=fontpath, size=9)\n",
    "        fm._rebuild()\n",
    "        font_family = \"NanumBarunGothic\"\n",
    "    return font_family\n",
    "\n",
    "plt.rc(\"font\", family=get_font_family())\n",
    "plt.rc(\"axes\", unicode_minus=False)"
   ]
  },
  {
   "cell_type": "markdown",
   "metadata": {
    "id": "B7ql6Cn-_7gh"
   },
   "source": [
    "## 데이터 로드"
   ]
  },
  {
   "cell_type": "code",
   "execution_count": 21,
   "metadata": {
    "colab": {
     "base_uri": "https://localhost:8080/"
    },
    "executionInfo": {
     "elapsed": 723,
     "status": "ok",
     "timestamp": 1634777186848,
     "user": {
      "displayName": "JINY ROH",
      "photoUrl": "https://lh3.googleusercontent.com/a-/AOh14Gi7VIzxUnr7MUJE9Bupl4bkwgEAsz4e1gsgrYIPZw=s64",
      "userId": "06348894780083418282"
     },
     "user_tz": -540
    },
    "id": "lzIZlmft_7gi",
    "outputId": "cc098ac1-b9ce-4f49-e6d4-bb87c0b6a37f"
   },
   "outputs": [
    {
     "data": {
      "text/plain": [
       "(541909, 8)"
      ]
     },
     "execution_count": 21,
     "metadata": {},
     "output_type": "execute_result"
    }
   ],
   "source": [
    "# raw = pd.read_excel(\"http://archive.ics.uci.edu/ml/machine-learning-databases/00352/Online%20Retail.xlsx\")\n",
    "# raw = pd.read_excel(\"data/Online Retail.xlsx\", engine=\"openpyxl\")\n",
    "raw = pd.read_csv(\"./online_retail.csv\")\n",
    "raw.shape"
   ]
  },
  {
   "cell_type": "code",
   "execution_count": 22,
   "metadata": {
    "colab": {
     "base_uri": "https://localhost:8080/",
     "height": 206
    },
    "executionInfo": {
     "elapsed": 16,
     "status": "ok",
     "timestamp": 1634777186849,
     "user": {
      "displayName": "JINY ROH",
      "photoUrl": "https://lh3.googleusercontent.com/a-/AOh14Gi7VIzxUnr7MUJE9Bupl4bkwgEAsz4e1gsgrYIPZw=s64",
      "userId": "06348894780083418282"
     },
     "user_tz": -540
    },
    "id": "9TMEV5R5_7gj",
    "outputId": "9825ae50-04b8-453c-a566-a21c6cb86452"
   },
   "outputs": [
    {
     "data": {
      "text/html": [
       "<div>\n",
       "<style scoped>\n",
       "    .dataframe tbody tr th:only-of-type {\n",
       "        vertical-align: middle;\n",
       "    }\n",
       "\n",
       "    .dataframe tbody tr th {\n",
       "        vertical-align: top;\n",
       "    }\n",
       "\n",
       "    .dataframe thead th {\n",
       "        text-align: right;\n",
       "    }\n",
       "</style>\n",
       "<table border=\"1\" class=\"dataframe\">\n",
       "  <thead>\n",
       "    <tr style=\"text-align: right;\">\n",
       "      <th></th>\n",
       "      <th>InvoiceNo</th>\n",
       "      <th>StockCode</th>\n",
       "      <th>Description</th>\n",
       "      <th>Quantity</th>\n",
       "      <th>InvoiceDate</th>\n",
       "      <th>UnitPrice</th>\n",
       "      <th>CustomerID</th>\n",
       "      <th>Country</th>\n",
       "    </tr>\n",
       "  </thead>\n",
       "  <tbody>\n",
       "    <tr>\n",
       "      <th>0</th>\n",
       "      <td>536365</td>\n",
       "      <td>85123A</td>\n",
       "      <td>WHITE HANGING HEART T-LIGHT HOLDER</td>\n",
       "      <td>6</td>\n",
       "      <td>2010-12-01 08:26:00</td>\n",
       "      <td>2.55</td>\n",
       "      <td>17850.0</td>\n",
       "      <td>United Kingdom</td>\n",
       "    </tr>\n",
       "    <tr>\n",
       "      <th>1</th>\n",
       "      <td>536365</td>\n",
       "      <td>71053</td>\n",
       "      <td>WHITE METAL LANTERN</td>\n",
       "      <td>6</td>\n",
       "      <td>2010-12-01 08:26:00</td>\n",
       "      <td>3.39</td>\n",
       "      <td>17850.0</td>\n",
       "      <td>United Kingdom</td>\n",
       "    </tr>\n",
       "    <tr>\n",
       "      <th>2</th>\n",
       "      <td>536365</td>\n",
       "      <td>84406B</td>\n",
       "      <td>CREAM CUPID HEARTS COAT HANGER</td>\n",
       "      <td>8</td>\n",
       "      <td>2010-12-01 08:26:00</td>\n",
       "      <td>2.75</td>\n",
       "      <td>17850.0</td>\n",
       "      <td>United Kingdom</td>\n",
       "    </tr>\n",
       "    <tr>\n",
       "      <th>3</th>\n",
       "      <td>536365</td>\n",
       "      <td>84029G</td>\n",
       "      <td>KNITTED UNION FLAG HOT WATER BOTTLE</td>\n",
       "      <td>6</td>\n",
       "      <td>2010-12-01 08:26:00</td>\n",
       "      <td>3.39</td>\n",
       "      <td>17850.0</td>\n",
       "      <td>United Kingdom</td>\n",
       "    </tr>\n",
       "    <tr>\n",
       "      <th>4</th>\n",
       "      <td>536365</td>\n",
       "      <td>84029E</td>\n",
       "      <td>RED WOOLLY HOTTIE WHITE HEART.</td>\n",
       "      <td>6</td>\n",
       "      <td>2010-12-01 08:26:00</td>\n",
       "      <td>3.39</td>\n",
       "      <td>17850.0</td>\n",
       "      <td>United Kingdom</td>\n",
       "    </tr>\n",
       "  </tbody>\n",
       "</table>\n",
       "</div>"
      ],
      "text/plain": [
       "  InvoiceNo StockCode                          Description  Quantity  \\\n",
       "0    536365    85123A   WHITE HANGING HEART T-LIGHT HOLDER         6   \n",
       "1    536365     71053                  WHITE METAL LANTERN         6   \n",
       "2    536365    84406B       CREAM CUPID HEARTS COAT HANGER         8   \n",
       "3    536365    84029G  KNITTED UNION FLAG HOT WATER BOTTLE         6   \n",
       "4    536365    84029E       RED WOOLLY HOTTIE WHITE HEART.         6   \n",
       "\n",
       "           InvoiceDate  UnitPrice  CustomerID         Country  \n",
       "0  2010-12-01 08:26:00       2.55     17850.0  United Kingdom  \n",
       "1  2010-12-01 08:26:00       3.39     17850.0  United Kingdom  \n",
       "2  2010-12-01 08:26:00       2.75     17850.0  United Kingdom  \n",
       "3  2010-12-01 08:26:00       3.39     17850.0  United Kingdom  \n",
       "4  2010-12-01 08:26:00       3.39     17850.0  United Kingdom  "
      ]
     },
     "execution_count": 22,
     "metadata": {},
     "output_type": "execute_result"
    }
   ],
   "source": [
    "raw.head()"
   ]
  },
  {
   "cell_type": "markdown",
   "metadata": {
    "id": "4Ut7HBpz_7gj"
   },
   "source": [
    "## 유효 데이터만 추출"
   ]
  },
  {
   "cell_type": "code",
   "execution_count": 23,
   "metadata": {
    "colab": {
     "base_uri": "https://localhost:8080/"
    },
    "executionInfo": {
     "elapsed": 14,
     "status": "ok",
     "timestamp": 1634777186849,
     "user": {
      "displayName": "JINY ROH",
      "photoUrl": "https://lh3.googleusercontent.com/a-/AOh14Gi7VIzxUnr7MUJE9Bupl4bkwgEAsz4e1gsgrYIPZw=s64",
      "userId": "06348894780083418282"
     },
     "user_tz": -540
    },
    "id": "jNie58x9_7gk",
    "outputId": "f880d6e4-9c47-42c2-dc85-2784a076a8e3"
   },
   "outputs": [
    {
     "data": {
      "text/plain": [
       "(397884, 8)"
      ]
     },
     "execution_count": 23,
     "metadata": {},
     "output_type": "execute_result"
    }
   ],
   "source": [
    "# \"CustomerID\" 가 있고 \"Quantity\" 가 0보다 큰 데이터를 가져옵니다.\n",
    "# 구매하고 취소한 건 중 취소한 건만 제외하고 구매 건은 남깁니다.\n",
    "raw_valid = raw[raw[\"CustomerID\"].notnull() & (raw[\"Quantity\"] > 0) & (raw[\"UnitPrice\"]>0)].copy()\n",
    "raw_valid.shape\n"
   ]
  },
  {
   "cell_type": "code",
   "execution_count": 24,
   "metadata": {},
   "outputs": [
    {
     "data": {
      "text/html": [
       "<div>\n",
       "<style scoped>\n",
       "    .dataframe tbody tr th:only-of-type {\n",
       "        vertical-align: middle;\n",
       "    }\n",
       "\n",
       "    .dataframe tbody tr th {\n",
       "        vertical-align: top;\n",
       "    }\n",
       "\n",
       "    .dataframe thead th {\n",
       "        text-align: right;\n",
       "    }\n",
       "</style>\n",
       "<table border=\"1\" class=\"dataframe\">\n",
       "  <thead>\n",
       "    <tr style=\"text-align: right;\">\n",
       "      <th></th>\n",
       "      <th>InvoiceNo</th>\n",
       "      <th>StockCode</th>\n",
       "      <th>Description</th>\n",
       "      <th>Quantity</th>\n",
       "      <th>InvoiceDate</th>\n",
       "      <th>UnitPrice</th>\n",
       "      <th>CustomerID</th>\n",
       "      <th>Country</th>\n",
       "    </tr>\n",
       "  </thead>\n",
       "  <tbody>\n",
       "    <tr>\n",
       "      <th>0</th>\n",
       "      <td>536365</td>\n",
       "      <td>85123A</td>\n",
       "      <td>WHITE HANGING HEART T-LIGHT HOLDER</td>\n",
       "      <td>6</td>\n",
       "      <td>2010-12-01 08:26:00</td>\n",
       "      <td>2.55</td>\n",
       "      <td>17850.0</td>\n",
       "      <td>United Kingdom</td>\n",
       "    </tr>\n",
       "  </tbody>\n",
       "</table>\n",
       "</div>"
      ],
      "text/plain": [
       "  InvoiceNo StockCode                         Description  Quantity  \\\n",
       "0    536365    85123A  WHITE HANGING HEART T-LIGHT HOLDER         6   \n",
       "\n",
       "           InvoiceDate  UnitPrice  CustomerID         Country  \n",
       "0  2010-12-01 08:26:00       2.55     17850.0  United Kingdom  "
      ]
     },
     "execution_count": 24,
     "metadata": {},
     "output_type": "execute_result"
    }
   ],
   "source": [
    "raw_valid.head(1)"
   ]
  },
  {
   "cell_type": "markdown",
   "metadata": {
    "id": "NiD31mT7_7gk"
   },
   "source": [
    "## 구매 금액 계산"
   ]
  },
  {
   "cell_type": "code",
   "execution_count": 25,
   "metadata": {
    "executionInfo": {
     "elapsed": 11,
     "status": "ok",
     "timestamp": 1634777186849,
     "user": {
      "displayName": "JINY ROH",
      "photoUrl": "https://lh3.googleusercontent.com/a-/AOh14Gi7VIzxUnr7MUJE9Bupl4bkwgEAsz4e1gsgrYIPZw=s64",
      "userId": "06348894780083418282"
     },
     "user_tz": -540
    },
    "id": "1-6RLYOA_7gk"
   },
   "outputs": [],
   "source": [
    "# TotalPrice 는 RFM 중 MonetaryValue의 값이 됩니다.\n",
    "raw_valid[\"TotalPrice\"] = raw_valid[\"Quantity\"] * raw_valid[\"UnitPrice\"]"
   ]
  },
  {
   "cell_type": "code",
   "execution_count": 26,
   "metadata": {
    "colab": {
     "base_uri": "https://localhost:8080/"
    },
    "executionInfo": {
     "elapsed": 11,
     "status": "ok",
     "timestamp": 1634777186849,
     "user": {
      "displayName": "JINY ROH",
      "photoUrl": "https://lh3.googleusercontent.com/a-/AOh14Gi7VIzxUnr7MUJE9Bupl4bkwgEAsz4e1gsgrYIPZw=s64",
      "userId": "06348894780083418282"
     },
     "user_tz": -540
    },
    "id": "N0hjrNpv_7gl",
    "outputId": "400bfbc6-bb28-46d3-ba34-bec5d9270f25",
    "scrolled": false
   },
   "outputs": [
    {
     "data": {
      "text/plain": [
       "count    397884.000000\n",
       "mean         22.397000\n",
       "std         309.071041\n",
       "min           0.001000\n",
       "25%           4.680000\n",
       "50%          11.800000\n",
       "75%          19.800000\n",
       "max      168469.600000\n",
       "Name: TotalPrice, dtype: float64"
      ]
     },
     "execution_count": 26,
     "metadata": {},
     "output_type": "execute_result"
    }
   ],
   "source": [
    "# TotalPrice 의 기술통계값을 봅니다.\n",
    "raw_valid[\"TotalPrice\"].describe()"
   ]
  },
  {
   "cell_type": "markdown",
   "metadata": {
    "id": "qiJISwQQ_7gl"
   },
   "source": [
    "## 이상치 제거"
   ]
  },
  {
   "cell_type": "code",
   "execution_count": 27,
   "metadata": {
    "colab": {
     "base_uri": "https://localhost:8080/",
     "height": 81
    },
    "executionInfo": {
     "elapsed": 10,
     "status": "ok",
     "timestamp": 1634777186850,
     "user": {
      "displayName": "JINY ROH",
      "photoUrl": "https://lh3.googleusercontent.com/a-/AOh14Gi7VIzxUnr7MUJE9Bupl4bkwgEAsz4e1gsgrYIPZw=s64",
      "userId": "06348894780083418282"
     },
     "user_tz": -540
    },
    "id": "sy4b4F5w_7gl",
    "outputId": "fd11a11c-ca23-40ff-dd2c-333db4667609",
    "scrolled": true
   },
   "outputs": [
    {
     "data": {
      "text/html": [
       "<div>\n",
       "<style scoped>\n",
       "    .dataframe tbody tr th:only-of-type {\n",
       "        vertical-align: middle;\n",
       "    }\n",
       "\n",
       "    .dataframe tbody tr th {\n",
       "        vertical-align: top;\n",
       "    }\n",
       "\n",
       "    .dataframe thead th {\n",
       "        text-align: right;\n",
       "    }\n",
       "</style>\n",
       "<table border=\"1\" class=\"dataframe\">\n",
       "  <thead>\n",
       "    <tr style=\"text-align: right;\">\n",
       "      <th></th>\n",
       "      <th>InvoiceNo</th>\n",
       "      <th>StockCode</th>\n",
       "      <th>Description</th>\n",
       "      <th>Quantity</th>\n",
       "      <th>InvoiceDate</th>\n",
       "      <th>UnitPrice</th>\n",
       "      <th>CustomerID</th>\n",
       "      <th>Country</th>\n",
       "      <th>TotalPrice</th>\n",
       "    </tr>\n",
       "  </thead>\n",
       "  <tbody>\n",
       "    <tr>\n",
       "      <th>540421</th>\n",
       "      <td>581483</td>\n",
       "      <td>23843</td>\n",
       "      <td>PAPER CRAFT , LITTLE BIRDIE</td>\n",
       "      <td>80995</td>\n",
       "      <td>2011-12-09 09:15:00</td>\n",
       "      <td>2.08</td>\n",
       "      <td>16446.0</td>\n",
       "      <td>United Kingdom</td>\n",
       "      <td>168469.6</td>\n",
       "    </tr>\n",
       "  </tbody>\n",
       "</table>\n",
       "</div>"
      ],
      "text/plain": [
       "       InvoiceNo StockCode                  Description  Quantity  \\\n",
       "540421    581483     23843  PAPER CRAFT , LITTLE BIRDIE     80995   \n",
       "\n",
       "                InvoiceDate  UnitPrice  CustomerID         Country  TotalPrice  \n",
       "540421  2011-12-09 09:15:00       2.08     16446.0  United Kingdom    168469.6  "
      ]
     },
     "execution_count": 27,
     "metadata": {},
     "output_type": "execute_result"
    }
   ],
   "source": [
    "# 범위를 설정하여 이상치를 찾습니다.\n",
    "# 160000 보다 큰 값을 찾습니다.\n",
    "raw_valid[raw_valid[\"TotalPrice\"] > 160000]"
   ]
  },
  {
   "cell_type": "code",
   "execution_count": 28,
   "metadata": {
    "colab": {
     "base_uri": "https://localhost:8080/"
    },
    "executionInfo": {
     "elapsed": 9,
     "status": "ok",
     "timestamp": 1634777186850,
     "user": {
      "displayName": "JINY ROH",
      "photoUrl": "https://lh3.googleusercontent.com/a-/AOh14Gi7VIzxUnr7MUJE9Bupl4bkwgEAsz4e1gsgrYIPZw=s64",
      "userId": "06348894780083418282"
     },
     "user_tz": -540
    },
    "id": "h1IAbwSX_7gl",
    "outputId": "74b7e888-63ef-4add-bf33-d12935cf648d"
   },
   "outputs": [
    {
     "data": {
      "text/plain": [
       "(397883, 9)"
      ]
     },
     "execution_count": 28,
     "metadata": {},
     "output_type": "execute_result"
    }
   ],
   "source": [
    "# 이상치는 제외합니다.\n",
    "# 160000 보다 큰 값을 제외합니다.\n",
    "raw_valid = raw_valid[raw_valid[\"TotalPrice\"] < 160000]\n",
    "raw_valid.shape\n"
   ]
  },
  {
   "cell_type": "markdown",
   "metadata": {
    "id": "cSPxnzv8_7gm"
   },
   "source": [
    "## 중복 데이터 확인\n",
    "* 중복 데이터는 여러 이유로 발생할 수 있습니다. 네트워크 통신 문제나 쇼핑몰의 UI 구성 등의 다양한 이슈로 발생할 수 있습니다.\n",
    "* 예를 들면 주문을 하고 새로고침을 했을 때 다시 주문 트랜잭션에 들어가거나 하는 이슈가 발생할 가능성도 있습니다."
   ]
  },
  {
   "cell_type": "code",
   "execution_count": 30,
   "metadata": {
    "colab": {
     "base_uri": "https://localhost:8080/",
     "height": 423
    },
    "executionInfo": {
     "elapsed": 446,
     "status": "ok",
     "timestamp": 1634777187289,
     "user": {
      "displayName": "JINY ROH",
      "photoUrl": "https://lh3.googleusercontent.com/a-/AOh14Gi7VIzxUnr7MUJE9Bupl4bkwgEAsz4e1gsgrYIPZw=s64",
      "userId": "06348894780083418282"
     },
     "user_tz": -540
    },
    "id": "HazbV-wy_7gm",
    "outputId": "6b16e922-cc5e-4f1d-a551-7ed59c1c0f08"
   },
   "outputs": [
    {
     "data": {
      "text/html": [
       "<div>\n",
       "<style scoped>\n",
       "    .dataframe tbody tr th:only-of-type {\n",
       "        vertical-align: middle;\n",
       "    }\n",
       "\n",
       "    .dataframe tbody tr th {\n",
       "        vertical-align: top;\n",
       "    }\n",
       "\n",
       "    .dataframe thead th {\n",
       "        text-align: right;\n",
       "    }\n",
       "</style>\n",
       "<table border=\"1\" class=\"dataframe\">\n",
       "  <thead>\n",
       "    <tr style=\"text-align: right;\">\n",
       "      <th></th>\n",
       "      <th>InvoiceNo</th>\n",
       "      <th>StockCode</th>\n",
       "      <th>Description</th>\n",
       "      <th>Quantity</th>\n",
       "      <th>InvoiceDate</th>\n",
       "      <th>UnitPrice</th>\n",
       "      <th>CustomerID</th>\n",
       "      <th>Country</th>\n",
       "      <th>TotalPrice</th>\n",
       "    </tr>\n",
       "  </thead>\n",
       "  <tbody>\n",
       "    <tr>\n",
       "      <th>517</th>\n",
       "      <td>536409</td>\n",
       "      <td>21866</td>\n",
       "      <td>UNION JACK FLAG LUGGAGE TAG</td>\n",
       "      <td>1</td>\n",
       "      <td>2010-12-01 11:45:00</td>\n",
       "      <td>1.25</td>\n",
       "      <td>17908.0</td>\n",
       "      <td>United Kingdom</td>\n",
       "      <td>1.25</td>\n",
       "    </tr>\n",
       "    <tr>\n",
       "      <th>527</th>\n",
       "      <td>536409</td>\n",
       "      <td>22866</td>\n",
       "      <td>HAND WARMER SCOTTY DOG DESIGN</td>\n",
       "      <td>1</td>\n",
       "      <td>2010-12-01 11:45:00</td>\n",
       "      <td>2.10</td>\n",
       "      <td>17908.0</td>\n",
       "      <td>United Kingdom</td>\n",
       "      <td>2.10</td>\n",
       "    </tr>\n",
       "    <tr>\n",
       "      <th>537</th>\n",
       "      <td>536409</td>\n",
       "      <td>22900</td>\n",
       "      <td>SET 2 TEA TOWELS I LOVE LONDON</td>\n",
       "      <td>1</td>\n",
       "      <td>2010-12-01 11:45:00</td>\n",
       "      <td>2.95</td>\n",
       "      <td>17908.0</td>\n",
       "      <td>United Kingdom</td>\n",
       "      <td>2.95</td>\n",
       "    </tr>\n",
       "    <tr>\n",
       "      <th>539</th>\n",
       "      <td>536409</td>\n",
       "      <td>22111</td>\n",
       "      <td>SCOTTIE DOG HOT WATER BOTTLE</td>\n",
       "      <td>1</td>\n",
       "      <td>2010-12-01 11:45:00</td>\n",
       "      <td>4.95</td>\n",
       "      <td>17908.0</td>\n",
       "      <td>United Kingdom</td>\n",
       "      <td>4.95</td>\n",
       "    </tr>\n",
       "    <tr>\n",
       "      <th>555</th>\n",
       "      <td>536412</td>\n",
       "      <td>22327</td>\n",
       "      <td>ROUND SNACK BOXES SET OF 4 SKULLS</td>\n",
       "      <td>1</td>\n",
       "      <td>2010-12-01 11:49:00</td>\n",
       "      <td>2.95</td>\n",
       "      <td>17920.0</td>\n",
       "      <td>United Kingdom</td>\n",
       "      <td>2.95</td>\n",
       "    </tr>\n",
       "    <tr>\n",
       "      <th>...</th>\n",
       "      <td>...</td>\n",
       "      <td>...</td>\n",
       "      <td>...</td>\n",
       "      <td>...</td>\n",
       "      <td>...</td>\n",
       "      <td>...</td>\n",
       "      <td>...</td>\n",
       "      <td>...</td>\n",
       "      <td>...</td>\n",
       "    </tr>\n",
       "    <tr>\n",
       "      <th>541675</th>\n",
       "      <td>581538</td>\n",
       "      <td>22068</td>\n",
       "      <td>BLACK PIRATE TREASURE CHEST</td>\n",
       "      <td>1</td>\n",
       "      <td>2011-12-09 11:34:00</td>\n",
       "      <td>0.39</td>\n",
       "      <td>14446.0</td>\n",
       "      <td>United Kingdom</td>\n",
       "      <td>0.39</td>\n",
       "    </tr>\n",
       "    <tr>\n",
       "      <th>541689</th>\n",
       "      <td>581538</td>\n",
       "      <td>23318</td>\n",
       "      <td>BOX OF 6 MINI VINTAGE CRACKERS</td>\n",
       "      <td>1</td>\n",
       "      <td>2011-12-09 11:34:00</td>\n",
       "      <td>2.49</td>\n",
       "      <td>14446.0</td>\n",
       "      <td>United Kingdom</td>\n",
       "      <td>2.49</td>\n",
       "    </tr>\n",
       "    <tr>\n",
       "      <th>541692</th>\n",
       "      <td>581538</td>\n",
       "      <td>22992</td>\n",
       "      <td>REVOLVER WOODEN RULER</td>\n",
       "      <td>1</td>\n",
       "      <td>2011-12-09 11:34:00</td>\n",
       "      <td>1.95</td>\n",
       "      <td>14446.0</td>\n",
       "      <td>United Kingdom</td>\n",
       "      <td>1.95</td>\n",
       "    </tr>\n",
       "    <tr>\n",
       "      <th>541699</th>\n",
       "      <td>581538</td>\n",
       "      <td>22694</td>\n",
       "      <td>WICKER STAR</td>\n",
       "      <td>1</td>\n",
       "      <td>2011-12-09 11:34:00</td>\n",
       "      <td>2.10</td>\n",
       "      <td>14446.0</td>\n",
       "      <td>United Kingdom</td>\n",
       "      <td>2.10</td>\n",
       "    </tr>\n",
       "    <tr>\n",
       "      <th>541701</th>\n",
       "      <td>581538</td>\n",
       "      <td>23343</td>\n",
       "      <td>JUMBO BAG VINTAGE CHRISTMAS</td>\n",
       "      <td>1</td>\n",
       "      <td>2011-12-09 11:34:00</td>\n",
       "      <td>2.08</td>\n",
       "      <td>14446.0</td>\n",
       "      <td>United Kingdom</td>\n",
       "      <td>2.08</td>\n",
       "    </tr>\n",
       "  </tbody>\n",
       "</table>\n",
       "<p>5192 rows × 9 columns</p>\n",
       "</div>"
      ],
      "text/plain": [
       "       InvoiceNo StockCode                        Description  Quantity  \\\n",
       "517       536409     21866        UNION JACK FLAG LUGGAGE TAG         1   \n",
       "527       536409     22866      HAND WARMER SCOTTY DOG DESIGN         1   \n",
       "537       536409     22900    SET 2 TEA TOWELS I LOVE LONDON          1   \n",
       "539       536409     22111       SCOTTIE DOG HOT WATER BOTTLE         1   \n",
       "555       536412     22327  ROUND SNACK BOXES SET OF 4 SKULLS         1   \n",
       "...          ...       ...                                ...       ...   \n",
       "541675    581538     22068        BLACK PIRATE TREASURE CHEST         1   \n",
       "541689    581538     23318     BOX OF 6 MINI VINTAGE CRACKERS         1   \n",
       "541692    581538     22992             REVOLVER WOODEN RULER          1   \n",
       "541699    581538     22694                       WICKER STAR          1   \n",
       "541701    581538     23343       JUMBO BAG VINTAGE CHRISTMAS          1   \n",
       "\n",
       "                InvoiceDate  UnitPrice  CustomerID         Country  TotalPrice  \n",
       "517     2010-12-01 11:45:00       1.25     17908.0  United Kingdom        1.25  \n",
       "527     2010-12-01 11:45:00       2.10     17908.0  United Kingdom        2.10  \n",
       "537     2010-12-01 11:45:00       2.95     17908.0  United Kingdom        2.95  \n",
       "539     2010-12-01 11:45:00       4.95     17908.0  United Kingdom        4.95  \n",
       "555     2010-12-01 11:49:00       2.95     17920.0  United Kingdom        2.95  \n",
       "...                     ...        ...         ...             ...         ...  \n",
       "541675  2011-12-09 11:34:00       0.39     14446.0  United Kingdom        0.39  \n",
       "541689  2011-12-09 11:34:00       2.49     14446.0  United Kingdom        2.49  \n",
       "541692  2011-12-09 11:34:00       1.95     14446.0  United Kingdom        1.95  \n",
       "541699  2011-12-09 11:34:00       2.10     14446.0  United Kingdom        2.10  \n",
       "541701  2011-12-09 11:34:00       2.08     14446.0  United Kingdom        2.08  \n",
       "\n",
       "[5192 rows x 9 columns]"
      ]
     },
     "execution_count": 30,
     "metadata": {},
     "output_type": "execute_result"
    }
   ],
   "source": [
    "# 중복 데이터 중 첫번째 것만(keep='first') 봅니다.\n",
    "# keep은 중복 데이터 발견시에 어떤 데이터를 유지하고 제외할지 결정해주는 변수입니다. ('first', 'last','False'로 선택적 입력 가능)\n",
    "raw_valid[raw_valid.duplicated(keep='first')].sort_index()"
   ]
  },
  {
   "cell_type": "code",
   "execution_count": 31,
   "metadata": {
    "colab": {
     "base_uri": "https://localhost:8080/",
     "height": 423
    },
    "executionInfo": {
     "elapsed": 305,
     "status": "ok",
     "timestamp": 1634777187590,
     "user": {
      "displayName": "JINY ROH",
      "photoUrl": "https://lh3.googleusercontent.com/a-/AOh14Gi7VIzxUnr7MUJE9Bupl4bkwgEAsz4e1gsgrYIPZw=s64",
      "userId": "06348894780083418282"
     },
     "user_tz": -540
    },
    "id": "i0LSRqro_7gm",
    "outputId": "60c41f6b-e4c5-410b-c8de-336fd4f3de1f"
   },
   "outputs": [
    {
     "data": {
      "text/html": [
       "<div>\n",
       "<style scoped>\n",
       "    .dataframe tbody tr th:only-of-type {\n",
       "        vertical-align: middle;\n",
       "    }\n",
       "\n",
       "    .dataframe tbody tr th {\n",
       "        vertical-align: top;\n",
       "    }\n",
       "\n",
       "    .dataframe thead th {\n",
       "        text-align: right;\n",
       "    }\n",
       "</style>\n",
       "<table border=\"1\" class=\"dataframe\">\n",
       "  <thead>\n",
       "    <tr style=\"text-align: right;\">\n",
       "      <th></th>\n",
       "      <th>InvoiceNo</th>\n",
       "      <th>StockCode</th>\n",
       "      <th>Description</th>\n",
       "      <th>Quantity</th>\n",
       "      <th>InvoiceDate</th>\n",
       "      <th>UnitPrice</th>\n",
       "      <th>CustomerID</th>\n",
       "      <th>Country</th>\n",
       "      <th>TotalPrice</th>\n",
       "    </tr>\n",
       "  </thead>\n",
       "  <tbody>\n",
       "    <tr>\n",
       "      <th>494</th>\n",
       "      <td>536409</td>\n",
       "      <td>21866</td>\n",
       "      <td>UNION JACK FLAG LUGGAGE TAG</td>\n",
       "      <td>1</td>\n",
       "      <td>2010-12-01 11:45:00</td>\n",
       "      <td>1.25</td>\n",
       "      <td>17908.0</td>\n",
       "      <td>United Kingdom</td>\n",
       "      <td>1.25</td>\n",
       "    </tr>\n",
       "    <tr>\n",
       "      <th>517</th>\n",
       "      <td>536409</td>\n",
       "      <td>21866</td>\n",
       "      <td>UNION JACK FLAG LUGGAGE TAG</td>\n",
       "      <td>1</td>\n",
       "      <td>2010-12-01 11:45:00</td>\n",
       "      <td>1.25</td>\n",
       "      <td>17908.0</td>\n",
       "      <td>United Kingdom</td>\n",
       "      <td>1.25</td>\n",
       "    </tr>\n",
       "    <tr>\n",
       "      <th>485</th>\n",
       "      <td>536409</td>\n",
       "      <td>22111</td>\n",
       "      <td>SCOTTIE DOG HOT WATER BOTTLE</td>\n",
       "      <td>1</td>\n",
       "      <td>2010-12-01 11:45:00</td>\n",
       "      <td>4.95</td>\n",
       "      <td>17908.0</td>\n",
       "      <td>United Kingdom</td>\n",
       "      <td>4.95</td>\n",
       "    </tr>\n",
       "    <tr>\n",
       "      <th>539</th>\n",
       "      <td>536409</td>\n",
       "      <td>22111</td>\n",
       "      <td>SCOTTIE DOG HOT WATER BOTTLE</td>\n",
       "      <td>1</td>\n",
       "      <td>2010-12-01 11:45:00</td>\n",
       "      <td>4.95</td>\n",
       "      <td>17908.0</td>\n",
       "      <td>United Kingdom</td>\n",
       "      <td>4.95</td>\n",
       "    </tr>\n",
       "    <tr>\n",
       "      <th>489</th>\n",
       "      <td>536409</td>\n",
       "      <td>22866</td>\n",
       "      <td>HAND WARMER SCOTTY DOG DESIGN</td>\n",
       "      <td>1</td>\n",
       "      <td>2010-12-01 11:45:00</td>\n",
       "      <td>2.10</td>\n",
       "      <td>17908.0</td>\n",
       "      <td>United Kingdom</td>\n",
       "      <td>2.10</td>\n",
       "    </tr>\n",
       "    <tr>\n",
       "      <th>...</th>\n",
       "      <td>...</td>\n",
       "      <td>...</td>\n",
       "      <td>...</td>\n",
       "      <td>...</td>\n",
       "      <td>...</td>\n",
       "      <td>...</td>\n",
       "      <td>...</td>\n",
       "      <td>...</td>\n",
       "      <td>...</td>\n",
       "    </tr>\n",
       "    <tr>\n",
       "      <th>541655</th>\n",
       "      <td>581538</td>\n",
       "      <td>23275</td>\n",
       "      <td>SET OF 3 HANGING OWLS OLLIE BEAK</td>\n",
       "      <td>1</td>\n",
       "      <td>2011-12-09 11:34:00</td>\n",
       "      <td>1.25</td>\n",
       "      <td>14446.0</td>\n",
       "      <td>United Kingdom</td>\n",
       "      <td>1.25</td>\n",
       "    </tr>\n",
       "    <tr>\n",
       "      <th>541656</th>\n",
       "      <td>581538</td>\n",
       "      <td>23318</td>\n",
       "      <td>BOX OF 6 MINI VINTAGE CRACKERS</td>\n",
       "      <td>1</td>\n",
       "      <td>2011-12-09 11:34:00</td>\n",
       "      <td>2.49</td>\n",
       "      <td>14446.0</td>\n",
       "      <td>United Kingdom</td>\n",
       "      <td>2.49</td>\n",
       "    </tr>\n",
       "    <tr>\n",
       "      <th>541689</th>\n",
       "      <td>581538</td>\n",
       "      <td>23318</td>\n",
       "      <td>BOX OF 6 MINI VINTAGE CRACKERS</td>\n",
       "      <td>1</td>\n",
       "      <td>2011-12-09 11:34:00</td>\n",
       "      <td>2.49</td>\n",
       "      <td>14446.0</td>\n",
       "      <td>United Kingdom</td>\n",
       "      <td>2.49</td>\n",
       "    </tr>\n",
       "    <tr>\n",
       "      <th>541666</th>\n",
       "      <td>581538</td>\n",
       "      <td>23343</td>\n",
       "      <td>JUMBO BAG VINTAGE CHRISTMAS</td>\n",
       "      <td>1</td>\n",
       "      <td>2011-12-09 11:34:00</td>\n",
       "      <td>2.08</td>\n",
       "      <td>14446.0</td>\n",
       "      <td>United Kingdom</td>\n",
       "      <td>2.08</td>\n",
       "    </tr>\n",
       "    <tr>\n",
       "      <th>541701</th>\n",
       "      <td>581538</td>\n",
       "      <td>23343</td>\n",
       "      <td>JUMBO BAG VINTAGE CHRISTMAS</td>\n",
       "      <td>1</td>\n",
       "      <td>2011-12-09 11:34:00</td>\n",
       "      <td>2.08</td>\n",
       "      <td>14446.0</td>\n",
       "      <td>United Kingdom</td>\n",
       "      <td>2.08</td>\n",
       "    </tr>\n",
       "  </tbody>\n",
       "</table>\n",
       "<p>10001 rows × 9 columns</p>\n",
       "</div>"
      ],
      "text/plain": [
       "       InvoiceNo StockCode                       Description  Quantity  \\\n",
       "494       536409     21866       UNION JACK FLAG LUGGAGE TAG         1   \n",
       "517       536409     21866       UNION JACK FLAG LUGGAGE TAG         1   \n",
       "485       536409     22111      SCOTTIE DOG HOT WATER BOTTLE         1   \n",
       "539       536409     22111      SCOTTIE DOG HOT WATER BOTTLE         1   \n",
       "489       536409     22866     HAND WARMER SCOTTY DOG DESIGN         1   \n",
       "...          ...       ...                               ...       ...   \n",
       "541655    581538     23275  SET OF 3 HANGING OWLS OLLIE BEAK         1   \n",
       "541656    581538     23318    BOX OF 6 MINI VINTAGE CRACKERS         1   \n",
       "541689    581538     23318    BOX OF 6 MINI VINTAGE CRACKERS         1   \n",
       "541666    581538     23343      JUMBO BAG VINTAGE CHRISTMAS          1   \n",
       "541701    581538     23343      JUMBO BAG VINTAGE CHRISTMAS          1   \n",
       "\n",
       "                InvoiceDate  UnitPrice  CustomerID         Country  TotalPrice  \n",
       "494     2010-12-01 11:45:00       1.25     17908.0  United Kingdom        1.25  \n",
       "517     2010-12-01 11:45:00       1.25     17908.0  United Kingdom        1.25  \n",
       "485     2010-12-01 11:45:00       4.95     17908.0  United Kingdom        4.95  \n",
       "539     2010-12-01 11:45:00       4.95     17908.0  United Kingdom        4.95  \n",
       "489     2010-12-01 11:45:00       2.10     17908.0  United Kingdom        2.10  \n",
       "...                     ...        ...         ...             ...         ...  \n",
       "541655  2011-12-09 11:34:00       1.25     14446.0  United Kingdom        1.25  \n",
       "541656  2011-12-09 11:34:00       2.49     14446.0  United Kingdom        2.49  \n",
       "541689  2011-12-09 11:34:00       2.49     14446.0  United Kingdom        2.49  \n",
       "541666  2011-12-09 11:34:00       2.08     14446.0  United Kingdom        2.08  \n",
       "541701  2011-12-09 11:34:00       2.08     14446.0  United Kingdom        2.08  \n",
       "\n",
       "[10001 rows x 9 columns]"
      ]
     },
     "execution_count": 31,
     "metadata": {},
     "output_type": "execute_result"
    }
   ],
   "source": [
    "# 중복데이터 모두 출력(keep = False) 합니다.\n",
    "raw_valid[raw_valid.duplicated(keep=False)].sort_values(\n",
    "    by=[\"InvoiceNo\", \"StockCode\", \"CustomerID\", \"TotalPrice\"])"
   ]
  },
  {
   "cell_type": "markdown",
   "metadata": {
    "id": "9L88MYVJ_7gn"
   },
   "source": [
    "## 중복 데이터 제거"
   ]
  },
  {
   "cell_type": "code",
   "execution_count": 32,
   "metadata": {
    "colab": {
     "base_uri": "https://localhost:8080/"
    },
    "executionInfo": {
     "elapsed": 312,
     "status": "ok",
     "timestamp": 1634777187898,
     "user": {
      "displayName": "JINY ROH",
      "photoUrl": "https://lh3.googleusercontent.com/a-/AOh14Gi7VIzxUnr7MUJE9Bupl4bkwgEAsz4e1gsgrYIPZw=s64",
      "userId": "06348894780083418282"
     },
     "user_tz": -540
    },
    "id": "byEL9YSA_7gn",
    "outputId": "037414ca-81e3-4125-f0af-10996c4c68c3"
   },
   "outputs": [
    {
     "name": "stdout",
     "output_type": "stream",
     "text": [
      "(397883, 9)\n"
     ]
    },
    {
     "data": {
      "text/plain": [
       "(392691, 9)"
      ]
     },
     "execution_count": 32,
     "metadata": {},
     "output_type": "execute_result"
    }
   ],
   "source": [
    "# drop_duplicates로 중복을 제거합니다.\n",
    "print(raw_valid.shape)\n",
    "df = raw_valid.drop_duplicates().copy()\n",
    "df.shape"
   ]
  },
  {
   "cell_type": "markdown",
   "metadata": {
    "id": "bT2boWNH_7gn"
   },
   "source": [
    "## RFM 계산\n",
    "### 전체 주문에서 최근 주문일 구하기"
   ]
  },
  {
   "cell_type": "code",
   "execution_count": 33,
   "metadata": {
    "executionInfo": {
     "elapsed": 6,
     "status": "ok",
     "timestamp": 1634777187899,
     "user": {
      "displayName": "JINY ROH",
      "photoUrl": "https://lh3.googleusercontent.com/a-/AOh14Gi7VIzxUnr7MUJE9Bupl4bkwgEAsz4e1gsgrYIPZw=s64",
      "userId": "06348894780083418282"
     },
     "user_tz": -540
    },
    "id": "W8kTw6Mt_7gn"
   },
   "outputs": [],
   "source": [
    "# InvoiceDate를 날짜형식으로 변환해 줍니다.\n",
    "df['InvoiceDate'] = pd.to_datetime(df['InvoiceDate'])"
   ]
  },
  {
   "cell_type": "code",
   "execution_count": 34,
   "metadata": {
    "colab": {
     "base_uri": "https://localhost:8080/"
    },
    "executionInfo": {
     "elapsed": 5,
     "status": "ok",
     "timestamp": 1634777187899,
     "user": {
      "displayName": "JINY ROH",
      "photoUrl": "https://lh3.googleusercontent.com/a-/AOh14Gi7VIzxUnr7MUJE9Bupl4bkwgEAsz4e1gsgrYIPZw=s64",
      "userId": "06348894780083418282"
     },
     "user_tz": -540
    },
    "id": "uYX3ESpM_7go",
    "outputId": "66962a22-d3aa-407d-900f-47111e4b5c28"
   },
   "outputs": [
    {
     "data": {
      "text/plain": [
       "Timestamp('2011-12-10 12:50:00')"
      ]
     },
     "execution_count": 34,
     "metadata": {},
     "output_type": "execute_result"
    }
   ],
   "source": [
    "# Recency 계산을 위해 해당 주문에서 가장 최근 구매가 일어난 시간을 가져옵니다.\n",
    "# 최근 거래 기준일(last_timestamp)을 만들기 위해 timedelta로 날짜를 더해줍니다.(최소값:1 설정) \n",
    "last_timestamp = df['InvoiceDate'].max() + dt.timedelta(days = 1)\n",
    "last_timestamp"
   ]
  },
  {
   "cell_type": "markdown",
   "metadata": {
    "id": "T2HKjWqI_7go"
   },
   "source": [
    "### 고객별 Recency, Frequency, Monetary 값 구하기"
   ]
  },
  {
   "cell_type": "code",
   "execution_count": 39,
   "metadata": {
    "colab": {
     "base_uri": "https://localhost:8080/"
    },
    "executionInfo": {
     "elapsed": 655,
     "status": "ok",
     "timestamp": 1634777188551,
     "user": {
      "displayName": "JINY ROH",
      "photoUrl": "https://lh3.googleusercontent.com/a-/AOh14Gi7VIzxUnr7MUJE9Bupl4bkwgEAsz4e1gsgrYIPZw=s64",
      "userId": "06348894780083418282"
     },
     "user_tz": -540
    },
    "id": "ItQAfWEC_7go",
    "outputId": "d18df002-2ed2-4807-d8c1-e920bd9fecba"
   },
   "outputs": [
    {
     "data": {
      "text/plain": [
       "(4338, 3)"
      ]
     },
     "execution_count": 39,
     "metadata": {},
     "output_type": "execute_result"
    }
   ],
   "source": [
    "# RFM 값을 정의합니다.\n",
    "# Recency : 최근 거래 기준일(last_timestamp)과 고객별 최근 구매한 날짜(x.max())와 차이값\n",
    "# Frequency : 구매 빈도수\n",
    "# Monetary : 총 구매 금액\n",
    "rfm = df.groupby(['CustomerID']).agg({'InvoiceDate': lambda x : (last_timestamp - x.max()).days,\n",
    "                                      'InvoiceNo':'count',\n",
    "                                      'TotalPrice': 'sum'})\n",
    "rfm.shape"
   ]
  },
  {
   "cell_type": "code",
   "execution_count": 40,
   "metadata": {
    "colab": {
     "base_uri": "https://localhost:8080/",
     "height": 455
    },
    "executionInfo": {
     "elapsed": 461,
     "status": "ok",
     "timestamp": 1634777189008,
     "user": {
      "displayName": "JINY ROH",
      "photoUrl": "https://lh3.googleusercontent.com/a-/AOh14Gi7VIzxUnr7MUJE9Bupl4bkwgEAsz4e1gsgrYIPZw=s64",
      "userId": "06348894780083418282"
     },
     "user_tz": -540
    },
    "id": "pMSJf7iw_7go",
    "outputId": "acc02107-1f76-4e84-ad87-2304e5f8345d"
   },
   "outputs": [
    {
     "data": {
      "text/html": [
       "<div>\n",
       "<style scoped>\n",
       "    .dataframe tbody tr th:only-of-type {\n",
       "        vertical-align: middle;\n",
       "    }\n",
       "\n",
       "    .dataframe tbody tr th {\n",
       "        vertical-align: top;\n",
       "    }\n",
       "\n",
       "    .dataframe thead th {\n",
       "        text-align: right;\n",
       "    }\n",
       "</style>\n",
       "<table border=\"1\" class=\"dataframe\">\n",
       "  <thead>\n",
       "    <tr style=\"text-align: right;\">\n",
       "      <th></th>\n",
       "      <th>Recency</th>\n",
       "      <th>Frequency</th>\n",
       "      <th>MonetaryValue</th>\n",
       "    </tr>\n",
       "    <tr>\n",
       "      <th>CustomerID</th>\n",
       "      <th></th>\n",
       "      <th></th>\n",
       "      <th></th>\n",
       "    </tr>\n",
       "  </thead>\n",
       "  <tbody>\n",
       "    <tr>\n",
       "      <th>12346.0</th>\n",
       "      <td>326</td>\n",
       "      <td>1</td>\n",
       "      <td>77183.60</td>\n",
       "    </tr>\n",
       "    <tr>\n",
       "      <th>12347.0</th>\n",
       "      <td>2</td>\n",
       "      <td>182</td>\n",
       "      <td>4310.00</td>\n",
       "    </tr>\n",
       "    <tr>\n",
       "      <th>12348.0</th>\n",
       "      <td>75</td>\n",
       "      <td>31</td>\n",
       "      <td>1797.24</td>\n",
       "    </tr>\n",
       "    <tr>\n",
       "      <th>12349.0</th>\n",
       "      <td>19</td>\n",
       "      <td>73</td>\n",
       "      <td>1757.55</td>\n",
       "    </tr>\n",
       "    <tr>\n",
       "      <th>12350.0</th>\n",
       "      <td>310</td>\n",
       "      <td>17</td>\n",
       "      <td>334.40</td>\n",
       "    </tr>\n",
       "    <tr>\n",
       "      <th>...</th>\n",
       "      <td>...</td>\n",
       "      <td>...</td>\n",
       "      <td>...</td>\n",
       "    </tr>\n",
       "    <tr>\n",
       "      <th>18280.0</th>\n",
       "      <td>278</td>\n",
       "      <td>10</td>\n",
       "      <td>180.60</td>\n",
       "    </tr>\n",
       "    <tr>\n",
       "      <th>18281.0</th>\n",
       "      <td>181</td>\n",
       "      <td>7</td>\n",
       "      <td>80.82</td>\n",
       "    </tr>\n",
       "    <tr>\n",
       "      <th>18282.0</th>\n",
       "      <td>8</td>\n",
       "      <td>12</td>\n",
       "      <td>178.05</td>\n",
       "    </tr>\n",
       "    <tr>\n",
       "      <th>18283.0</th>\n",
       "      <td>4</td>\n",
       "      <td>721</td>\n",
       "      <td>2045.53</td>\n",
       "    </tr>\n",
       "    <tr>\n",
       "      <th>18287.0</th>\n",
       "      <td>43</td>\n",
       "      <td>70</td>\n",
       "      <td>1837.28</td>\n",
       "    </tr>\n",
       "  </tbody>\n",
       "</table>\n",
       "<p>4338 rows × 3 columns</p>\n",
       "</div>"
      ],
      "text/plain": [
       "            Recency  Frequency  MonetaryValue\n",
       "CustomerID                                   \n",
       "12346.0         326          1       77183.60\n",
       "12347.0           2        182        4310.00\n",
       "12348.0          75         31        1797.24\n",
       "12349.0          19         73        1757.55\n",
       "12350.0         310         17         334.40\n",
       "...             ...        ...            ...\n",
       "18280.0         278         10         180.60\n",
       "18281.0         181          7          80.82\n",
       "18282.0           8         12         178.05\n",
       "18283.0           4        721        2045.53\n",
       "18287.0          43         70        1837.28\n",
       "\n",
       "[4338 rows x 3 columns]"
      ]
     },
     "execution_count": 40,
     "metadata": {},
     "output_type": "execute_result"
    }
   ],
   "source": [
    "# RFM 으로 변수의 이름을 변경합니다.\n",
    "# InvoiceDate 는 Recency\n",
    "# InvoiceNo 는 Frequency\n",
    "# TotalPrice 는 MonetaryValue\n",
    "rfm.rename(columns={'InvoiceDate':'Recency', \n",
    "                    'InvoiceNo':'Frequency', \n",
    "                    'TotalPrice':'MonetaryValue'},\n",
    "           inplace= True)\n",
    "rfm"
   ]
  },
  {
   "cell_type": "code",
   "execution_count": 41,
   "metadata": {
    "colab": {
     "base_uri": "https://localhost:8080/",
     "height": 300
    },
    "executionInfo": {
     "elapsed": 21,
     "status": "ok",
     "timestamp": 1634777189009,
     "user": {
      "displayName": "JINY ROH",
      "photoUrl": "https://lh3.googleusercontent.com/a-/AOh14Gi7VIzxUnr7MUJE9Bupl4bkwgEAsz4e1gsgrYIPZw=s64",
      "userId": "06348894780083418282"
     },
     "user_tz": -540
    },
    "id": "rCCfFLG__7gp",
    "outputId": "3b94a145-49ab-471b-c62a-60c1ec106c77"
   },
   "outputs": [
    {
     "data": {
      "text/html": [
       "<div>\n",
       "<style scoped>\n",
       "    .dataframe tbody tr th:only-of-type {\n",
       "        vertical-align: middle;\n",
       "    }\n",
       "\n",
       "    .dataframe tbody tr th {\n",
       "        vertical-align: top;\n",
       "    }\n",
       "\n",
       "    .dataframe thead th {\n",
       "        text-align: right;\n",
       "    }\n",
       "</style>\n",
       "<table border=\"1\" class=\"dataframe\">\n",
       "  <thead>\n",
       "    <tr style=\"text-align: right;\">\n",
       "      <th></th>\n",
       "      <th>Recency</th>\n",
       "      <th>Frequency</th>\n",
       "      <th>MonetaryValue</th>\n",
       "    </tr>\n",
       "  </thead>\n",
       "  <tbody>\n",
       "    <tr>\n",
       "      <th>count</th>\n",
       "      <td>4338.000000</td>\n",
       "      <td>4338.000000</td>\n",
       "      <td>4338.000000</td>\n",
       "    </tr>\n",
       "    <tr>\n",
       "      <th>mean</th>\n",
       "      <td>92.583679</td>\n",
       "      <td>90.523513</td>\n",
       "      <td>2009.852304</td>\n",
       "    </tr>\n",
       "    <tr>\n",
       "      <th>std</th>\n",
       "      <td>100.019339</td>\n",
       "      <td>225.507058</td>\n",
       "      <td>8622.507371</td>\n",
       "    </tr>\n",
       "    <tr>\n",
       "      <th>min</th>\n",
       "      <td>1.000000</td>\n",
       "      <td>1.000000</td>\n",
       "      <td>2.900000</td>\n",
       "    </tr>\n",
       "    <tr>\n",
       "      <th>25%</th>\n",
       "      <td>18.000000</td>\n",
       "      <td>17.000000</td>\n",
       "      <td>306.452500</td>\n",
       "    </tr>\n",
       "    <tr>\n",
       "      <th>50%</th>\n",
       "      <td>51.000000</td>\n",
       "      <td>41.000000</td>\n",
       "      <td>668.495000</td>\n",
       "    </tr>\n",
       "    <tr>\n",
       "      <th>75%</th>\n",
       "      <td>142.750000</td>\n",
       "      <td>98.000000</td>\n",
       "      <td>1659.132500</td>\n",
       "    </tr>\n",
       "    <tr>\n",
       "      <th>max</th>\n",
       "      <td>374.000000</td>\n",
       "      <td>7676.000000</td>\n",
       "      <td>280206.020000</td>\n",
       "    </tr>\n",
       "  </tbody>\n",
       "</table>\n",
       "</div>"
      ],
      "text/plain": [
       "           Recency    Frequency  MonetaryValue\n",
       "count  4338.000000  4338.000000    4338.000000\n",
       "mean     92.583679    90.523513    2009.852304\n",
       "std     100.019339   225.507058    8622.507371\n",
       "min       1.000000     1.000000       2.900000\n",
       "25%      18.000000    17.000000     306.452500\n",
       "50%      51.000000    41.000000     668.495000\n",
       "75%     142.750000    98.000000    1659.132500\n",
       "max     374.000000  7676.000000  280206.020000"
      ]
     },
     "execution_count": 41,
     "metadata": {},
     "output_type": "execute_result"
    }
   ],
   "source": [
    "rfm.describe()"
   ]
  },
  {
   "cell_type": "markdown",
   "metadata": {
    "id": "IbB3f-Mg_7gp"
   },
   "source": [
    "## RFM 모형\n",
    "\n",
    "* Scoring 기법: RFM의 요인을 각각 5등급으로 등간격으로 분류하는 방법이다.\n",
    "* 현재 개발된 RFM 모형은 크게 4가지로 분류 할 수 있다. 이 문서의 내용들은 정설이 아니며 신뢰하기 어려움을 전제로 참고해야한다.\n",
    "    * 모델1. RFM 각 요소의 20% rule의 적용\n",
    "    * 모델2. 비율 척도에 의한 양적인 정도의 차이에 따른 등간격의 5등급 분류\n",
    "    * 모델3. 상하 20%를 제외한 등간격 척도에 의한 그룹 분류\n",
    "    * 모델4. 군집 분석에 의한 각 요소 별 5개의 그룹 분류\n",
    "    \n",
    "출처 : [RFM - 위키백과, 우리 모두의 백과사전](https://ko.wikipedia.org/wiki/RFM)"
   ]
  },
  {
   "cell_type": "markdown",
   "metadata": {
    "id": "8jdLW_42_7gp"
   },
   "source": [
    "### qcut을 통한 RFM 변수 만들기"
   ]
  },
  {
   "cell_type": "code",
   "execution_count": 46,
   "metadata": {},
   "outputs": [
    {
     "data": {
      "text/plain": [
       "[6, 5, 4, 3, 2, 1]"
      ]
     },
     "execution_count": 46,
     "metadata": {},
     "output_type": "execute_result"
    }
   ],
   "source": [
    "list(range(6, 0, -1))"
   ]
  },
  {
   "cell_type": "code",
   "execution_count": 37,
   "metadata": {},
   "outputs": [
    {
     "data": {
      "text/plain": [
       "[1, 2, 3, 4, 5]"
      ]
     },
     "execution_count": 37,
     "metadata": {},
     "output_type": "execute_result"
    }
   ],
   "source": [
    "list(range(1,6))"
   ]
  },
  {
   "cell_type": "code",
   "execution_count": 42,
   "metadata": {
    "executionInfo": {
     "elapsed": 20,
     "status": "ok",
     "timestamp": 1634777189010,
     "user": {
      "displayName": "JINY ROH",
      "photoUrl": "https://lh3.googleusercontent.com/a-/AOh14Gi7VIzxUnr7MUJE9Bupl4bkwgEAsz4e1gsgrYIPZw=s64",
      "userId": "06348894780083418282"
     },
     "user_tz": -540
    },
    "id": "Z-HMBC_N_7gp"
   },
   "outputs": [],
   "source": [
    "# Recency 는 최근일수록 높은 스코어를 갖도록 합니다.\n",
    "# Frequency, MonetaryValue 는 값이 클 수록 높은 스코어를 갖도록 합니다.\n",
    "r_labels = range(5, 0, -1)\n",
    "f_labels = range(1, 6)\n",
    "m_labels = range(1, 6)\n",
    "cut_size= 5"
   ]
  },
  {
   "cell_type": "code",
   "execution_count": 44,
   "metadata": {
    "executionInfo": {
     "elapsed": 20,
     "status": "ok",
     "timestamp": 1634777189010,
     "user": {
      "displayName": "JINY ROH",
      "photoUrl": "https://lh3.googleusercontent.com/a-/AOh14Gi7VIzxUnr7MUJE9Bupl4bkwgEAsz4e1gsgrYIPZw=s64",
      "userId": "06348894780083418282"
     },
     "user_tz": -540
    },
    "id": "fNL9iGEB_7gp",
    "scrolled": true
   },
   "outputs": [],
   "source": [
    "r_cut = pd.qcut(rfm['Recency'], q=cut_size, labels = r_labels)\n",
    "f_cut = pd.qcut(rfm['Frequency'], q=cut_size, labels = f_labels)\n",
    "m_cut = pd.qcut(rfm['MonetaryValue'], q=cut_size, labels = m_labels)\n",
    "# assign 을 사용하면 여러 변수를 한 번에 만들 수 있습니다.\n",
    "rfm = rfm.assign(R=r_cut, F=f_cut, M=m_cut)"
   ]
  },
  {
   "cell_type": "code",
   "execution_count": 45,
   "metadata": {
    "colab": {
     "base_uri": "https://localhost:8080/",
     "height": 455
    },
    "executionInfo": {
     "elapsed": 20,
     "status": "ok",
     "timestamp": 1634777189011,
     "user": {
      "displayName": "JINY ROH",
      "photoUrl": "https://lh3.googleusercontent.com/a-/AOh14Gi7VIzxUnr7MUJE9Bupl4bkwgEAsz4e1gsgrYIPZw=s64",
      "userId": "06348894780083418282"
     },
     "user_tz": -540
    },
    "id": "VA5jA5at_7gq",
    "outputId": "c1acd6b3-073a-43f5-f19c-37a9bc2efb36"
   },
   "outputs": [
    {
     "data": {
      "text/html": [
       "<div>\n",
       "<style scoped>\n",
       "    .dataframe tbody tr th:only-of-type {\n",
       "        vertical-align: middle;\n",
       "    }\n",
       "\n",
       "    .dataframe tbody tr th {\n",
       "        vertical-align: top;\n",
       "    }\n",
       "\n",
       "    .dataframe thead th {\n",
       "        text-align: right;\n",
       "    }\n",
       "</style>\n",
       "<table border=\"1\" class=\"dataframe\">\n",
       "  <thead>\n",
       "    <tr style=\"text-align: right;\">\n",
       "      <th></th>\n",
       "      <th>Recency</th>\n",
       "      <th>Frequency</th>\n",
       "      <th>MonetaryValue</th>\n",
       "      <th>R</th>\n",
       "      <th>F</th>\n",
       "      <th>M</th>\n",
       "    </tr>\n",
       "    <tr>\n",
       "      <th>CustomerID</th>\n",
       "      <th></th>\n",
       "      <th></th>\n",
       "      <th></th>\n",
       "      <th></th>\n",
       "      <th></th>\n",
       "      <th></th>\n",
       "    </tr>\n",
       "  </thead>\n",
       "  <tbody>\n",
       "    <tr>\n",
       "      <th>12346.0</th>\n",
       "      <td>326</td>\n",
       "      <td>1</td>\n",
       "      <td>77183.60</td>\n",
       "      <td>1</td>\n",
       "      <td>1</td>\n",
       "      <td>5</td>\n",
       "    </tr>\n",
       "    <tr>\n",
       "      <th>12347.0</th>\n",
       "      <td>2</td>\n",
       "      <td>182</td>\n",
       "      <td>4310.00</td>\n",
       "      <td>5</td>\n",
       "      <td>5</td>\n",
       "      <td>5</td>\n",
       "    </tr>\n",
       "    <tr>\n",
       "      <th>12348.0</th>\n",
       "      <td>75</td>\n",
       "      <td>31</td>\n",
       "      <td>1797.24</td>\n",
       "      <td>2</td>\n",
       "      <td>3</td>\n",
       "      <td>4</td>\n",
       "    </tr>\n",
       "    <tr>\n",
       "      <th>12349.0</th>\n",
       "      <td>19</td>\n",
       "      <td>73</td>\n",
       "      <td>1757.55</td>\n",
       "      <td>4</td>\n",
       "      <td>4</td>\n",
       "      <td>4</td>\n",
       "    </tr>\n",
       "    <tr>\n",
       "      <th>12350.0</th>\n",
       "      <td>310</td>\n",
       "      <td>17</td>\n",
       "      <td>334.40</td>\n",
       "      <td>1</td>\n",
       "      <td>2</td>\n",
       "      <td>2</td>\n",
       "    </tr>\n",
       "    <tr>\n",
       "      <th>...</th>\n",
       "      <td>...</td>\n",
       "      <td>...</td>\n",
       "      <td>...</td>\n",
       "      <td>...</td>\n",
       "      <td>...</td>\n",
       "      <td>...</td>\n",
       "    </tr>\n",
       "    <tr>\n",
       "      <th>18280.0</th>\n",
       "      <td>278</td>\n",
       "      <td>10</td>\n",
       "      <td>180.60</td>\n",
       "      <td>1</td>\n",
       "      <td>1</td>\n",
       "      <td>1</td>\n",
       "    </tr>\n",
       "    <tr>\n",
       "      <th>18281.0</th>\n",
       "      <td>181</td>\n",
       "      <td>7</td>\n",
       "      <td>80.82</td>\n",
       "      <td>1</td>\n",
       "      <td>1</td>\n",
       "      <td>1</td>\n",
       "    </tr>\n",
       "    <tr>\n",
       "      <th>18282.0</th>\n",
       "      <td>8</td>\n",
       "      <td>12</td>\n",
       "      <td>178.05</td>\n",
       "      <td>5</td>\n",
       "      <td>1</td>\n",
       "      <td>1</td>\n",
       "    </tr>\n",
       "    <tr>\n",
       "      <th>18283.0</th>\n",
       "      <td>4</td>\n",
       "      <td>721</td>\n",
       "      <td>2045.53</td>\n",
       "      <td>5</td>\n",
       "      <td>5</td>\n",
       "      <td>4</td>\n",
       "    </tr>\n",
       "    <tr>\n",
       "      <th>18287.0</th>\n",
       "      <td>43</td>\n",
       "      <td>70</td>\n",
       "      <td>1837.28</td>\n",
       "      <td>3</td>\n",
       "      <td>4</td>\n",
       "      <td>4</td>\n",
       "    </tr>\n",
       "  </tbody>\n",
       "</table>\n",
       "<p>4338 rows × 6 columns</p>\n",
       "</div>"
      ],
      "text/plain": [
       "            Recency  Frequency  MonetaryValue  R  F  M\n",
       "CustomerID                                            \n",
       "12346.0         326          1       77183.60  1  1  5\n",
       "12347.0           2        182        4310.00  5  5  5\n",
       "12348.0          75         31        1797.24  2  3  4\n",
       "12349.0          19         73        1757.55  4  4  4\n",
       "12350.0         310         17         334.40  1  2  2\n",
       "...             ...        ...            ... .. .. ..\n",
       "18280.0         278         10         180.60  1  1  1\n",
       "18281.0         181          7          80.82  1  1  1\n",
       "18282.0           8         12         178.05  5  1  1\n",
       "18283.0           4        721        2045.53  5  5  4\n",
       "18287.0          43         70        1837.28  3  4  4\n",
       "\n",
       "[4338 rows x 6 columns]"
      ]
     },
     "execution_count": 45,
     "metadata": {},
     "output_type": "execute_result"
    }
   ],
   "source": [
    "rfm"
   ]
  },
  {
   "cell_type": "code",
   "execution_count": 51,
   "metadata": {},
   "outputs": [
    {
     "data": {
      "text/plain": [
       "<seaborn.axisgrid.FacetGrid at 0x2b02e1f8bb0>"
      ]
     },
     "execution_count": 51,
     "metadata": {},
     "output_type": "execute_result"
    },
    {
     "data": {
      "image/png": "[encoded data removed]",
      "text/plain": [
       "<Figure size 401.5x360 with 1 Axes>"
      ]
     },
     "metadata": {
      "needs_background": "light"
     },
     "output_type": "display_data"
    }
   ],
   "source": [
    "sns.displot(data=rfm, x=\"Recency\", hue=\"R\", kind=\"kde\")"
   ]
  },
  {
   "cell_type": "markdown",
   "metadata": {
    "id": "vCi-fc3k_7gq"
   },
   "source": [
    "### RFM Segment"
   ]
  },
  {
   "cell_type": "code",
   "execution_count": 54,
   "metadata": {
    "executionInfo": {
     "elapsed": 19,
     "status": "ok",
     "timestamp": 1634777189011,
     "user": {
      "displayName": "JINY ROH",
      "photoUrl": "https://lh3.googleusercontent.com/a-/AOh14Gi7VIzxUnr7MUJE9Bupl4bkwgEAsz4e1gsgrYIPZw=s64",
      "userId": "06348894780083418282"
     },
     "user_tz": -540
    },
    "id": "P28gipkT_7gq",
    "scrolled": true
   },
   "outputs": [
    {
     "data": {
      "text/html": [
       "<div>\n",
       "<style scoped>\n",
       "    .dataframe tbody tr th:only-of-type {\n",
       "        vertical-align: middle;\n",
       "    }\n",
       "\n",
       "    .dataframe tbody tr th {\n",
       "        vertical-align: top;\n",
       "    }\n",
       "\n",
       "    .dataframe thead th {\n",
       "        text-align: right;\n",
       "    }\n",
       "</style>\n",
       "<table border=\"1\" class=\"dataframe\">\n",
       "  <thead>\n",
       "    <tr style=\"text-align: right;\">\n",
       "      <th></th>\n",
       "      <th>Recency</th>\n",
       "      <th>Frequency</th>\n",
       "      <th>MonetaryValue</th>\n",
       "      <th>R</th>\n",
       "      <th>F</th>\n",
       "      <th>M</th>\n",
       "      <th>RFM_segment</th>\n",
       "    </tr>\n",
       "    <tr>\n",
       "      <th>CustomerID</th>\n",
       "      <th></th>\n",
       "      <th></th>\n",
       "      <th></th>\n",
       "      <th></th>\n",
       "      <th></th>\n",
       "      <th></th>\n",
       "      <th></th>\n",
       "    </tr>\n",
       "  </thead>\n",
       "  <tbody>\n",
       "    <tr>\n",
       "      <th>12346.0</th>\n",
       "      <td>326</td>\n",
       "      <td>1</td>\n",
       "      <td>77183.6</td>\n",
       "      <td>1</td>\n",
       "      <td>1</td>\n",
       "      <td>5</td>\n",
       "      <td>115</td>\n",
       "    </tr>\n",
       "  </tbody>\n",
       "</table>\n",
       "</div>"
      ],
      "text/plain": [
       "            Recency  Frequency  MonetaryValue  R  F  M RFM_segment\n",
       "CustomerID                                                        \n",
       "12346.0         326          1        77183.6  1  1  5         115"
      ]
     },
     "execution_count": 54,
     "metadata": {},
     "output_type": "execute_result"
    }
   ],
   "source": [
    "# RFM_segment 값을 구합니다. \n",
    "# R, F, M 값을 문자 그대로 붙여서 세그먼트를 구분합니다.\n",
    "rfm[\"RFM_segment\"] = rfm['R'].astype(str) + rfm[\"F\"].astype(str) + rfm[\"M\"].astype(str)\n",
    "rfm.head(1)"
   ]
  },
  {
   "cell_type": "markdown",
   "metadata": {
    "id": "1X5f9R6f_7gq"
   },
   "source": [
    "### RFM Score"
   ]
  },
  {
   "cell_type": "code",
   "execution_count": 57,
   "metadata": {
    "colab": {
     "base_uri": "https://localhost:8080/",
     "height": 455
    },
    "executionInfo": {
     "elapsed": 18,
     "status": "ok",
     "timestamp": 1634777189011,
     "user": {
      "displayName": "JINY ROH",
      "photoUrl": "https://lh3.googleusercontent.com/a-/AOh14Gi7VIzxUnr7MUJE9Bupl4bkwgEAsz4e1gsgrYIPZw=s64",
      "userId": "06348894780083418282"
     },
     "user_tz": -540
    },
    "id": "Mmm-qK8z_7gq",
    "outputId": "9b0a1aa2-1676-4de3-ba1a-3c6e2e493763"
   },
   "outputs": [
    {
     "data": {
      "text/html": [
       "<div>\n",
       "<style scoped>\n",
       "    .dataframe tbody tr th:only-of-type {\n",
       "        vertical-align: middle;\n",
       "    }\n",
       "\n",
       "    .dataframe tbody tr th {\n",
       "        vertical-align: top;\n",
       "    }\n",
       "\n",
       "    .dataframe thead th {\n",
       "        text-align: right;\n",
       "    }\n",
       "</style>\n",
       "<table border=\"1\" class=\"dataframe\">\n",
       "  <thead>\n",
       "    <tr style=\"text-align: right;\">\n",
       "      <th></th>\n",
       "      <th>Recency</th>\n",
       "      <th>Frequency</th>\n",
       "      <th>MonetaryValue</th>\n",
       "      <th>R</th>\n",
       "      <th>F</th>\n",
       "      <th>M</th>\n",
       "      <th>RFM_segment</th>\n",
       "      <th>RFM_score</th>\n",
       "    </tr>\n",
       "    <tr>\n",
       "      <th>CustomerID</th>\n",
       "      <th></th>\n",
       "      <th></th>\n",
       "      <th></th>\n",
       "      <th></th>\n",
       "      <th></th>\n",
       "      <th></th>\n",
       "      <th></th>\n",
       "      <th></th>\n",
       "    </tr>\n",
       "  </thead>\n",
       "  <tbody>\n",
       "    <tr>\n",
       "      <th>12346.0</th>\n",
       "      <td>326</td>\n",
       "      <td>1</td>\n",
       "      <td>77183.6</td>\n",
       "      <td>1</td>\n",
       "      <td>1</td>\n",
       "      <td>5</td>\n",
       "      <td>115</td>\n",
       "      <td>7</td>\n",
       "    </tr>\n",
       "  </tbody>\n",
       "</table>\n",
       "</div>"
      ],
      "text/plain": [
       "            Recency  Frequency  MonetaryValue  R  F  M RFM_segment  RFM_score\n",
       "CustomerID                                                                   \n",
       "12346.0         326          1        77183.6  1  1  5         115          7"
      ]
     },
     "execution_count": 57,
     "metadata": {},
     "output_type": "execute_result"
    }
   ],
   "source": [
    "# R, F, M 값의 합계를 구해서 세그먼트 점수를 구합니다.\n",
    "rfm[\"RFM_score\"] = rfm[[\"R\", \"F\", \"M\"]].sum(axis=1)\n",
    "rfm.head(1)"
   ]
  },
  {
   "cell_type": "code",
   "execution_count": 58,
   "metadata": {
    "colab": {
     "base_uri": "https://localhost:8080/",
     "height": 361
    },
    "executionInfo": {
     "elapsed": 17,
     "status": "ok",
     "timestamp": 1634777189012,
     "user": {
      "displayName": "JINY ROH",
      "photoUrl": "https://lh3.googleusercontent.com/a-/AOh14Gi7VIzxUnr7MUJE9Bupl4bkwgEAsz4e1gsgrYIPZw=s64",
      "userId": "06348894780083418282"
     },
     "user_tz": -540
    },
    "id": "fWGxQpNX_7gq",
    "outputId": "36e8edff-bce5-49e6-c2d9-e5832a1a26ce"
   },
   "outputs": [
    {
     "data": {
      "text/html": [
       "<style  type=\"text/css\" >\n",
       "#T_92cf6_row0_col0,#T_92cf6_row12_col1,#T_92cf6_row12_col2,#T_92cf6_row12_col3{\n",
       "            background-color:  #023858;\n",
       "            color:  #f1f1f1;\n",
       "        }#T_92cf6_row0_col1,#T_92cf6_row0_col2,#T_92cf6_row0_col3,#T_92cf6_row12_col0{\n",
       "            background-color:  #fff7fb;\n",
       "            color:  #000000;\n",
       "        }#T_92cf6_row1_col0{\n",
       "            background-color:  #0d75b3;\n",
       "            color:  #f1f1f1;\n",
       "        }#T_92cf6_row1_col1{\n",
       "            background-color:  #fef6fa;\n",
       "            color:  #000000;\n",
       "        }#T_92cf6_row1_col2,#T_92cf6_row1_col3{\n",
       "            background-color:  #fef6fb;\n",
       "            color:  #000000;\n",
       "        }#T_92cf6_row2_col0{\n",
       "            background-color:  #2c89bd;\n",
       "            color:  #000000;\n",
       "        }#T_92cf6_row2_col1,#T_92cf6_row2_col3,#T_92cf6_row3_col2{\n",
       "            background-color:  #fcf4fa;\n",
       "            color:  #000000;\n",
       "        }#T_92cf6_row2_col2{\n",
       "            background-color:  #fdf5fa;\n",
       "            color:  #000000;\n",
       "        }#T_92cf6_row3_col0{\n",
       "            background-color:  #8bb2d4;\n",
       "            color:  #000000;\n",
       "        }#T_92cf6_row3_col1,#T_92cf6_row3_col3{\n",
       "            background-color:  #fbf3f9;\n",
       "            color:  #000000;\n",
       "        }#T_92cf6_row4_col0{\n",
       "            background-color:  #acc0dd;\n",
       "            color:  #000000;\n",
       "        }#T_92cf6_row4_col1{\n",
       "            background-color:  #f8f1f8;\n",
       "            color:  #000000;\n",
       "        }#T_92cf6_row4_col2,#T_92cf6_row6_col2,#T_92cf6_row10_col0{\n",
       "            background-color:  #f5eff6;\n",
       "            color:  #000000;\n",
       "        }#T_92cf6_row4_col3,#T_92cf6_row7_col2{\n",
       "            background-color:  #f2ecf5;\n",
       "            color:  #000000;\n",
       "        }#T_92cf6_row5_col0{\n",
       "            background-color:  #c0c9e2;\n",
       "            color:  #000000;\n",
       "        }#T_92cf6_row5_col1{\n",
       "            background-color:  #f5eef6;\n",
       "            color:  #000000;\n",
       "        }#T_92cf6_row5_col2{\n",
       "            background-color:  #f9f2f8;\n",
       "            color:  #000000;\n",
       "        }#T_92cf6_row5_col3{\n",
       "            background-color:  #f7f0f7;\n",
       "            color:  #000000;\n",
       "        }#T_92cf6_row6_col0{\n",
       "            background-color:  #d3d4e7;\n",
       "            color:  #000000;\n",
       "        }#T_92cf6_row6_col1{\n",
       "            background-color:  #f1ebf5;\n",
       "            color:  #000000;\n",
       "        }#T_92cf6_row6_col3{\n",
       "            background-color:  #f4edf6;\n",
       "            color:  #000000;\n",
       "        }#T_92cf6_row7_col0{\n",
       "            background-color:  #dcdaeb;\n",
       "            color:  #000000;\n",
       "        }#T_92cf6_row7_col1,#T_92cf6_row8_col3{\n",
       "            background-color:  #ece7f2;\n",
       "            color:  #000000;\n",
       "        }#T_92cf6_row7_col3{\n",
       "            background-color:  #f0eaf4;\n",
       "            color:  #000000;\n",
       "        }#T_92cf6_row8_col0,#T_92cf6_row9_col2{\n",
       "            background-color:  #e7e3f0;\n",
       "            color:  #000000;\n",
       "        }#T_92cf6_row8_col1{\n",
       "            background-color:  #e2dfee;\n",
       "            color:  #000000;\n",
       "        }#T_92cf6_row8_col2{\n",
       "            background-color:  #eee8f3;\n",
       "            color:  #000000;\n",
       "        }#T_92cf6_row9_col0{\n",
       "            background-color:  #efe9f3;\n",
       "            color:  #000000;\n",
       "        }#T_92cf6_row9_col1{\n",
       "            background-color:  #d4d4e8;\n",
       "            color:  #000000;\n",
       "        }#T_92cf6_row9_col3{\n",
       "            background-color:  #e5e1ef;\n",
       "            color:  #000000;\n",
       "        }#T_92cf6_row10_col1{\n",
       "            background-color:  #bdc8e1;\n",
       "            color:  #000000;\n",
       "        }#T_92cf6_row10_col2{\n",
       "            background-color:  #ced0e6;\n",
       "            color:  #000000;\n",
       "        }#T_92cf6_row10_col3{\n",
       "            background-color:  #cccfe5;\n",
       "            color:  #000000;\n",
       "        }#T_92cf6_row11_col0{\n",
       "            background-color:  #faf2f8;\n",
       "            color:  #000000;\n",
       "        }#T_92cf6_row11_col1{\n",
       "            background-color:  #6da6cd;\n",
       "            color:  #000000;\n",
       "        }#T_92cf6_row11_col2{\n",
       "            background-color:  #99b8d8;\n",
       "            color:  #000000;\n",
       "        }#T_92cf6_row11_col3{\n",
       "            background-color:  #9ab8d8;\n",
       "            color:  #000000;\n",
       "        }</style><table id=\"T_92cf6_\" ><thead>    <tr>        <th class=\"blank level0\" ></th>        <th class=\"col_heading level0 col0\" >Recency</th>        <th class=\"col_heading level0 col1\" >Frequency</th>        <th class=\"col_heading level0 col2\" colspan=\"2\">MonetaryValue</th>    </tr>    <tr>        <th class=\"blank level1\" ></th>        <th class=\"col_heading level1 col0\" >mean</th>        <th class=\"col_heading level1 col1\" >mean</th>        <th class=\"col_heading level1 col2\" >mean</th>        <th class=\"col_heading level1 col3\" >sum</th>    </tr>    <tr>        <th class=\"index_name level0\" >RFM_score</th>        <th class=\"blank\" ></th>        <th class=\"blank\" ></th>        <th class=\"blank\" ></th>        <th class=\"blank\" ></th>    </tr></thead><tbody>\n",
       "                <tr>\n",
       "                        <th id=\"T_92cf6_level0_row0\" class=\"row_heading level0 row0\" >3</th>\n",
       "                        <td id=\"T_92cf6_row0_col0\" class=\"data row0 col0\" >278</td>\n",
       "                        <td id=\"T_92cf6_row0_col1\" class=\"data row0 col1\" >7</td>\n",
       "                        <td id=\"T_92cf6_row0_col2\" class=\"data row0 col2\" >138</td>\n",
       "                        <td id=\"T_92cf6_row0_col3\" class=\"data row0 col3\" >37,309</td>\n",
       "            </tr>\n",
       "            <tr>\n",
       "                        <th id=\"T_92cf6_level0_row1\" class=\"row_heading level0 row1\" >4</th>\n",
       "                        <td id=\"T_92cf6_row1_col0\" class=\"data row1 col0\" >204</td>\n",
       "                        <td id=\"T_92cf6_row1_col1\" class=\"data row1 col1\" >11</td>\n",
       "                        <td id=\"T_92cf6_row1_col2\" class=\"data row1 col2\" >200</td>\n",
       "                        <td id=\"T_92cf6_row1_col3\" class=\"data row1 col3\" >52,138</td>\n",
       "            </tr>\n",
       "            <tr>\n",
       "                        <th id=\"T_92cf6_level0_row2\" class=\"row_heading level0 row2\" >5</th>\n",
       "                        <td id=\"T_92cf6_row2_col0\" class=\"data row2 col0\" >183</td>\n",
       "                        <td id=\"T_92cf6_row2_col1\" class=\"data row2 col1\" >16</td>\n",
       "                        <td id=\"T_92cf6_row2_col2\" class=\"data row2 col2\" >295</td>\n",
       "                        <td id=\"T_92cf6_row2_col3\" class=\"data row2 col3\" >108,729</td>\n",
       "            </tr>\n",
       "            <tr>\n",
       "                        <th id=\"T_92cf6_level0_row3\" class=\"row_heading level0 row3\" >6</th>\n",
       "                        <td id=\"T_92cf6_row3_col0\" class=\"data row3 col0\" >126</td>\n",
       "                        <td id=\"T_92cf6_row3_col1\" class=\"data row3 col1\" >20</td>\n",
       "                        <td id=\"T_92cf6_row3_col2\" class=\"data row3 col2\" >371</td>\n",
       "                        <td id=\"T_92cf6_row3_col3\" class=\"data row3 col3\" >142,014</td>\n",
       "            </tr>\n",
       "            <tr>\n",
       "                        <th id=\"T_92cf6_level0_row4\" class=\"row_heading level0 row4\" >7</th>\n",
       "                        <td id=\"T_92cf6_row4_col0\" class=\"data row4 col0\" >103</td>\n",
       "                        <td id=\"T_92cf6_row4_col1\" class=\"data row4 col1\" >26</td>\n",
       "                        <td id=\"T_92cf6_row4_col2\" class=\"data row4 col2\" >898</td>\n",
       "                        <td id=\"T_92cf6_row4_col3\" class=\"data row4 col3\" >345,746</td>\n",
       "            </tr>\n",
       "            <tr>\n",
       "                        <th id=\"T_92cf6_level0_row5\" class=\"row_heading level0 row5\" >8</th>\n",
       "                        <td id=\"T_92cf6_row5_col0\" class=\"data row5 col0\" >87</td>\n",
       "                        <td id=\"T_92cf6_row5_col1\" class=\"data row5 col1\" >36</td>\n",
       "                        <td id=\"T_92cf6_row5_col2\" class=\"data row5 col2\" >628</td>\n",
       "                        <td id=\"T_92cf6_row5_col3\" class=\"data row5 col3\" >227,483</td>\n",
       "            </tr>\n",
       "            <tr>\n",
       "                        <th id=\"T_92cf6_level0_row6\" class=\"row_heading level0 row6\" >9</th>\n",
       "                        <td id=\"T_92cf6_row6_col0\" class=\"data row6 col0\" >70</td>\n",
       "                        <td id=\"T_92cf6_row6_col1\" class=\"data row6 col1\" >46</td>\n",
       "                        <td id=\"T_92cf6_row6_col2\" class=\"data row6 col2\" >858</td>\n",
       "                        <td id=\"T_92cf6_row6_col3\" class=\"data row6 col3\" >309,676</td>\n",
       "            </tr>\n",
       "            <tr>\n",
       "                        <th id=\"T_92cf6_level0_row7\" class=\"row_heading level0 row7\" >10</th>\n",
       "                        <td id=\"T_92cf6_row7_col0\" class=\"data row7 col0\" >59</td>\n",
       "                        <td id=\"T_92cf6_row7_col1\" class=\"data row7 col1\" >62</td>\n",
       "                        <td id=\"T_92cf6_row7_col2\" class=\"data row7 col2\" >1,123</td>\n",
       "                        <td id=\"T_92cf6_row7_col3\" class=\"data row7 col3\" >392,016</td>\n",
       "            </tr>\n",
       "            <tr>\n",
       "                        <th id=\"T_92cf6_level0_row8\" class=\"row_heading level0 row8\" >11</th>\n",
       "                        <td id=\"T_92cf6_row8_col0\" class=\"data row8 col0\" >45</td>\n",
       "                        <td id=\"T_92cf6_row8_col1\" class=\"data row8 col1\" >80</td>\n",
       "                        <td id=\"T_92cf6_row8_col2\" class=\"data row8 col2\" >1,445</td>\n",
       "                        <td id=\"T_92cf6_row8_col3\" class=\"data row8 col3\" >487,016</td>\n",
       "            </tr>\n",
       "            <tr>\n",
       "                        <th id=\"T_92cf6_level0_row9\" class=\"row_heading level0 row9\" >12</th>\n",
       "                        <td id=\"T_92cf6_row9_col0\" class=\"data row9 col0\" >35</td>\n",
       "                        <td id=\"T_92cf6_row9_col1\" class=\"data row9 col1\" >108</td>\n",
       "                        <td id=\"T_92cf6_row9_col2\" class=\"data row9 col2\" >1,794</td>\n",
       "                        <td id=\"T_92cf6_row9_col3\" class=\"data row9 col3\" >592,058</td>\n",
       "            </tr>\n",
       "            <tr>\n",
       "                        <th id=\"T_92cf6_level0_row10\" class=\"row_heading level0 row10\" >13</th>\n",
       "                        <td id=\"T_92cf6_row10_col0\" class=\"data row10 col0\" >23</td>\n",
       "                        <td id=\"T_92cf6_row10_col1\" class=\"data row10 col1\" >140</td>\n",
       "                        <td id=\"T_92cf6_row10_col2\" class=\"data row10 col2\" >3,080</td>\n",
       "                        <td id=\"T_92cf6_row10_col3\" class=\"data row10 col3\" >973,379</td>\n",
       "            </tr>\n",
       "            <tr>\n",
       "                        <th id=\"T_92cf6_level0_row11\" class=\"row_heading level0 row11\" >14</th>\n",
       "                        <td id=\"T_92cf6_row11_col0\" class=\"data row11 col0\" >16</td>\n",
       "                        <td id=\"T_92cf6_row11_col1\" class=\"data row11 col1\" >230</td>\n",
       "                        <td id=\"T_92cf6_row11_col2\" class=\"data row11 col2\" >4,797</td>\n",
       "                        <td id=\"T_92cf6_row11_col3\" class=\"data row11 col3\" >1,467,897</td>\n",
       "            </tr>\n",
       "            <tr>\n",
       "                        <th id=\"T_92cf6_level0_row12\" class=\"row_heading level0 row12\" >15</th>\n",
       "                        <td id=\"T_92cf6_row12_col0\" class=\"data row12 col0\" >5</td>\n",
       "                        <td id=\"T_92cf6_row12_col1\" class=\"data row12 col1\" >439</td>\n",
       "                        <td id=\"T_92cf6_row12_col2\" class=\"data row12 col2\" >11,596</td>\n",
       "                        <td id=\"T_92cf6_row12_col3\" class=\"data row12 col3\" >3,583,278</td>\n",
       "            </tr>\n",
       "    </tbody></table>"
      ],
      "text/plain": [
       "<pandas.io.formats.style.Styler at 0x2b02e24d670>"
      ]
     },
     "execution_count": 58,
     "metadata": {},
     "output_type": "execute_result"
    }
   ],
   "source": [
    "# 문자열의 format 함수를 사용하여 소수점 아래는 표기하지 않도록({:,.0f}) 문자열 포맷을 지정합니다.\n",
    "score_rfm = rfm.groupby([\"RFM_score\"]).agg({\"Recency\" : \"mean\", \n",
    "                                \"Frequency\" : \"mean\", \n",
    "                                \"MonetaryValue\" : [\"mean\", \"sum\"]})\n",
    "score_rfm.style.background_gradient().format(\"{:,.0f}\")"
   ]
  },
  {
   "cell_type": "markdown",
   "metadata": {
    "id": "X3KSdfek_7gr"
   },
   "source": [
    "### qcut을 통한 고객군 나누기"
   ]
  },
  {
   "cell_type": "code",
   "execution_count": 59,
   "metadata": {
    "colab": {
     "base_uri": "https://localhost:8080/",
     "height": 237
    },
    "executionInfo": {
     "elapsed": 16,
     "status": "ok",
     "timestamp": 1634777189012,
     "user": {
      "displayName": "JINY ROH",
      "photoUrl": "https://lh3.googleusercontent.com/a-/AOh14Gi7VIzxUnr7MUJE9Bupl4bkwgEAsz4e1gsgrYIPZw=s64",
      "userId": "06348894780083418282"
     },
     "user_tz": -540
    },
    "id": "vQwF3Eod_7gr",
    "outputId": "6a57d9e1-8355-4a33-e2af-be032a08fcf7"
   },
   "outputs": [
    {
     "data": {
      "text/html": [
       "<div>\n",
       "<style scoped>\n",
       "    .dataframe tbody tr th:only-of-type {\n",
       "        vertical-align: middle;\n",
       "    }\n",
       "\n",
       "    .dataframe tbody tr th {\n",
       "        vertical-align: top;\n",
       "    }\n",
       "\n",
       "    .dataframe thead th {\n",
       "        text-align: right;\n",
       "    }\n",
       "</style>\n",
       "<table border=\"1\" class=\"dataframe\">\n",
       "  <thead>\n",
       "    <tr style=\"text-align: right;\">\n",
       "      <th></th>\n",
       "      <th>Recency</th>\n",
       "      <th>Frequency</th>\n",
       "      <th>MonetaryValue</th>\n",
       "      <th>R</th>\n",
       "      <th>F</th>\n",
       "      <th>M</th>\n",
       "      <th>RFM_segment</th>\n",
       "      <th>RFM_score</th>\n",
       "      <th>RFM_class</th>\n",
       "    </tr>\n",
       "    <tr>\n",
       "      <th>CustomerID</th>\n",
       "      <th></th>\n",
       "      <th></th>\n",
       "      <th></th>\n",
       "      <th></th>\n",
       "      <th></th>\n",
       "      <th></th>\n",
       "      <th></th>\n",
       "      <th></th>\n",
       "      <th></th>\n",
       "    </tr>\n",
       "  </thead>\n",
       "  <tbody>\n",
       "    <tr>\n",
       "      <th>12346.0</th>\n",
       "      <td>326</td>\n",
       "      <td>1</td>\n",
       "      <td>77183.60</td>\n",
       "      <td>1</td>\n",
       "      <td>1</td>\n",
       "      <td>5</td>\n",
       "      <td>115</td>\n",
       "      <td>7</td>\n",
       "      <td>silver</td>\n",
       "    </tr>\n",
       "    <tr>\n",
       "      <th>12347.0</th>\n",
       "      <td>2</td>\n",
       "      <td>182</td>\n",
       "      <td>4310.00</td>\n",
       "      <td>5</td>\n",
       "      <td>5</td>\n",
       "      <td>5</td>\n",
       "      <td>555</td>\n",
       "      <td>15</td>\n",
       "      <td>platinum</td>\n",
       "    </tr>\n",
       "    <tr>\n",
       "      <th>12348.0</th>\n",
       "      <td>75</td>\n",
       "      <td>31</td>\n",
       "      <td>1797.24</td>\n",
       "      <td>2</td>\n",
       "      <td>3</td>\n",
       "      <td>4</td>\n",
       "      <td>234</td>\n",
       "      <td>9</td>\n",
       "      <td>gold</td>\n",
       "    </tr>\n",
       "    <tr>\n",
       "      <th>12349.0</th>\n",
       "      <td>19</td>\n",
       "      <td>73</td>\n",
       "      <td>1757.55</td>\n",
       "      <td>4</td>\n",
       "      <td>4</td>\n",
       "      <td>4</td>\n",
       "      <td>444</td>\n",
       "      <td>12</td>\n",
       "      <td>platinum</td>\n",
       "    </tr>\n",
       "    <tr>\n",
       "      <th>12350.0</th>\n",
       "      <td>310</td>\n",
       "      <td>17</td>\n",
       "      <td>334.40</td>\n",
       "      <td>1</td>\n",
       "      <td>2</td>\n",
       "      <td>2</td>\n",
       "      <td>122</td>\n",
       "      <td>5</td>\n",
       "      <td>silver</td>\n",
       "    </tr>\n",
       "  </tbody>\n",
       "</table>\n",
       "</div>"
      ],
      "text/plain": [
       "            Recency  Frequency  MonetaryValue  R  F  M RFM_segment  RFM_score  \\\n",
       "CustomerID                                                                      \n",
       "12346.0         326          1       77183.60  1  1  5         115          7   \n",
       "12347.0           2        182        4310.00  5  5  5         555         15   \n",
       "12348.0          75         31        1797.24  2  3  4         234          9   \n",
       "12349.0          19         73        1757.55  4  4  4         444         12   \n",
       "12350.0         310         17         334.40  1  2  2         122          5   \n",
       "\n",
       "           RFM_class  \n",
       "CustomerID            \n",
       "12346.0       silver  \n",
       "12347.0     platinum  \n",
       "12348.0         gold  \n",
       "12349.0     platinum  \n",
       "12350.0       silver  "
      ]
     },
     "execution_count": 59,
     "metadata": {},
     "output_type": "execute_result"
    }
   ],
   "source": [
    "# qcut 을 통해 3단계로 \"silver\", \"gold\", \"platinum\" 고객군을 나눕니다. \n",
    "rfm[\"RFM_class\"] = pd.qcut(rfm[\"RFM_score\"], 3, labels=[\"silver\", \"gold\", \"platinum\"])\n",
    "rfm.head()"
   ]
  },
  {
   "cell_type": "code",
   "execution_count": 60,
   "metadata": {
    "colab": {
     "base_uri": "https://localhost:8080/",
     "height": 175
    },
    "executionInfo": {
     "elapsed": 15,
     "status": "ok",
     "timestamp": 1634777189013,
     "user": {
      "displayName": "JINY ROH",
      "photoUrl": "https://lh3.googleusercontent.com/a-/AOh14Gi7VIzxUnr7MUJE9Bupl4bkwgEAsz4e1gsgrYIPZw=s64",
      "userId": "06348894780083418282"
     },
     "user_tz": -540
    },
    "id": "G2cq_KSs_7gr",
    "outputId": "214b4bbd-ae6b-40b4-ca61-bfeaa4b63bb0"
   },
   "outputs": [
    {
     "data": {
      "text/html": [
       "<div>\n",
       "<style scoped>\n",
       "    .dataframe tbody tr th:only-of-type {\n",
       "        vertical-align: middle;\n",
       "    }\n",
       "\n",
       "    .dataframe tbody tr th {\n",
       "        vertical-align: top;\n",
       "    }\n",
       "\n",
       "    .dataframe thead th {\n",
       "        text-align: right;\n",
       "    }\n",
       "</style>\n",
       "<table border=\"1\" class=\"dataframe\">\n",
       "  <thead>\n",
       "    <tr style=\"text-align: right;\">\n",
       "      <th></th>\n",
       "      <th>count</th>\n",
       "      <th>mean</th>\n",
       "      <th>std</th>\n",
       "      <th>min</th>\n",
       "      <th>25%</th>\n",
       "      <th>50%</th>\n",
       "      <th>75%</th>\n",
       "      <th>max</th>\n",
       "    </tr>\n",
       "    <tr>\n",
       "      <th>RFM_class</th>\n",
       "      <th></th>\n",
       "      <th></th>\n",
       "      <th></th>\n",
       "      <th></th>\n",
       "      <th></th>\n",
       "      <th></th>\n",
       "      <th></th>\n",
       "      <th></th>\n",
       "    </tr>\n",
       "  </thead>\n",
       "  <tbody>\n",
       "    <tr>\n",
       "      <th>silver</th>\n",
       "      <td>1668.0</td>\n",
       "      <td>5.209832</td>\n",
       "      <td>1.384324</td>\n",
       "      <td>3.0</td>\n",
       "      <td>4.0</td>\n",
       "      <td>5.0</td>\n",
       "      <td>6.0</td>\n",
       "      <td>7.0</td>\n",
       "    </tr>\n",
       "    <tr>\n",
       "      <th>gold</th>\n",
       "      <td>1409.0</td>\n",
       "      <td>9.469127</td>\n",
       "      <td>1.114505</td>\n",
       "      <td>8.0</td>\n",
       "      <td>8.0</td>\n",
       "      <td>9.0</td>\n",
       "      <td>10.0</td>\n",
       "      <td>11.0</td>\n",
       "    </tr>\n",
       "    <tr>\n",
       "      <th>platinum</th>\n",
       "      <td>1261.0</td>\n",
       "      <td>13.471055</td>\n",
       "      <td>1.124120</td>\n",
       "      <td>12.0</td>\n",
       "      <td>12.0</td>\n",
       "      <td>13.0</td>\n",
       "      <td>14.0</td>\n",
       "      <td>15.0</td>\n",
       "    </tr>\n",
       "  </tbody>\n",
       "</table>\n",
       "</div>"
      ],
      "text/plain": [
       "            count       mean       std   min   25%   50%   75%   max\n",
       "RFM_class                                                           \n",
       "silver     1668.0   5.209832  1.384324   3.0   4.0   5.0   6.0   7.0\n",
       "gold       1409.0   9.469127  1.114505   8.0   8.0   9.0  10.0  11.0\n",
       "platinum   1261.0  13.471055  1.124120  12.0  12.0  13.0  14.0  15.0"
      ]
     },
     "execution_count": 60,
     "metadata": {},
     "output_type": "execute_result"
    }
   ],
   "source": [
    "# \"RFM_class\" 별로 그룹화 하고 \"RFM_score\" 의 describe 값을 구합니다.\n",
    "rfm.groupby(\"RFM_class\")[\"RFM_score\"].describe()"
   ]
  },
  {
   "cell_type": "code",
   "execution_count": 61,
   "metadata": {
    "colab": {
     "base_uri": "https://localhost:8080/",
     "height": 300
    },
    "executionInfo": {
     "elapsed": 453,
     "status": "ok",
     "timestamp": 1634777189452,
     "user": {
      "displayName": "JINY ROH",
      "photoUrl": "https://lh3.googleusercontent.com/a-/AOh14Gi7VIzxUnr7MUJE9Bupl4bkwgEAsz4e1gsgrYIPZw=s64",
      "userId": "06348894780083418282"
     },
     "user_tz": -540
    },
    "id": "fYBy7xRZ_7gr",
    "outputId": "01ffff3a-ac22-46bc-9e3f-397d2ddb1573"
   },
   "outputs": [
    {
     "data": {
      "text/plain": [
       "<AxesSubplot:xlabel='RFM_class', ylabel='RFM_score'>"
      ]
     },
     "execution_count": 61,
     "metadata": {},
     "output_type": "execute_result"
    },
    {
     "data": {
      "image/png": "[encoded data removed]",
      "text/plain": [
       "<Figure size 432x288 with 1 Axes>"
      ]
     },
     "metadata": {
      "needs_background": "light"
     },
     "output_type": "display_data"
    }
   ],
   "source": [
    "# barplot으로 RFM_class 별 평균 RFM_score 나타냅니다.\n",
    "sns.barplot(data=rfm, x=\"RFM_class\", y=\"RFM_score\")"
   ]
  },
  {
   "cell_type": "code",
   "execution_count": 77,
   "metadata": {
    "colab": {
     "base_uri": "https://localhost:8080/",
     "height": 299
    },
    "executionInfo": {
     "elapsed": 297,
     "status": "ok",
     "timestamp": 1634777189743,
     "user": {
      "displayName": "JINY ROH",
      "photoUrl": "https://lh3.googleusercontent.com/a-/AOh14Gi7VIzxUnr7MUJE9Bupl4bkwgEAsz4e1gsgrYIPZw=s64",
      "userId": "06348894780083418282"
     },
     "user_tz": -540
    },
    "id": "VKkKWZLa_7gr",
    "outputId": "41119721-1a45-4f7a-a765-3a4f4d4db63d"
   },
   "outputs": [
    {
     "data": {
      "text/plain": [
       "<AxesSubplot:xlabel='RFM_class', ylabel='RFM_score'>"
      ]
     },
     "execution_count": 77,
     "metadata": {},
     "output_type": "execute_result"
    },
    {
     "data": {
      "image/png": "[encoded data removed]",
      "text/plain": [
       "<Figure size 432x288 with 1 Axes>"
      ]
     },
     "metadata": {
      "needs_background": "light"
     },
     "output_type": "display_data"
    }
   ],
   "source": [
    "# boxplot으로 RFM_class 별 평균 RFM_score 나타냅니다.\n",
    "sns.boxplot(data=rfm, x=\"RFM_class\", y=\"RFM_score\")"
   ]
  },
  {
   "cell_type": "code",
   "execution_count": 66,
   "metadata": {
    "colab": {
     "base_uri": "https://localhost:8080/",
     "height": 298
    },
    "executionInfo": {
     "elapsed": 743,
     "status": "ok",
     "timestamp": 1634777190484,
     "user": {
      "displayName": "JINY ROH",
      "photoUrl": "https://lh3.googleusercontent.com/a-/AOh14Gi7VIzxUnr7MUJE9Bupl4bkwgEAsz4e1gsgrYIPZw=s64",
      "userId": "06348894780083418282"
     },
     "user_tz": -540
    },
    "id": "7_bGj_go_7gr",
    "outputId": "55abf7e3-83e9-4edc-bef5-51003857de76"
   },
   "outputs": [
    {
     "data": {
      "text/plain": [
       "<AxesSubplot:xlabel='R', ylabel='RFM_score'>"
      ]
     },
     "execution_count": 66,
     "metadata": {},
     "output_type": "execute_result"
    },
    {
     "data": {
      "image/png": "[encoded data removed]",
      "text/plain": [
       "<Figure size 432x288 with 1 Axes>"
      ]
     },
     "metadata": {
      "needs_background": "light"
     },
     "output_type": "display_data"
    }
   ],
   "source": [
    "# pointplot으로 x=R, hue=RFM_class 별 평균 y=RFM_score 나타냅니다.\n",
    "# hue 옵션을 사용하면 특정 컬럼을 지정해서 표기할 수 있습니다.\n",
    "sns.pointplot(data=rfm, x=\"R\", y=\"RFM_score\", hue=\"RFM_class\")"
   ]
  },
  {
   "cell_type": "code",
   "execution_count": 67,
   "metadata": {
    "colab": {
     "base_uri": "https://localhost:8080/",
     "height": 298
    },
    "executionInfo": {
     "elapsed": 603,
     "status": "ok",
     "timestamp": 1634777191084,
     "user": {
      "displayName": "JINY ROH",
      "photoUrl": "https://lh3.googleusercontent.com/a-/AOh14Gi7VIzxUnr7MUJE9Bupl4bkwgEAsz4e1gsgrYIPZw=s64",
      "userId": "06348894780083418282"
     },
     "user_tz": -540
    },
    "id": "oDR-gUfC_7gs",
    "outputId": "a120eeaa-0693-49fc-d467-c99033f102b3"
   },
   "outputs": [
    {
     "data": {
      "text/plain": [
       "<AxesSubplot:xlabel='F', ylabel='RFM_score'>"
      ]
     },
     "execution_count": 67,
     "metadata": {},
     "output_type": "execute_result"
    },
    {
     "data": {
      "image/png": "[encoded data removed]",
      "text/plain": [
       "<Figure size 432x288 with 1 Axes>"
      ]
     },
     "metadata": {
      "needs_background": "light"
     },
     "output_type": "display_data"
    }
   ],
   "source": [
    "# pointplot으로 x=F, hue=RFM_class 별 평균 y=RFM_score 나타냅니다.\n",
    "sns.pointplot(data=rfm, x=\"F\", y=\"RFM_score\", hue=\"RFM_class\")"
   ]
  },
  {
   "cell_type": "code",
   "execution_count": 68,
   "metadata": {
    "colab": {
     "base_uri": "https://localhost:8080/",
     "height": 298
    },
    "executionInfo": {
     "elapsed": 714,
     "status": "ok",
     "timestamp": 1634777191794,
     "user": {
      "displayName": "JINY ROH",
      "photoUrl": "https://lh3.googleusercontent.com/a-/AOh14Gi7VIzxUnr7MUJE9Bupl4bkwgEAsz4e1gsgrYIPZw=s64",
      "userId": "06348894780083418282"
     },
     "user_tz": -540
    },
    "id": "CT4hCGtV_7gs",
    "outputId": "9a2db139-cc96-4619-ce00-bf957561308f"
   },
   "outputs": [
    {
     "data": {
      "text/plain": [
       "<AxesSubplot:xlabel='M', ylabel='RFM_score'>"
      ]
     },
     "execution_count": 68,
     "metadata": {},
     "output_type": "execute_result"
    },
    {
     "data": {
      "image/png": "[encoded data removed]",
      "text/plain": [
       "<Figure size 432x288 with 1 Axes>"
      ]
     },
     "metadata": {
      "needs_background": "light"
     },
     "output_type": "display_data"
    }
   ],
   "source": [
    "# pointplot으로 x=M, hue=RFM_class 별 평균 y=RFM_score 나타냅니다.\n",
    "sns.pointplot(data=rfm, x=\"M\", y=\"RFM_score\", hue=\"RFM_class\")"
   ]
  },
  {
   "cell_type": "code",
   "execution_count": 75,
   "metadata": {
    "colab": {
     "base_uri": "https://localhost:8080/",
     "height": 206
    },
    "executionInfo": {
     "elapsed": 12,
     "status": "ok",
     "timestamp": 1634777191799,
     "user": {
      "displayName": "JINY ROH",
      "photoUrl": "https://lh3.googleusercontent.com/a-/AOh14Gi7VIzxUnr7MUJE9Bupl4bkwgEAsz4e1gsgrYIPZw=s64",
      "userId": "06348894780083418282"
     },
     "user_tz": -540
    },
    "id": "ak3nJGq__7gs",
    "outputId": "f6ce856e-5b3e-476d-daef-6fcfe0f8d7dc"
   },
   "outputs": [],
   "source": [
    "# \"RFM_class\" 별로 그룹화합니다.\n",
    "# \"Recency\", \"Frequency\" 의 평균을 구합니다.\n",
    "# \"MonetaryValue\"의 \"mean\", \"sum\", \"count\" 값을 구합니다.\n",
    "rfm_agg = rfm.groupby(\"RFM_class\").agg({\"Recency\": \"mean\", \n",
    "                              \"Frequency\": \"mean\",\n",
    "                             \"MonetaryValue\": [\"mean\", \"sum\", \"count\" ]})"
   ]
  },
  {
   "cell_type": "code",
   "execution_count": 76,
   "metadata": {
    "colab": {
     "base_uri": "https://localhost:8080/",
     "height": 147
    },
    "executionInfo": {
     "elapsed": 11,
     "status": "ok",
     "timestamp": 1634777191800,
     "user": {
      "displayName": "JINY ROH",
      "photoUrl": "https://lh3.googleusercontent.com/a-/AOh14Gi7VIzxUnr7MUJE9Bupl4bkwgEAsz4e1gsgrYIPZw=s64",
      "userId": "06348894780083418282"
     },
     "user_tz": -540
    },
    "id": "D6euk0As_7gs",
    "outputId": "51b17864-c965-422e-9c0f-a0b05165996b"
   },
   "outputs": [
    {
     "data": {
      "text/html": [
       "<style  type=\"text/css\" >\n",
       "#T_24eb2_row0_col0,#T_24eb2_row0_col4,#T_24eb2_row2_col1,#T_24eb2_row2_col2,#T_24eb2_row2_col3{\n",
       "            background-color:  #023858;\n",
       "            color:  #f1f1f1;\n",
       "        }#T_24eb2_row0_col1,#T_24eb2_row0_col2,#T_24eb2_row0_col3,#T_24eb2_row2_col0,#T_24eb2_row2_col4{\n",
       "            background-color:  #fff7fb;\n",
       "            color:  #000000;\n",
       "        }#T_24eb2_row1_col0{\n",
       "            background-color:  #bdc8e1;\n",
       "            color:  #000000;\n",
       "        }#T_24eb2_row1_col1{\n",
       "            background-color:  #dfddec;\n",
       "            color:  #000000;\n",
       "        }#T_24eb2_row1_col2,#T_24eb2_row1_col3{\n",
       "            background-color:  #ede7f2;\n",
       "            color:  #000000;\n",
       "        }#T_24eb2_row1_col4{\n",
       "            background-color:  #a9bfdc;\n",
       "            color:  #000000;\n",
       "        }</style><table id=\"T_24eb2_\" ><thead>    <tr>        <th class=\"blank level0\" ></th>        <th class=\"col_heading level0 col0\" >Recency</th>        <th class=\"col_heading level0 col1\" >Frequency</th>        <th class=\"col_heading level0 col2\" colspan=\"3\">MonetaryValue</th>    </tr>    <tr>        <th class=\"blank level1\" ></th>        <th class=\"col_heading level1 col0\" >mean</th>        <th class=\"col_heading level1 col1\" >mean</th>        <th class=\"col_heading level1 col2\" >mean</th>        <th class=\"col_heading level1 col3\" >sum</th>        <th class=\"col_heading level1 col4\" >count</th>    </tr>    <tr>        <th class=\"index_name level0\" >RFM_class</th>        <th class=\"blank\" ></th>        <th class=\"blank\" ></th>        <th class=\"blank\" ></th>        <th class=\"blank\" ></th>        <th class=\"blank\" ></th>    </tr></thead><tbody>\n",
       "                <tr>\n",
       "                        <th id=\"T_24eb2_level0_row0\" class=\"row_heading level0 row0\" >silver</th>\n",
       "                        <td id=\"T_24eb2_row0_col0\" class=\"data row0 col0\" >170.072542</td>\n",
       "                        <td id=\"T_24eb2_row0_col1\" class=\"data row0 col1\" >17.068945</td>\n",
       "                        <td id=\"T_24eb2_row0_col2\" class=\"data row0 col2\" >411.232339</td>\n",
       "                        <td id=\"T_24eb2_row0_col3\" class=\"data row0 col3\" >685935.542000</td>\n",
       "                        <td id=\"T_24eb2_row0_col4\" class=\"data row0 col4\" >1668</td>\n",
       "            </tr>\n",
       "            <tr>\n",
       "                        <th id=\"T_24eb2_level0_row1\" class=\"row_heading level0 row1\" >gold</th>\n",
       "                        <td id=\"T_24eb2_row1_col0\" class=\"data row1 col0\" >65.855926</td>\n",
       "                        <td id=\"T_24eb2_row1_col1\" class=\"data row1 col1\" >55.664301</td>\n",
       "                        <td id=\"T_24eb2_row1_col2\" class=\"data row1 col2\" >1005.104153</td>\n",
       "                        <td id=\"T_24eb2_row1_col3\" class=\"data row1 col3\" >1416191.752000</td>\n",
       "                        <td id=\"T_24eb2_row1_col4\" class=\"data row1 col4\" >1409</td>\n",
       "            </tr>\n",
       "            <tr>\n",
       "                        <th id=\"T_24eb2_level0_row2\" class=\"row_heading level0 row2\" >platinum</th>\n",
       "                        <td id=\"T_24eb2_row2_col0\" class=\"data row2 col0\" >19.949247</td>\n",
       "                        <td id=\"T_24eb2_row2_col1\" class=\"data row2 col1\" >226.636796</td>\n",
       "                        <td id=\"T_24eb2_row2_col2\" class=\"data row2 col2\" >5247.114988</td>\n",
       "                        <td id=\"T_24eb2_row2_col3\" class=\"data row2 col3\" >6616612.000000</td>\n",
       "                        <td id=\"T_24eb2_row2_col4\" class=\"data row2 col4\" >1261</td>\n",
       "            </tr>\n",
       "    </tbody></table>"
      ],
      "text/plain": [
       "<pandas.io.formats.style.Styler at 0x2b030e35760>"
      ]
     },
     "execution_count": 76,
     "metadata": {},
     "output_type": "execute_result"
    }
   ],
   "source": [
    "# 위에서 구한 값을 .style.background_gradient() 통해서 시각화합니다.\n",
    "rfm_agg.style.background_gradient() "
   ]
  },
  {
   "cell_type": "code",
   "execution_count": null,
   "metadata": {
    "colab": {
     "base_uri": "https://localhost:8080/",
     "height": 147
    },
    "executionInfo": {
     "elapsed": 10,
     "status": "ok",
     "timestamp": 1634777191800,
     "user": {
      "displayName": "JINY ROH",
      "photoUrl": "https://lh3.googleusercontent.com/a-/AOh14Gi7VIzxUnr7MUJE9Bupl4bkwgEAsz4e1gsgrYIPZw=s64",
      "userId": "06348894780083418282"
     },
     "user_tz": -540
    },
    "id": "1kycu3_W_7gs",
    "outputId": "6bae3106-6b5c-4c71-cf3e-34fedd99b4ca"
   },
   "outputs": [],
   "source": [
    "#.style.format(\"{:,}\") 로 천단위에 콤마(,)표기 하도록 문자열 포맷을 지정합니다.\n",
    "rfm_agg.astype(int).style.format(\"{:,}\")"
   ]
  },
  {
   "cell_type": "code",
   "execution_count": 78,
   "metadata": {
    "colab": {
     "base_uri": "https://localhost:8080/",
     "height": 244
    },
    "executionInfo": {
     "elapsed": 501,
     "status": "ok",
     "timestamp": 1634777192292,
     "user": {
      "displayName": "JINY ROH",
      "photoUrl": "https://lh3.googleusercontent.com/a-/AOh14Gi7VIzxUnr7MUJE9Bupl4bkwgEAsz4e1gsgrYIPZw=s64",
      "userId": "06348894780083418282"
     },
     "user_tz": -540
    },
    "id": "Re4b0X8w_7gs",
    "outputId": "a12ba7f1-16d6-49fa-bf7a-a4dae5bf93ca"
   },
   "outputs": [
    {
     "data": {
      "text/plain": [
       "<AxesSubplot:xlabel='Recency', ylabel='Density'>"
      ]
     },
     "execution_count": 78,
     "metadata": {},
     "output_type": "execute_result"
    },
    {
     "data": {
      "image/png": "[encoded data removed]",
      "text/plain": [
       "<Figure size 1080x216 with 1 Axes>"
      ]
     },
     "metadata": {
      "needs_background": "light"
     },
     "output_type": "display_data"
    }
   ],
   "source": [
    "# kdeplot으로 rfm변수에 있는 Recency 의 RFM_class 별 분포를 그립니다.\n",
    "plt.figure(figsize=(15, 3))\n",
    "sns.kdeplot(data=rfm, x=\"Recency\", hue=\"RFM_class\")"
   ]
  },
  {
   "cell_type": "code",
   "execution_count": null,
   "metadata": {
    "colab": {
     "base_uri": "https://localhost:8080/",
     "height": 244
    },
    "executionInfo": {
     "elapsed": 395,
     "status": "ok",
     "timestamp": 1634777192684,
     "user": {
      "displayName": "JINY ROH",
      "photoUrl": "https://lh3.googleusercontent.com/a-/AOh14Gi7VIzxUnr7MUJE9Bupl4bkwgEAsz4e1gsgrYIPZw=s64",
      "userId": "06348894780083418282"
     },
     "user_tz": -540
    },
    "id": "2ZGGLJwB_7gs",
    "outputId": "1ce4a6a9-edb0-471a-ef88-dc0872924803"
   },
   "outputs": [],
   "source": [
    "# pointplot 으로 Recency 의 RFM_class 별 분포를 그립니다.\n",
    "plt.figure(figsize=(15, 3))\n"
   ]
  },
  {
   "cell_type": "code",
   "execution_count": null,
   "metadata": {
    "executionInfo": {
     "elapsed": 3,
     "status": "ok",
     "timestamp": 1634777192684,
     "user": {
      "displayName": "JINY ROH",
      "photoUrl": "https://lh3.googleusercontent.com/a-/AOh14Gi7VIzxUnr7MUJE9Bupl4bkwgEAsz4e1gsgrYIPZw=s64",
      "userId": "06348894780083418282"
     },
     "user_tz": -540
    },
    "id": "QD_ee4q-_7gt"
   },
   "outputs": [],
   "source": [
    "# 두 개의 그래프를 그리는 함수를 만듭니다.\n",
    "def show_kde_point_plot(kde_x=\"Recency\", point_x=\"R\"):\n",
    "    plt.figure(figsize=(15, 3))\n",
    "    sns.kdeplot(data=rfm, x=kde_x, hue=\"RFM_class\")\n",
    "    plt.figure(figsize=(15, 3))\n",
    "    sns.pointplot(data=rfm, x=point_x, y=\"RFM_score\", hue=\"RFM_class\")"
   ]
  },
  {
   "cell_type": "code",
   "execution_count": null,
   "metadata": {
    "colab": {
     "base_uri": "https://localhost:8080/",
     "height": 433
    },
    "executionInfo": {
     "elapsed": 1226,
     "status": "ok",
     "timestamp": 1634777193907,
     "user": {
      "displayName": "JINY ROH",
      "photoUrl": "https://lh3.googleusercontent.com/a-/AOh14Gi7VIzxUnr7MUJE9Bupl4bkwgEAsz4e1gsgrYIPZw=s64",
      "userId": "06348894780083418282"
     },
     "user_tz": -540
    },
    "id": "QFp4SwAi_7gt",
    "outputId": "d718a0f4-24de-4856-f82f-ea0056d50368"
   },
   "outputs": [],
   "source": [
    "# 두 개의 그래프로 Recency 의 RFM_class 별 분포를 그립니다.\n",
    "show_kde_point_plot(kde_x=\"Recency\", point_x=\"R\")"
   ]
  },
  {
   "cell_type": "code",
   "execution_count": null,
   "metadata": {
    "colab": {
     "base_uri": "https://localhost:8080/",
     "height": 433
    },
    "executionInfo": {
     "elapsed": 1065,
     "status": "ok",
     "timestamp": 1634777194971,
     "user": {
      "displayName": "JINY ROH",
      "photoUrl": "https://lh3.googleusercontent.com/a-/AOh14Gi7VIzxUnr7MUJE9Bupl4bkwgEAsz4e1gsgrYIPZw=s64",
      "userId": "06348894780083418282"
     },
     "user_tz": -540
    },
    "id": "vo1cC03N_7gt",
    "outputId": "0e497196-f762-4cff-fee0-0472856e34fb"
   },
   "outputs": [],
   "source": [
    "# 두 개의 그래프로 Frequency 의 RFM_class 별 분포를 그립니다.(point_x=\"F\")\n"
   ]
  },
  {
   "cell_type": "code",
   "execution_count": null,
   "metadata": {
    "colab": {
     "base_uri": "https://localhost:8080/",
     "height": 433
    },
    "executionInfo": {
     "elapsed": 894,
     "status": "ok",
     "timestamp": 1634777195862,
     "user": {
      "displayName": "JINY ROH",
      "photoUrl": "https://lh3.googleusercontent.com/a-/AOh14Gi7VIzxUnr7MUJE9Bupl4bkwgEAsz4e1gsgrYIPZw=s64",
      "userId": "06348894780083418282"
     },
     "user_tz": -540
    },
    "id": "s0-H5EfZ_7gt",
    "outputId": "cf9d7a9d-3cc0-49d8-cccc-8c7d2c12114c"
   },
   "outputs": [],
   "source": [
    "# 두 개의 그래프로 MonetaryValue 의 RFM_class 별 분포를 그립니다.(point_x=\"M\")\n"
   ]
  },
  {
   "cell_type": "code",
   "execution_count": null,
   "metadata": {
    "colab": {
     "base_uri": "https://localhost:8080/",
     "height": 388
    },
    "executionInfo": {
     "elapsed": 1362,
     "status": "ok",
     "timestamp": 1634777197221,
     "user": {
      "displayName": "JINY ROH",
      "photoUrl": "https://lh3.googleusercontent.com/a-/AOh14Gi7VIzxUnr7MUJE9Bupl4bkwgEAsz4e1gsgrYIPZw=s64",
      "userId": "06348894780083418282"
     },
     "user_tz": -540
    },
    "id": "yVuhnKdM_7gt",
    "outputId": "dd3799a5-72a9-4144-e3b3-7a6114ef8d54"
   },
   "outputs": [],
   "source": [
    "# lmplot 을 통해  x=\"Recency\", y=\"MonetaryValue\", hue=\"RFM_class\", col=\"RFM_class\" 값을 시각화 합니다.\n"
   ]
  },
  {
   "cell_type": "code",
   "execution_count": null,
   "metadata": {
    "colab": {
     "base_uri": "https://localhost:8080/",
     "height": 745
    },
    "executionInfo": {
     "elapsed": 7330,
     "status": "ok",
     "timestamp": 1634777204545,
     "user": {
      "displayName": "JINY ROH",
      "photoUrl": "https://lh3.googleusercontent.com/a-/AOh14Gi7VIzxUnr7MUJE9Bupl4bkwgEAsz4e1gsgrYIPZw=s64",
      "userId": "06348894780083418282"
     },
     "user_tz": -540
    },
    "id": "m1rZeiwi_7gt",
    "outputId": "1edeabc0-3bc7-4982-e56d-c8c577148880"
   },
   "outputs": [],
   "source": [
    "# pairplot 을 통해 \"RFM_class\" 별로 분포를 시각화 합니다.\n"
   ]
  },
  {
   "cell_type": "code",
   "execution_count": 79,
   "metadata": {
    "colab": {
     "base_uri": "https://localhost:8080/",
     "height": 175
    },
    "executionInfo": {
     "elapsed": 22,
     "status": "ok",
     "timestamp": 1634777204546,
     "user": {
      "displayName": "JINY ROH",
      "photoUrl": "https://lh3.googleusercontent.com/a-/AOh14Gi7VIzxUnr7MUJE9Bupl4bkwgEAsz4e1gsgrYIPZw=s64",
      "userId": "06348894780083418282"
     },
     "user_tz": -540
    },
    "id": "4pw6jAA7_7gt",
    "outputId": "b552ffd5-50dd-4ade-9441-2310e777a370"
   },
   "outputs": [
    {
     "data": {
      "text/html": [
       "<div>\n",
       "<style scoped>\n",
       "    .dataframe tbody tr th:only-of-type {\n",
       "        vertical-align: middle;\n",
       "    }\n",
       "\n",
       "    .dataframe tbody tr th {\n",
       "        vertical-align: top;\n",
       "    }\n",
       "\n",
       "    .dataframe thead th {\n",
       "        text-align: right;\n",
       "    }\n",
       "</style>\n",
       "<table border=\"1\" class=\"dataframe\">\n",
       "  <thead>\n",
       "    <tr style=\"text-align: right;\">\n",
       "      <th></th>\n",
       "      <th>Recency</th>\n",
       "      <th>Frequency</th>\n",
       "      <th>MonetaryValue</th>\n",
       "      <th>RFM_score</th>\n",
       "    </tr>\n",
       "  </thead>\n",
       "  <tbody>\n",
       "    <tr>\n",
       "      <th>Recency</th>\n",
       "      <td>1.000000</td>\n",
       "      <td>-0.206618</td>\n",
       "      <td>-0.122937</td>\n",
       "      <td>-0.700621</td>\n",
       "    </tr>\n",
       "    <tr>\n",
       "      <th>Frequency</th>\n",
       "      <td>-0.206618</td>\n",
       "      <td>1.000000</td>\n",
       "      <td>0.444920</td>\n",
       "      <td>0.404260</td>\n",
       "    </tr>\n",
       "    <tr>\n",
       "      <th>MonetaryValue</th>\n",
       "      <td>-0.122937</td>\n",
       "      <td>0.444920</td>\n",
       "      <td>1.000000</td>\n",
       "      <td>0.250433</td>\n",
       "    </tr>\n",
       "    <tr>\n",
       "      <th>RFM_score</th>\n",
       "      <td>-0.700621</td>\n",
       "      <td>0.404260</td>\n",
       "      <td>0.250433</td>\n",
       "      <td>1.000000</td>\n",
       "    </tr>\n",
       "  </tbody>\n",
       "</table>\n",
       "</div>"
      ],
      "text/plain": [
       "                Recency  Frequency  MonetaryValue  RFM_score\n",
       "Recency        1.000000  -0.206618      -0.122937  -0.700621\n",
       "Frequency     -0.206618   1.000000       0.444920   0.404260\n",
       "MonetaryValue -0.122937   0.444920       1.000000   0.250433\n",
       "RFM_score     -0.700621   0.404260       0.250433   1.000000"
      ]
     },
     "execution_count": 79,
     "metadata": {},
     "output_type": "execute_result"
    }
   ],
   "source": [
    "# .corr() 함수로 변수간 상관관계(선형적 관계)를 분석합니다.\n",
    "# 1에 가까울 수록 양의 상관관계, -1에 가까울 수록 음의 상관관계를 나타냅니다.\n",
    "corr = rfm.corr()\n",
    "corr\n"
   ]
  },
  {
   "cell_type": "code",
   "execution_count": 84,
   "metadata": {
    "colab": {
     "base_uri": "https://localhost:8080/"
    },
    "executionInfo": {
     "elapsed": 20,
     "status": "ok",
     "timestamp": 1634777204546,
     "user": {
      "displayName": "JINY ROH",
      "photoUrl": "https://lh3.googleusercontent.com/a-/AOh14Gi7VIzxUnr7MUJE9Bupl4bkwgEAsz4e1gsgrYIPZw=s64",
      "userId": "06348894780083418282"
     },
     "user_tz": -540
    },
    "id": "b8S67wlP_7gu",
    "outputId": "42e1a5f4-f81d-49fd-cd97-fa50f1300729"
   },
   "outputs": [],
   "source": [
    "# 삼각형태의 heatmap 형태를 만들기 위해 삼각형 마스크를 만듭니다.\n",
    "# mask\n",
    "mask = np.triu(np.ones_like(corr))"
   ]
  },
  {
   "cell_type": "code",
   "execution_count": 86,
   "metadata": {
    "colab": {
     "base_uri": "https://localhost:8080/",
     "height": 289
    },
    "executionInfo": {
     "elapsed": 520,
     "status": "ok",
     "timestamp": 1634777205051,
     "user": {
      "displayName": "JINY ROH",
      "photoUrl": "https://lh3.googleusercontent.com/a-/AOh14Gi7VIzxUnr7MUJE9Bupl4bkwgEAsz4e1gsgrYIPZw=s64",
      "userId": "06348894780083418282"
     },
     "user_tz": -540
    },
    "id": "kKNw7jrM_7gu",
    "outputId": "1503f85c-6544-4a81-d1cb-58f0ab88e77f"
   },
   "outputs": [
    {
     "data": {
      "text/plain": [
       "<AxesSubplot:>"
      ]
     },
     "execution_count": 86,
     "metadata": {},
     "output_type": "execute_result"
    },
    {
     "data": {
      "image/png": "[encoded data removed]",
      "text/plain": [
       "<Figure size 432x288 with 2 Axes>"
      ]
     },
     "metadata": {
      "needs_background": "light"
     },
     "output_type": "display_data"
    }
   ],
   "source": [
    "# 상관관계를 열분포 형태의 이미지로 보여주는 heatmap 으로 데이터 시각화합니다.\n",
    "\n",
    "sns.heatmap(corr, annot=True, fmt=\".2f\", cmap=\"coolwarm\", mask=mask)"
   ]
  },
  {
   "cell_type": "code",
   "execution_count": 87,
   "metadata": {
    "executionInfo": {
     "elapsed": 14,
     "status": "ok",
     "timestamp": 1634777205052,
     "user": {
      "displayName": "JINY ROH",
      "photoUrl": "https://lh3.googleusercontent.com/a-/AOh14Gi7VIzxUnr7MUJE9Bupl4bkwgEAsz4e1gsgrYIPZw=s64",
      "userId": "06348894780083418282"
     },
     "user_tz": -540
    },
    "id": "dn0mGNA4_7gu"
   },
   "outputs": [],
   "source": [
    "# RFM 분석 자료를 csv 로 저장합니다.\n",
    "rfm.to_csv(\"rfm.csv\", index=True)"
   ]
  },
  {
   "cell_type": "code",
   "execution_count": 88,
   "metadata": {
    "colab": {
     "base_uri": "https://localhost:8080/",
     "height": 143
    },
    "executionInfo": {
     "elapsed": 14,
     "status": "ok",
     "timestamp": 1634777205053,
     "user": {
      "displayName": "JINY ROH",
      "photoUrl": "https://lh3.googleusercontent.com/a-/AOh14Gi7VIzxUnr7MUJE9Bupl4bkwgEAsz4e1gsgrYIPZw=s64",
      "userId": "06348894780083418282"
     },
     "user_tz": -540
    },
    "id": "2bPOUjNA_7gu",
    "outputId": "e659c8cd-c4d4-44ca-d914-79389dd93c4b"
   },
   "outputs": [
    {
     "data": {
      "text/html": [
       "<div>\n",
       "<style scoped>\n",
       "    .dataframe tbody tr th:only-of-type {\n",
       "        vertical-align: middle;\n",
       "    }\n",
       "\n",
       "    .dataframe tbody tr th {\n",
       "        vertical-align: top;\n",
       "    }\n",
       "\n",
       "    .dataframe thead th {\n",
       "        text-align: right;\n",
       "    }\n",
       "</style>\n",
       "<table border=\"1\" class=\"dataframe\">\n",
       "  <thead>\n",
       "    <tr style=\"text-align: right;\">\n",
       "      <th></th>\n",
       "      <th>CustomerID</th>\n",
       "      <th>Recency</th>\n",
       "      <th>Frequency</th>\n",
       "      <th>MonetaryValue</th>\n",
       "      <th>R</th>\n",
       "      <th>F</th>\n",
       "      <th>M</th>\n",
       "      <th>RFM_segment</th>\n",
       "      <th>RFM_score</th>\n",
       "      <th>RFM_class</th>\n",
       "    </tr>\n",
       "  </thead>\n",
       "  <tbody>\n",
       "    <tr>\n",
       "      <th>0</th>\n",
       "      <td>12346.0</td>\n",
       "      <td>326</td>\n",
       "      <td>1</td>\n",
       "      <td>77183.60</td>\n",
       "      <td>1</td>\n",
       "      <td>1</td>\n",
       "      <td>5</td>\n",
       "      <td>115</td>\n",
       "      <td>7</td>\n",
       "      <td>silver</td>\n",
       "    </tr>\n",
       "    <tr>\n",
       "      <th>1</th>\n",
       "      <td>12347.0</td>\n",
       "      <td>2</td>\n",
       "      <td>182</td>\n",
       "      <td>4310.00</td>\n",
       "      <td>5</td>\n",
       "      <td>5</td>\n",
       "      <td>5</td>\n",
       "      <td>555</td>\n",
       "      <td>15</td>\n",
       "      <td>platinum</td>\n",
       "    </tr>\n",
       "    <tr>\n",
       "      <th>2</th>\n",
       "      <td>12348.0</td>\n",
       "      <td>75</td>\n",
       "      <td>31</td>\n",
       "      <td>1797.24</td>\n",
       "      <td>2</td>\n",
       "      <td>3</td>\n",
       "      <td>4</td>\n",
       "      <td>234</td>\n",
       "      <td>9</td>\n",
       "      <td>gold</td>\n",
       "    </tr>\n",
       "    <tr>\n",
       "      <th>3</th>\n",
       "      <td>12349.0</td>\n",
       "      <td>19</td>\n",
       "      <td>73</td>\n",
       "      <td>1757.55</td>\n",
       "      <td>4</td>\n",
       "      <td>4</td>\n",
       "      <td>4</td>\n",
       "      <td>444</td>\n",
       "      <td>12</td>\n",
       "      <td>platinum</td>\n",
       "    </tr>\n",
       "    <tr>\n",
       "      <th>4</th>\n",
       "      <td>12350.0</td>\n",
       "      <td>310</td>\n",
       "      <td>17</td>\n",
       "      <td>334.40</td>\n",
       "      <td>1</td>\n",
       "      <td>2</td>\n",
       "      <td>2</td>\n",
       "      <td>122</td>\n",
       "      <td>5</td>\n",
       "      <td>silver</td>\n",
       "    </tr>\n",
       "    <tr>\n",
       "      <th>...</th>\n",
       "      <td>...</td>\n",
       "      <td>...</td>\n",
       "      <td>...</td>\n",
       "      <td>...</td>\n",
       "      <td>...</td>\n",
       "      <td>...</td>\n",
       "      <td>...</td>\n",
       "      <td>...</td>\n",
       "      <td>...</td>\n",
       "      <td>...</td>\n",
       "    </tr>\n",
       "    <tr>\n",
       "      <th>4333</th>\n",
       "      <td>18280.0</td>\n",
       "      <td>278</td>\n",
       "      <td>10</td>\n",
       "      <td>180.60</td>\n",
       "      <td>1</td>\n",
       "      <td>1</td>\n",
       "      <td>1</td>\n",
       "      <td>111</td>\n",
       "      <td>3</td>\n",
       "      <td>silver</td>\n",
       "    </tr>\n",
       "    <tr>\n",
       "      <th>4334</th>\n",
       "      <td>18281.0</td>\n",
       "      <td>181</td>\n",
       "      <td>7</td>\n",
       "      <td>80.82</td>\n",
       "      <td>1</td>\n",
       "      <td>1</td>\n",
       "      <td>1</td>\n",
       "      <td>111</td>\n",
       "      <td>3</td>\n",
       "      <td>silver</td>\n",
       "    </tr>\n",
       "    <tr>\n",
       "      <th>4335</th>\n",
       "      <td>18282.0</td>\n",
       "      <td>8</td>\n",
       "      <td>12</td>\n",
       "      <td>178.05</td>\n",
       "      <td>5</td>\n",
       "      <td>1</td>\n",
       "      <td>1</td>\n",
       "      <td>511</td>\n",
       "      <td>7</td>\n",
       "      <td>silver</td>\n",
       "    </tr>\n",
       "    <tr>\n",
       "      <th>4336</th>\n",
       "      <td>18283.0</td>\n",
       "      <td>4</td>\n",
       "      <td>721</td>\n",
       "      <td>2045.53</td>\n",
       "      <td>5</td>\n",
       "      <td>5</td>\n",
       "      <td>4</td>\n",
       "      <td>554</td>\n",
       "      <td>14</td>\n",
       "      <td>platinum</td>\n",
       "    </tr>\n",
       "    <tr>\n",
       "      <th>4337</th>\n",
       "      <td>18287.0</td>\n",
       "      <td>43</td>\n",
       "      <td>70</td>\n",
       "      <td>1837.28</td>\n",
       "      <td>3</td>\n",
       "      <td>4</td>\n",
       "      <td>4</td>\n",
       "      <td>344</td>\n",
       "      <td>11</td>\n",
       "      <td>gold</td>\n",
       "    </tr>\n",
       "  </tbody>\n",
       "</table>\n",
       "<p>4338 rows × 10 columns</p>\n",
       "</div>"
      ],
      "text/plain": [
       "      CustomerID  Recency  Frequency  MonetaryValue  R  F  M  RFM_segment  \\\n",
       "0        12346.0      326          1       77183.60  1  1  5          115   \n",
       "1        12347.0        2        182        4310.00  5  5  5          555   \n",
       "2        12348.0       75         31        1797.24  2  3  4          234   \n",
       "3        12349.0       19         73        1757.55  4  4  4          444   \n",
       "4        12350.0      310         17         334.40  1  2  2          122   \n",
       "...          ...      ...        ...            ... .. .. ..          ...   \n",
       "4333     18280.0      278         10         180.60  1  1  1          111   \n",
       "4334     18281.0      181          7          80.82  1  1  1          111   \n",
       "4335     18282.0        8         12         178.05  5  1  1          511   \n",
       "4336     18283.0        4        721        2045.53  5  5  4          554   \n",
       "4337     18287.0       43         70        1837.28  3  4  4          344   \n",
       "\n",
       "      RFM_score RFM_class  \n",
       "0             7    silver  \n",
       "1            15  platinum  \n",
       "2             9      gold  \n",
       "3            12  platinum  \n",
       "4             5    silver  \n",
       "...         ...       ...  \n",
       "4333          3    silver  \n",
       "4334          3    silver  \n",
       "4335          7    silver  \n",
       "4336         14  platinum  \n",
       "4337         11      gold  \n",
       "\n",
       "[4338 rows x 10 columns]"
      ]
     },
     "execution_count": 88,
     "metadata": {},
     "output_type": "execute_result"
    }
   ],
   "source": [
    "# 저장된 csv 형태의 RFM 분석 자료를 읽어옵니다. \n",
    "pd.read_csv(\"rfm.csv\")"
   ]
  },
  {
   "cell_type": "code",
   "execution_count": null,
   "metadata": {
    "executionInfo": {
     "elapsed": 13,
     "status": "ok",
     "timestamp": 1634777205054,
     "user": {
      "displayName": "JINY ROH",
      "photoUrl": "https://lh3.googleusercontent.com/a-/AOh14Gi7VIzxUnr7MUJE9Bupl4bkwgEAsz4e1gsgrYIPZw=s64",
      "userId": "06348894780083418282"
     },
     "user_tz": -540
    },
    "id": "pDRNg5rK_7gu"
   },
   "outputs": [],
   "source": []
  }
 ],
 "metadata": {
  "colab": {
   "collapsed_sections": [],
   "name": "02-RFM.ipynb",
   "provenance": []
  },
  "kernelspec": {
   "display_name": "Python 3",
   "language": "python",
   "name": "python3"
  },
  "language_info": {
   "codemirror_mode": {
    "name": "ipython",
    "version": 3
   },
   "file_extension": ".py",
   "mimetype": "text/x-python",
   "name": "python",
   "nbconvert_exporter": "python",
   "pygments_lexer": "ipython3",
   "version": "3.8.8"
  },
  "toc": {
   "base_numbering": 1,
   "nav_menu": {},
   "number_sections": true,
   "sideBar": true,
   "skip_h1_title": false,
   "title_cell": "Table of Contents",
   "title_sidebar": "Contents",
   "toc_cell": false,
   "toc_position": {},
   "toc_section_display": true,
   "toc_window_display": false
  },
  "varInspector": {
   "cols": {
    "lenName": 16,
    "lenType": 16,
    "lenVar": 40
   },
   "kernels_config": {
    "python": {
     "delete_cmd_postfix": "",
     "delete_cmd_prefix": "del ",
     "library": "var_list.py",
     "varRefreshCmd": "print(var_dic_list())"
    },
    "r": {
     "delete_cmd_postfix": ") ",
     "delete_cmd_prefix": "rm(",
     "library": "var_list.r",
     "varRefreshCmd": "cat(var_dic_list()) "
    }
   },
   "types_to_exclude": [
    "module",
    "function",
    "builtin_function_or_method",
    "instance",
    "_Feature"
   ],
   "window_display": false
  }
 },
 "nbformat": 4,
 "nbformat_minor": 1
}
