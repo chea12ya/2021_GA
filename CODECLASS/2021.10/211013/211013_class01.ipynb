{
 "cells": [
  {
   "cell_type": "code",
   "execution_count": null,
   "id": "b8e7c8c9",
   "metadata": {},
   "outputs": [],
   "source": [
    "예측하려는 레이블이 수치형일 때 사용하는 것: 선형회귀"
   ]
  },
  {
   "cell_type": "code",
   "execution_count": 1,
   "id": "aa55d6e1",
   "metadata": {},
   "outputs": [],
   "source": [
    "from IPython.display import display, Image"
   ]
  },
  {
   "cell_type": "code",
   "execution_count": 2,
   "id": "dea16824",
   "metadata": {},
   "outputs": [],
   "source": [
    "### 한글 폰트 설정\n",
    "import matplotlib\n",
    "from matplotlib import font_manager, rc\n",
    "import matplotlib.pyplot as plt\n",
    "import platform\n",
    "\n",
    "path = \"C:/Windows/Fonts/malgun.ttf\"\n",
    "if platform.system() == \"Windows\":\n",
    "    font_name = font_manager.FontProperties(fname=path).get_name()\n",
    "    rc('font', family=font_name)\n",
    "elif platform.system()==\"Darwin\":\n",
    "    rc('font', family='AppleGothic')\n",
    "else:\n",
    "    print(\"Unknown System\")\n",
    "    \n",
    "matplotlib.rcParams['axes.unicode_minus'] = False\n",
    "\n",
    "%matplotlib inline"
   ]
  },
  {
   "cell_type": "code",
   "execution_count": 3,
   "id": "92899e4b",
   "metadata": {},
   "outputs": [
    {
     "name": "stdout",
     "output_type": "stream",
     "text": [
      "1.20.1\n",
      "3.3.4\n"
     ]
    }
   ],
   "source": [
    "import numpy as np\n",
    "import matplotlib.pyplot as plt\n",
    "import matplotlib\n",
    "print(np.__version__)\n",
    "print(matplotlib.__version__)"
   ]
  },
  {
   "cell_type": "code",
   "execution_count": 4,
   "id": "b19444f2",
   "metadata": {},
   "outputs": [
    {
     "name": "stdout",
     "output_type": "stream",
     "text": [
      "0.24.1\n",
      "0.1.9\n"
     ]
    }
   ],
   "source": [
    "# 설치가 안되어 있을 경우, 설치 필요.\n",
    "import mglearn\n",
    "import sklearn\n",
    "print( sklearn.__version__)\n",
    "print( mglearn.__version__)\n",
    "\n",
    "from sklearn.model_selection import train_test_split\n",
    "from sklearn.linear_model import LinearRegression"
   ]
  },
  {
   "cell_type": "code",
   "execution_count": 5,
   "id": "20fe8e9b",
   "metadata": {},
   "outputs": [
    {
     "name": "stdout",
     "output_type": "stream",
     "text": [
      "w[0]: 0.393906  b: -0.031804\n"
     ]
    },
    {
     "data": {
      "image/png": "[encoded data removed]",
      "text/plain": [
       "<Figure size 576x576 with 1 Axes>"
      ]
     },
     "metadata": {
      "needs_background": "light"
     },
     "output_type": "display_data"
    }
   ],
   "source": [
    "mglearn.plots.plot_linear_regression_wave()"
   ]
  },
  {
   "cell_type": "code",
   "execution_count": 6,
   "id": "ac9bad12",
   "metadata": {},
   "outputs": [],
   "source": [
    "from sklearn.datasets import load_boston\n",
    "from sklearn.linear_model import LinearRegression"
   ]
  },
  {
   "cell_type": "code",
   "execution_count": 7,
   "id": "7a73a846",
   "metadata": {},
   "outputs": [],
   "source": [
    "boston = load_boston()\n",
    "X = boston.data\n",
    "y = boston.target"
   ]
  },
  {
   "cell_type": "code",
   "execution_count": 8,
   "id": "cdf66c79",
   "metadata": {},
   "outputs": [
    {
     "data": {
      "text/plain": [
       "(numpy.ndarray, numpy.ndarray)"
      ]
     },
     "execution_count": 8,
     "metadata": {},
     "output_type": "execute_result"
    }
   ],
   "source": [
    "#예측하려는 레이블\n",
    "type(X), type(y)"
   ]
  },
  {
   "cell_type": "code",
   "execution_count": 9,
   "id": "73306189",
   "metadata": {},
   "outputs": [
    {
     "data": {
      "text/plain": [
       "(array([ 21.,  55.,  82., 154.,  84.,  41.,  30.,   8.,  10.,  21.]),\n",
       " array([ 5. ,  9.5, 14. , 18.5, 23. , 27.5, 32. , 36.5, 41. , 45.5, 50. ]),\n",
       " <BarContainer object of 10 artists>)"
      ]
     },
     "execution_count": 9,
     "metadata": {},
     "output_type": "execute_result"
    },
    {
     "data": {
      "image/png": "[encoded data removed]",
      "text/plain": [
       "<Figure size 432x288 with 1 Axes>"
      ]
     },
     "metadata": {
      "needs_background": "light"
     },
     "output_type": "display_data"
    }
   ],
   "source": [
    "plt.hist(y)"
   ]
  },
  {
   "cell_type": "markdown",
   "id": "954cffa4",
   "metadata": {},
   "source": [
    "종 모양 = 정규 분포를 갖는다"
   ]
  },
  {
   "cell_type": "code",
   "execution_count": 10,
   "id": "200c6063",
   "metadata": {},
   "outputs": [],
   "source": [
    "X_train, X_test, y_train, y_test = train_test_split(X, y, random_state=42)"
   ]
  },
  {
   "cell_type": "code",
   "execution_count": 11,
   "id": "761ad130",
   "metadata": {},
   "outputs": [],
   "source": [
    "## model = 모델명()\n",
    "## model.fit(입력, 답)    #답 = 레이블     ## 가중치, bias 정해짐\n",
    "## pred = model.predict(새로운 데이터 입력)"
   ]
  },
  {
   "cell_type": "markdown",
   "id": "37fc541f",
   "metadata": {},
   "source": [
    "주택 평균 가격 예측"
   ]
  },
  {
   "cell_type": "code",
   "execution_count": 13,
   "id": "3ba58c61",
   "metadata": {},
   "outputs": [
    {
     "data": {
      "text/plain": [
       "array([28.83885359, 36.00783288, 15.08324755, 25.23090886, 18.87864064,\n",
       "       23.21398327, 17.5931124 , 14.30508093, 23.05438985, 20.62008346])"
      ]
     },
     "execution_count": 13,
     "metadata": {},
     "output_type": "execute_result"
    }
   ],
   "source": [
    "model = LinearRegression()\n",
    "model.fit(X_train, y_train)\n",
    "pred = model.predict(X_test)\n",
    "pred[0:10]"
   ]
  },
  {
   "cell_type": "markdown",
   "id": "cbcda8ea",
   "metadata": {},
   "source": [
    "MSE 구하기"
   ]
  },
  {
   "cell_type": "code",
   "execution_count": 14,
   "id": "54d25ec8",
   "metadata": {},
   "outputs": [],
   "source": [
    "import pandas as pd"
   ]
  },
  {
   "cell_type": "code",
   "execution_count": 18,
   "id": "926b0e09",
   "metadata": {
    "scrolled": true
   },
   "outputs": [
    {
     "data": {
      "text/plain": [
       "<bound method NDFrame.head of       실제값        예측값        오차\n",
       "0    23.6  28.838854 -5.238854\n",
       "1    32.4  36.007833 -3.607833\n",
       "2    13.6  15.083248 -1.483248\n",
       "3    22.8  25.230909 -2.430909\n",
       "4    16.1  18.878641 -2.778641\n",
       "..    ...        ...       ...\n",
       "122   8.8   3.284209  5.515791\n",
       "123  19.2  23.798796 -4.598796\n",
       "124  25.3  25.733299 -0.433299\n",
       "125  20.4  23.048156 -2.648156\n",
       "126  23.1  24.730468 -1.630468\n",
       "\n",
       "[127 rows x 3 columns]>"
      ]
     },
     "execution_count": 18,
     "metadata": {},
     "output_type": "execute_result"
    }
   ],
   "source": [
    "dict_dat = {\"실제값\": y_test, \"예측값\":pred, \"오차\":y_test-pred}\n",
    "dat = pd.DataFrame(dict_dat)\n",
    "dat.head"
   ]
  },
  {
   "cell_type": "code",
   "execution_count": 19,
   "id": "93d149ee",
   "metadata": {},
   "outputs": [
    {
     "data": {
      "text/plain": [
       "127"
      ]
     },
     "execution_count": 19,
     "metadata": {},
     "output_type": "execute_result"
    }
   ],
   "source": [
    "dat.shape[0]"
   ]
  },
  {
   "cell_type": "code",
   "execution_count": 20,
   "id": "320f3c37",
   "metadata": {},
   "outputs": [
    {
     "data": {
      "text/plain": [
       "22.098694827098036"
      ]
     },
     "execution_count": 20,
     "metadata": {},
     "output_type": "execute_result"
    }
   ],
   "source": [
    "dat['오차제곱'] = dat['오차']*dat['오차']\n",
    "mse_val = dat['오차제곱'].sum() / dat.shape[0]\n",
    "mse_val"
   ]
  },
  {
   "cell_type": "markdown",
   "id": "5afb2566",
   "metadata": {},
   "source": [
    "MAE 구하기"
   ]
  },
  {
   "cell_type": "code",
   "execution_count": 21,
   "id": "4d1d9a34",
   "metadata": {},
   "outputs": [
    {
     "data": {
      "text/plain": [
       "3.060939595437034"
      ]
     },
     "execution_count": 21,
     "metadata": {},
     "output_type": "execute_result"
    }
   ],
   "source": [
    "#np.abs = 절댓값\n",
    "mae_val = np.abs(dat['오차']).sum()/dat.shape[0]\n",
    "mae_val"
   ]
  },
  {
   "cell_type": "markdown",
   "id": "88d4ae32",
   "metadata": {},
   "source": [
    "RMSE 구하기"
   ]
  },
  {
   "cell_type": "code",
   "execution_count": 22,
   "id": "4ca3d4bb",
   "metadata": {},
   "outputs": [
    {
     "data": {
      "text/plain": [
       "4.700924890603766"
      ]
     },
     "execution_count": 22,
     "metadata": {},
     "output_type": "execute_result"
    }
   ],
   "source": [
    "rmse_val = mse_val ** 0.5\n",
    "rmse_val"
   ]
  },
  {
   "cell_type": "code",
   "execution_count": 24,
   "id": "b2f45aee",
   "metadata": {},
   "outputs": [
    {
     "data": {
      "text/plain": [
       "22.098694827098036"
      ]
     },
     "execution_count": 24,
     "metadata": {},
     "output_type": "execute_result"
    }
   ],
   "source": [
    "from sklearn.metrics import mean_squared_error\n",
    "mean_squared_error(y_test, pred)"
   ]
  },
  {
   "cell_type": "code",
   "execution_count": 27,
   "id": "f20130eb",
   "metadata": {},
   "outputs": [],
   "source": [
    "## MSE ((실제값-예측값)^2)-전체합 / 데이터개수\n",
    "## RMSE : MSE에 루트 씌운 것\n",
    "## MAE : 절대값(실제값 -예측값) 전체 합 / 데이터 개수\n",
    "## RMLSE : RMSE에 실제값과 예측값 로그 처리 \n",
    "## => (LOG(실제값+1)-LOG(예측값+1) 처리해준 것"
   ]
  },
  {
   "cell_type": "code",
   "execution_count": 28,
   "id": "d86aa5d6",
   "metadata": {},
   "outputs": [
    {
     "name": "stdout",
     "output_type": "stream",
     "text": [
      "학습용 데이터 결정 계수 : 0.75\n",
      "테스트 데이터 결정 계수 : 0.68\n"
     ]
    }
   ],
   "source": [
    "print(\"학습용 데이터 결정 계수 : {:.2f}\".format(model.score(X_train, y_train)))\n",
    "print(\"테스트 데이터 결정 계수 : {:.2f}\".format(model.score(X_test, y_test)))"
   ]
  },
  {
   "cell_type": "code",
   "execution_count": 29,
   "id": "15d97219",
   "metadata": {},
   "outputs": [],
   "source": [
    "## 75% - 25%\n",
    "## 70% - 30%\n",
    "\n",
    "X_train, X_test, y_train, y_test = train_test_split(X, y, \n",
    "                                                   test_size = 0.3,\n",
    "                                                   random_state = 42)"
   ]
  },
  {
   "cell_type": "code",
   "execution_count": 30,
   "id": "8c44437e",
   "metadata": {},
   "outputs": [
    {
     "name": "stdout",
     "output_type": "stream",
     "text": [
      "학습용: 0.7434997532004697, 테스트용: 0.711226005748496\n"
     ]
    }
   ],
   "source": [
    "model = LinearRegression()\n",
    "model.fit(X_train, y_train)\n",
    "\n",
    "tr_score = model.score(X_train, y_train)\n",
    "test_score = model.score(X_test, y_test)\n",
    "print(\"학습용: {}, 테스트용: {}\".format(tr_score, test_score))"
   ]
  },
  {
   "cell_type": "markdown",
   "id": "949c26f6",
   "metadata": {},
   "source": [
    "75% 25% 모델보다 7:3모델이, 7:3 모델보다 9:1 모델이 더 근접하다고 판단"
   ]
  },
  {
   "cell_type": "code",
   "execution_count": 36,
   "id": "3aa3304e",
   "metadata": {},
   "outputs": [],
   "source": [
    "#90% - 10%\n",
    "X_train, X_test, y_train, y_test = train_test_split(X, y, \n",
    "                                                   test_size = 0.1,\n",
    "                                                   random_state = 42)"
   ]
  },
  {
   "cell_type": "code",
   "execution_count": 37,
   "id": "684044d0",
   "metadata": {},
   "outputs": [
    {
     "name": "stdout",
     "output_type": "stream",
     "text": [
      "학습용: 0.7375152736886281, 테스트용: 0.7598135533532498\n"
     ]
    }
   ],
   "source": [
    "model = LinearRegression()\n",
    "model.fit(X_train, y_train)\n",
    "\n",
    "tr_score = model.score(X_train, y_train)\n",
    "test_score = model.score(X_test, y_test)\n",
    "print(\"학습용: {}, 테스트용: {}\".format(tr_score, test_score))"
   ]
  },
  {
   "cell_type": "markdown",
   "id": "b90222fd",
   "metadata": {},
   "source": [
    "best : 학습용 결정계수 값 > 테스트용 결정계수 값"
   ]
  },
  {
   "cell_type": "code",
   "execution_count": 42,
   "id": "14e8753f",
   "metadata": {},
   "outputs": [
    {
     "name": "stdout",
     "output_type": "stream",
     "text": [
      "학습용: 9, 테스트용: 1\n",
      "학습용:0.7375152736886281, 테스트용:0.7598135533532498\n",
      "mse value : 14.995852876582495\n",
      "rmse value : 3.872447917865713\n",
      "학습용: 8, 테스트용: 2\n",
      "학습용:0.7508856358979673, 테스트용:0.6687594935356329\n",
      "mse value : 24.291119474973456\n",
      "rmse value : 4.928602182665331\n",
      "학습용: 7, 테스트용: 3\n",
      "학습용:0.7434997532004697, 테스트용:0.711226005748496\n",
      "mse value : 21.517444231176995\n",
      "rmse value : 4.638689926172797\n",
      "학습용: 6, 테스트용: 4\n",
      "학습용:0.747199884740759, 테스트용:0.7125140936111221\n",
      "mse value : 21.832709989577456\n",
      "rmse value : 4.6725485540096265\n",
      "학습용: 5, 테스트용: 5\n",
      "학습용:0.7719887864238002, 테스트용:0.6896917482875753\n",
      "mse value : 25.175390536116975\n",
      "rmse value : 5.017508399207417\n"
     ]
    }
   ],
   "source": [
    "## 9-1, 8-2, 7-3, 6-4, 5-5\n",
    "for i in range(1, 6, 1):\n",
    "    X_train, X_test, y_train, y_test = train_test_split(X, y, \n",
    "                                                       test_size=(i/10),\n",
    "                                                       random_state=42)\n",
    "    model = LinearRegression().fit(X_train, y_train)\n",
    "    tr_score = model.score(X_train, y_train)\n",
    "    test_score = model.score(X_test, y_test)\n",
    "    print(f\"학습용: {10-i}, 테스트용: {i}\")\n",
    "    print(\"학습용:{}, 테스트용:{}\".format(tr_score, test_score))\n",
    "    \n",
    "    pred = model.predict(X_test)\n",
    "    mse_val = np.sum ((y_test - pred) **2) / len(pred)\n",
    "    print(\"mse value : {}\".format(mse_val))\n",
    "    rmse_val = mse_val ** 0.5\n",
    "    print(\"rmse value : {}\".format(rmse_val))   "
   ]
  },
  {
   "cell_type": "markdown",
   "id": "34ed2f52",
   "metadata": {},
   "source": [
    "# class02"
   ]
  },
  {
   "cell_type": "code",
   "execution_count": 43,
   "id": "c5a143de",
   "metadata": {},
   "outputs": [],
   "source": [
    "import mglearn"
   ]
  },
  {
   "cell_type": "code",
   "execution_count": 45,
   "id": "47bfd54b",
   "metadata": {},
   "outputs": [],
   "source": [
    "from sklearn.datasets import load_boston\n",
    "from sklearn.model_selection import train_test_split\n",
    "from sklearn.preprocessing import MinMaxScaler, PolynomialFeatures\n",
    "from sklearn.linear_model import Lasso, Ridge\n",
    "import pandas as pd"
   ]
  },
  {
   "cell_type": "code",
   "execution_count": 46,
   "id": "c39f9c54",
   "metadata": {},
   "outputs": [],
   "source": [
    "### 한글 폰트 설정\n",
    "import matplotlib\n",
    "from matplotlib import font_manager, rc\n",
    "import matplotlib.pyplot as plt\n",
    "import platform\n",
    "\n",
    "path = \"C:/Windows/Fonts/malgun.ttf\"\n",
    "if platform.system() == \"Windows\":\n",
    "    font_name = font_manager.FontProperties(fname=path).get_name()\n",
    "    rc('font', family=font_name)\n",
    "elif platform.system()==\"Darwin\":\n",
    "    rc('font', family='AppleGothic')\n",
    "else:\n",
    "    print(\"Unknown System\")\n",
    "    \n",
    "matplotlib.rcParams['axes.unicode_minus'] = False\n",
    "\n",
    "%matplotlib inline"
   ]
  },
  {
   "cell_type": "code",
   "execution_count": 48,
   "id": "090efbc1",
   "metadata": {},
   "outputs": [
    {
     "name": "stdout",
     "output_type": "stream",
     "text": [
      "<class 'numpy.ndarray'> <class 'numpy.ndarray'>\n"
     ]
    },
    {
     "data": {
      "text/html": [
       "<div>\n",
       "<style scoped>\n",
       "    .dataframe tbody tr th:only-of-type {\n",
       "        vertical-align: middle;\n",
       "    }\n",
       "\n",
       "    .dataframe tbody tr th {\n",
       "        vertical-align: top;\n",
       "    }\n",
       "\n",
       "    .dataframe thead th {\n",
       "        text-align: right;\n",
       "    }\n",
       "</style>\n",
       "<table border=\"1\" class=\"dataframe\">\n",
       "  <thead>\n",
       "    <tr style=\"text-align: right;\">\n",
       "      <th></th>\n",
       "      <th>CRIM</th>\n",
       "      <th>ZN</th>\n",
       "      <th>INDUS</th>\n",
       "      <th>CHAS</th>\n",
       "      <th>NOX</th>\n",
       "      <th>RM</th>\n",
       "      <th>AGE</th>\n",
       "      <th>DIS</th>\n",
       "      <th>RAD</th>\n",
       "      <th>TAX</th>\n",
       "      <th>PTRATIO</th>\n",
       "      <th>B</th>\n",
       "      <th>LSTAT</th>\n",
       "      <th>price</th>\n",
       "    </tr>\n",
       "  </thead>\n",
       "  <tbody>\n",
       "    <tr>\n",
       "      <th>0</th>\n",
       "      <td>0.00632</td>\n",
       "      <td>18.0</td>\n",
       "      <td>2.31</td>\n",
       "      <td>0.0</td>\n",
       "      <td>0.538</td>\n",
       "      <td>6.575</td>\n",
       "      <td>65.2</td>\n",
       "      <td>4.0900</td>\n",
       "      <td>1.0</td>\n",
       "      <td>296.0</td>\n",
       "      <td>15.3</td>\n",
       "      <td>396.90</td>\n",
       "      <td>4.98</td>\n",
       "      <td>24.0</td>\n",
       "    </tr>\n",
       "    <tr>\n",
       "      <th>1</th>\n",
       "      <td>0.02731</td>\n",
       "      <td>0.0</td>\n",
       "      <td>7.07</td>\n",
       "      <td>0.0</td>\n",
       "      <td>0.469</td>\n",
       "      <td>6.421</td>\n",
       "      <td>78.9</td>\n",
       "      <td>4.9671</td>\n",
       "      <td>2.0</td>\n",
       "      <td>242.0</td>\n",
       "      <td>17.8</td>\n",
       "      <td>396.90</td>\n",
       "      <td>9.14</td>\n",
       "      <td>21.6</td>\n",
       "    </tr>\n",
       "    <tr>\n",
       "      <th>2</th>\n",
       "      <td>0.02729</td>\n",
       "      <td>0.0</td>\n",
       "      <td>7.07</td>\n",
       "      <td>0.0</td>\n",
       "      <td>0.469</td>\n",
       "      <td>7.185</td>\n",
       "      <td>61.1</td>\n",
       "      <td>4.9671</td>\n",
       "      <td>2.0</td>\n",
       "      <td>242.0</td>\n",
       "      <td>17.8</td>\n",
       "      <td>392.83</td>\n",
       "      <td>4.03</td>\n",
       "      <td>34.7</td>\n",
       "    </tr>\n",
       "    <tr>\n",
       "      <th>3</th>\n",
       "      <td>0.03237</td>\n",
       "      <td>0.0</td>\n",
       "      <td>2.18</td>\n",
       "      <td>0.0</td>\n",
       "      <td>0.458</td>\n",
       "      <td>6.998</td>\n",
       "      <td>45.8</td>\n",
       "      <td>6.0622</td>\n",
       "      <td>3.0</td>\n",
       "      <td>222.0</td>\n",
       "      <td>18.7</td>\n",
       "      <td>394.63</td>\n",
       "      <td>2.94</td>\n",
       "      <td>33.4</td>\n",
       "    </tr>\n",
       "    <tr>\n",
       "      <th>4</th>\n",
       "      <td>0.06905</td>\n",
       "      <td>0.0</td>\n",
       "      <td>2.18</td>\n",
       "      <td>0.0</td>\n",
       "      <td>0.458</td>\n",
       "      <td>7.147</td>\n",
       "      <td>54.2</td>\n",
       "      <td>6.0622</td>\n",
       "      <td>3.0</td>\n",
       "      <td>222.0</td>\n",
       "      <td>18.7</td>\n",
       "      <td>396.90</td>\n",
       "      <td>5.33</td>\n",
       "      <td>36.2</td>\n",
       "    </tr>\n",
       "  </tbody>\n",
       "</table>\n",
       "</div>"
      ],
      "text/plain": [
       "      CRIM    ZN  INDUS  CHAS    NOX     RM   AGE     DIS  RAD    TAX  \\\n",
       "0  0.00632  18.0   2.31   0.0  0.538  6.575  65.2  4.0900  1.0  296.0   \n",
       "1  0.02731   0.0   7.07   0.0  0.469  6.421  78.9  4.9671  2.0  242.0   \n",
       "2  0.02729   0.0   7.07   0.0  0.469  7.185  61.1  4.9671  2.0  242.0   \n",
       "3  0.03237   0.0   2.18   0.0  0.458  6.998  45.8  6.0622  3.0  222.0   \n",
       "4  0.06905   0.0   2.18   0.0  0.458  7.147  54.2  6.0622  3.0  222.0   \n",
       "\n",
       "   PTRATIO       B  LSTAT  price  \n",
       "0     15.3  396.90   4.98   24.0  \n",
       "1     17.8  396.90   9.14   21.6  \n",
       "2     17.8  392.83   4.03   34.7  \n",
       "3     18.7  394.63   2.94   33.4  \n",
       "4     18.7  396.90   5.33   36.2  "
      ]
     },
     "execution_count": 48,
     "metadata": {},
     "output_type": "execute_result"
    }
   ],
   "source": [
    "boston = load_boston()\n",
    "print(type(boston.data), type(boston.target))\n",
    "\n",
    "df_boston = pd.DataFrame(boston.data, columns=boston.feature_names)\n",
    "df_boston['price'] = pd.Series(boston.target)\n",
    "df_boston.head()"
   ]
  },
  {
   "cell_type": "code",
   "execution_count": 49,
   "id": "53071af5",
   "metadata": {},
   "outputs": [
    {
     "name": "stdout",
     "output_type": "stream",
     "text": [
      "<class 'pandas.core.frame.DataFrame'>\n",
      "RangeIndex: 506 entries, 0 to 505\n",
      "Data columns (total 14 columns):\n",
      " #   Column   Non-Null Count  Dtype  \n",
      "---  ------   --------------  -----  \n",
      " 0   CRIM     506 non-null    float64\n",
      " 1   ZN       506 non-null    float64\n",
      " 2   INDUS    506 non-null    float64\n",
      " 3   CHAS     506 non-null    float64\n",
      " 4   NOX      506 non-null    float64\n",
      " 5   RM       506 non-null    float64\n",
      " 6   AGE      506 non-null    float64\n",
      " 7   DIS      506 non-null    float64\n",
      " 8   RAD      506 non-null    float64\n",
      " 9   TAX      506 non-null    float64\n",
      " 10  PTRATIO  506 non-null    float64\n",
      " 11  B        506 non-null    float64\n",
      " 12  LSTAT    506 non-null    float64\n",
      " 13  price    506 non-null    float64\n",
      "dtypes: float64(14)\n",
      "memory usage: 55.5 KB\n"
     ]
    }
   ],
   "source": [
    "df_boston.info()"
   ]
  },
  {
   "cell_type": "code",
   "execution_count": 50,
   "id": "beb0a331",
   "metadata": {},
   "outputs": [
    {
     "data": {
      "text/plain": [
       "Index(['CRIM', 'ZN', 'INDUS', 'CHAS', 'NOX', 'RM', 'AGE', 'DIS', 'RAD', 'TAX',\n",
       "       'PTRATIO', 'B', 'LSTAT', 'price'],\n",
       "      dtype='object')"
      ]
     },
     "execution_count": 50,
     "metadata": {},
     "output_type": "execute_result"
    }
   ],
   "source": [
    "df_boston.columns"
   ]
  },
  {
   "cell_type": "code",
   "execution_count": 53,
   "id": "da13cec7",
   "metadata": {},
   "outputs": [
    {
     "name": "stdout",
     "output_type": "stream",
     "text": [
      "(506, 13) (506,)\n",
      "0.00632 88.9762\n",
      "0.385 0.871\n",
      "0.46 27.74\n"
     ]
    }
   ],
   "source": [
    "# 입력과 출력 - X, y\n",
    "X = df_boston.loc[ : , 'CRIM' : 'LSTAT']\n",
    "y = df_boston['price']\n",
    "\n",
    "print(X.shape, y.shape)\n",
    "print(df_boston['CRIM'].min(), df_boston['CRIM'].max())\n",
    "print(df_boston['NOX'].min(), df_boston['NOX'].max())\n",
    "print(df_boston['INDUS'].min(), df_boston['INDUS'].max())"
   ]
  },
  {
   "cell_type": "code",
   "execution_count": 61,
   "id": "a19dc14f",
   "metadata": {},
   "outputs": [
    {
     "name": "stdout",
     "output_type": "stream",
     "text": [
      "<class 'numpy.ndarray'>\n",
      "0.0 0.9999999999999999\n",
      "0.0 0.9999999999999999\n"
     ]
    }
   ],
   "source": [
    "## 데이터 정규화. 데이터의 값의 범위 0~.. -> 0-1\n",
    "nor_X = MinMaxScaler().fit_transform(X)\n",
    "\n",
    "print(type(nor_X))\n",
    "print(np.min(nor_X[0]), np.max(nor_X[0]))\n",
    "print(np.min(nor_X[1]), np.max(nor_X[1]))"
   ]
  },
  {
   "cell_type": "code",
   "execution_count": 62,
   "id": "294fad2b",
   "metadata": {},
   "outputs": [
    {
     "name": "stdout",
     "output_type": "stream",
     "text": [
      "(506, 13) (506,)\n",
      "(506, 104) (506,)\n"
     ]
    }
   ],
   "source": [
    "print(X.shape, y.shape)\n",
    "\n",
    "ex_X = PolynomialFeatures(degree=2, include_bias=False). fit_transform(nor_X)\n",
    "                          \n",
    "print(ex_X.shape, y.shape)"
   ]
  },
  {
   "cell_type": "code",
   "execution_count": 63,
   "id": "1dce1771",
   "metadata": {},
   "outputs": [],
   "source": [
    "# a b c => a b c a**2 b**2 c**2 a*b a*c c*a ..."
   ]
  },
  {
   "cell_type": "code",
   "execution_count": 64,
   "id": "2424bba5",
   "metadata": {},
   "outputs": [
    {
     "name": "stdout",
     "output_type": "stream",
     "text": [
      "0.9448313975211593 0.7758378393351696\n"
     ]
    }
   ],
   "source": [
    "X_train, X_test, y_train, y_test = train_test_split(ex_X, y, random_state=42)\n",
    "\n",
    "ex_model = LinearRegression().fit(X_train, y_train)\n",
    "\n",
    "print(ex_model.score(X_train, y_train), ex_model.score(X_test, y_test))"
   ]
  },
  {
   "cell_type": "code",
   "execution_count": 65,
   "id": "7a81ed53",
   "metadata": {},
   "outputs": [],
   "source": [
    "## feature를 많이 만든 후 계산"
   ]
  },
  {
   "cell_type": "code",
   "execution_count": 66,
   "id": "459f0e20",
   "metadata": {},
   "outputs": [
    {
     "name": "stdout",
     "output_type": "stream",
     "text": [
      "0.9448313975211593 0.7758378393351696\n"
     ]
    }
   ],
   "source": [
    "X_train, X_test, y_train, y_test = train_test_split(ex_X, y, random_state=42)\n",
    "\n",
    "ex_model = LinearRegression().fit(X_train, y_train)\n",
    "\n",
    "print(ex_model.score(X_train, y_train), ex_model.score(X_test, y_test))"
   ]
  },
  {
   "cell_type": "markdown",
   "id": "d6d0f638",
   "metadata": {},
   "source": [
    "=> 과대적합 (train 결과 > test 결과) (모의고사 잘 봄, but 실전에서 못 봄)"
   ]
  },
  {
   "cell_type": "code",
   "execution_count": 67,
   "id": "087de5a1",
   "metadata": {},
   "outputs": [],
   "source": [
    "#모델을 Lasso 회귀로 불러오기"
   ]
  },
  {
   "cell_type": "code",
   "execution_count": 68,
   "id": "d3e7fff9",
   "metadata": {},
   "outputs": [],
   "source": [
    "from sklearn.linear_model import Lasso"
   ]
  },
  {
   "cell_type": "code",
   "execution_count": 69,
   "id": "6ad5d253",
   "metadata": {},
   "outputs": [
    {
     "name": "stdout",
     "output_type": "stream",
     "text": [
      "0.8865033777946089 0.80359225764207\n"
     ]
    },
    {
     "name": "stderr",
     "output_type": "stream",
     "text": [
      "C:\\anaconda3\\lib\\site-packages\\sklearn\\linear_model\\_coordinate_descent.py:530: ConvergenceWarning: Objective did not converge. You might want to increase the number of iterations. Duality gap: 6.848133364149362, tolerance: 3.361037625329815\n",
      "  model = cd_fast.enet_coordinate_descent(\n"
     ]
    }
   ],
   "source": [
    "lasso_m = Lasso(alpha=0.01).fit(X_train, y_train)\n",
    "print(lasso_m.score(X_train, y_train), lasso_m.score(X_test, y_test))"
   ]
  },
  {
   "cell_type": "markdown",
   "id": "365ab490",
   "metadata": {},
   "source": [
    "=> test 데이터 값 향상됨"
   ]
  },
  {
   "cell_type": "code",
   "execution_count": 70,
   "id": "64502a79",
   "metadata": {},
   "outputs": [],
   "source": [
    "#Ridge 회귀로 불러오기"
   ]
  },
  {
   "cell_type": "code",
   "execution_count": 72,
   "id": "04a8a36b",
   "metadata": {},
   "outputs": [],
   "source": [
    "from sklearn.linear_model import Ridge"
   ]
  },
  {
   "cell_type": "code",
   "execution_count": 78,
   "id": "2889f160",
   "metadata": {},
   "outputs": [
    {
     "name": "stdout",
     "output_type": "stream",
     "text": [
      "0.9357645261988864 0.8144760713008222\n"
     ]
    }
   ],
   "source": [
    "ridge_m = Ridge(alpha=0.01). fit(X_train, y_train)\n",
    "print(ridge_m.score(X_train, y_train), ridge_m.score(X_test, y_test))"
   ]
  },
  {
   "cell_type": "markdown",
   "id": "fce592c3",
   "metadata": {},
   "source": [
    "## 라소회귀(L1) - w값을 0으로 만드는 것이 생김"
   ]
  },
  {
   "cell_type": "code",
   "execution_count": 79,
   "id": "a24da004",
   "metadata": {},
   "outputs": [
    {
     "name": "stdout",
     "output_type": "stream",
     "text": [
      "학습용 데이터 세트 점수 : 0.27\n",
      "테스트 데이터 세트 점수 : 0.26\n"
     ]
    }
   ],
   "source": [
    "lasso = Lasso(alpha=1).fit(X_train, y_train)\n",
    "print(\"학습용 데이터 세트 점수 : {:.2f}\".format(lasso.score(X_train, y_train)))\n",
    "print(\"테스트 데이터 세트 점수 : {:.2f}\".format(lasso.score(X_test, y_test)))"
   ]
  },
  {
   "cell_type": "code",
   "execution_count": 80,
   "id": "fa1a82f2",
   "metadata": {},
   "outputs": [
    {
     "name": "stdout",
     "output_type": "stream",
     "text": [
      "학습용 데이터 점수 : 0.94\n",
      "테스트 데이터 점수 : 0.78\n",
      "사용한 특성의 수 :  102\n"
     ]
    },
    {
     "name": "stderr",
     "output_type": "stream",
     "text": [
      "C:\\anaconda3\\lib\\site-packages\\sklearn\\linear_model\\_coordinate_descent.py:530: ConvergenceWarning: Objective did not converge. You might want to increase the number of iterations. Duality gap: 1061.5581359471444, tolerance: 3.361037625329815\n",
      "  model = cd_fast.enet_coordinate_descent(\n"
     ]
    }
   ],
   "source": [
    "lasso00001 = Lasso(alpha=0.0001).fit(X_train, y_train)\n",
    "print(\"학습용 데이터 점수 : {:.2f}\".format(lasso00001.score(X_train, y_train)))\n",
    "print(\"테스트 데이터 점수 : {:.2f}\".format(lasso00001.score(X_test, y_test)))\n",
    "print(\"사용한 특성의 수 : \", np.sum(lasso00001.coef_ != 0))"
   ]
  },
  {
   "cell_type": "code",
   "execution_count": 82,
   "id": "e5a1edc1",
   "metadata": {},
   "outputs": [
    {
     "name": "stdout",
     "output_type": "stream",
     "text": [
      "학습용 데이터 세트 점수 :  0.8864717420585476\n",
      "테스트 데이터 세트 점수 :  0.8036004116583615\n",
      "사용한 특성의 수 :  34\n"
     ]
    }
   ],
   "source": [
    "lasso001 = Lasso(alpha=0.01, max_iter=100000).fit(X_train, y_train)\n",
    "print(\"학습용 데이터 세트 점수 : \",lasso001.score(X_train, y_train))\n",
    "print(\"테스트 데이터 세트 점수 : \",lasso001.score(X_test, y_test))\n",
    "print(\"사용한 특성의 수 : \", np.sum(lasso001.coef_ != 0))"
   ]
  },
  {
   "cell_type": "code",
   "execution_count": 86,
   "id": "a92837b6",
   "metadata": {},
   "outputs": [
    {
     "name": "stdout",
     "output_type": "stream",
     "text": [
      "학습용 데이터 세트 점수 :  0.7471467575228325\n",
      "테스트 데이터 세트 점수 :  0.6986891802234085\n",
      "사용한 특성의 수 :  12\n"
     ]
    }
   ],
   "source": [
    "lasso01 = Lasso(alpha=0.1, max_iter=100000).fit(X_train, y_train)\n",
    "print(\"학습용 데이터 세트 점수 : \",lasso01.score(X_train, y_train))\n",
    "print(\"테스트 데이터 세트 점수 : \",lasso01.score(X_test, y_test))\n",
    "print(\"사용한 특성의 수 : \", np.sum(lasso01.coef_ != 0))"
   ]
  },
  {
   "cell_type": "code",
   "execution_count": 85,
   "id": "c690a3d8",
   "metadata": {},
   "outputs": [
    {
     "name": "stdout",
     "output_type": "stream",
     "text": [
      "학습용 데이터 세트 점수 :  0.0\n",
      "테스트 데이터 세트 점수 :  -0.03189647654769301\n",
      "사용한 특성의 수 :  0\n"
     ]
    }
   ],
   "source": [
    "lasso10 = Lasso(alpha=10, max_iter=100000).fit(X_train, y_train)\n",
    "print(\"학습용 데이터 세트 점수 : \",lasso10.score(X_train, y_train))\n",
    "print(\"테스트 데이터 세트 점수 : \",lasso10.score(X_test, y_test))\n",
    "print(\"사용한 특성의 수 : \", np.sum(lasso10.coef_ != 0))"
   ]
  },
  {
   "cell_type": "code",
   "execution_count": 89,
   "id": "c943c6d3",
   "metadata": {},
   "outputs": [
    {
     "data": {
      "image/png": "[encoded data removed]",
      "text/plain": [
       "<Figure size 720x432 with 1 Axes>"
      ]
     },
     "metadata": {
      "needs_background": "light"
     },
     "output_type": "display_data"
    }
   ],
   "source": [
    "lasso = Lasso(alpha=1).fit(X_train, y_train)\n",
    "\n",
    "plt.figure(figsize=(10,6))\n",
    "# plt.plot(lasso00001.coef_, \"r^\", label=\"Lasso alpha=0.0001\")\n",
    "plt.plot(lasso001.coef_, 'go', label=\"Lasso alpha=0.01\")\n",
    "plt.plot(lasso01.coef_, 'yv', label=\"Lasso alpha=0.1\")\n",
    "plt.plot(lasso.coef_, 'yv', label=\"Lasso alpha=1\")\n",
    "plt.plot(lasso10.coef_, \"bs\", label=\"Lasso alpha=10\")\n",
    "\n",
    "plt.xlabel(\"계수 목록\")\n",
    "plt.ylabel(\"계수 크기\")\n",
    "# plt.ylim(-25, 25)\n",
    "plt.legend(ncol=2, loc=(0,1.05))\n",
    "plt.show()"
   ]
  },
  {
   "cell_type": "code",
   "execution_count": null,
   "id": "c00fbcd9",
   "metadata": {},
   "outputs": [],
   "source": []
  },
  {
   "cell_type": "markdown",
   "id": "0dcc1827",
   "metadata": {},
   "source": [
    "# 릿지회귀(L2) - w값을 0으로 만드는 것 x"
   ]
  },
  {
   "cell_type": "code",
   "execution_count": 97,
   "id": "be16527e",
   "metadata": {},
   "outputs": [
    {
     "name": "stdout",
     "output_type": "stream",
     "text": [
      "학습용 데이터 점수 : 0.94\n",
      "테스트 데이터 점수 : 0.79\n",
      "사용한 특성의 수 :  104\n"
     ]
    }
   ],
   "source": [
    "ridge00001 = Ridge(alpha=0.0001).fit(X_train, y_train)\n",
    "print(\"학습용 데이터 점수 : {:.2f}\".format(ridge00001.score(X_train, y_train)))\n",
    "print(\"테스트 데이터 점수 : {:.2f}\".format(ridge00001.score(X_test, y_test)))\n",
    "print(\"사용한 특성의 수 : \", np.sum(ridge00001.coef_ != 0))"
   ]
  },
  {
   "cell_type": "code",
   "execution_count": 94,
   "id": "2f2e8d97",
   "metadata": {},
   "outputs": [
    {
     "name": "stdout",
     "output_type": "stream",
     "text": [
      "학습용 데이터 점수 : 0.94\n",
      "테스트 데이터 점수 : 0.81\n",
      "사용한 특성의 수 :  104\n"
     ]
    }
   ],
   "source": [
    "ridge0001 = Ridge(alpha=0.001).fit(X_train, y_train)\n",
    "print(\"학습용 데이터 점수 : {:.2f}\".format(ridge0001.score(X_train, y_train)))\n",
    "print(\"테스트 데이터 점수 : {:.2f}\".format(ridge0001.score(X_test, y_test)))\n",
    "print(\"사용한 특성의 수 : \", np.sum(ridge0001.coef_ != 0))"
   ]
  },
  {
   "cell_type": "code",
   "execution_count": 92,
   "id": "f09fd043",
   "metadata": {},
   "outputs": [
    {
     "name": "stdout",
     "output_type": "stream",
     "text": [
      "학습용 데이터 점수 : 0.94\n",
      "테스트 데이터 점수 : 0.81\n",
      "사용한 특성의 수 :  104\n"
     ]
    }
   ],
   "source": [
    "ridge001 = Ridge(alpha=0.01).fit(X_train, y_train)\n",
    "print(\"학습용 데이터 점수 : {:.2f}\".format(ridge001.score(X_train, y_train)))\n",
    "print(\"테스트 데이터 점수 : {:.2f}\".format(ridge001.score(X_test, y_test)))\n",
    "print(\"사용한 특성의 수 : \", np.sum(ridge001.coef_ != 0))"
   ]
  },
  {
   "cell_type": "code",
   "execution_count": 93,
   "id": "6bfa79bb",
   "metadata": {},
   "outputs": [
    {
     "name": "stdout",
     "output_type": "stream",
     "text": [
      "학습용 데이터 점수 : 0.92\n",
      "테스트 데이터 점수 : 0.82\n",
      "사용한 특성의 수 :  104\n"
     ]
    }
   ],
   "source": [
    "ridge01 = Ridge(alpha=0.1).fit(X_train, y_train)\n",
    "print(\"학습용 데이터 점수 : {:.2f}\".format(ridge01.score(X_train, y_train)))\n",
    "print(\"테스트 데이터 점수 : {:.2f}\".format(ridge01.score(X_test, y_test)))\n",
    "print(\"사용한 특성의 수 : \", np.sum(ridge01.coef_ != 0))"
   ]
  },
  {
   "cell_type": "code",
   "execution_count": 95,
   "id": "e44b3d8b",
   "metadata": {},
   "outputs": [
    {
     "name": "stdout",
     "output_type": "stream",
     "text": [
      "학습용 데이터 점수 : 0.87\n",
      "테스트 데이터 점수 : 0.81\n",
      "사용한 특성의 수 :  104\n"
     ]
    }
   ],
   "source": [
    "ridge1 = Ridge(alpha=1).fit(X_train, y_train)\n",
    "print(\"학습용 데이터 점수 : {:.2f}\".format(ridge1.score(X_train, y_train)))\n",
    "print(\"테스트 데이터 점수 : {:.2f}\".format(ridge1.score(X_test, y_test)))\n",
    "print(\"사용한 특성의 수 : \", np.sum(ridge1.coef_ != 0))"
   ]
  },
  {
   "cell_type": "code",
   "execution_count": 96,
   "id": "a6e23bc4",
   "metadata": {},
   "outputs": [
    {
     "name": "stdout",
     "output_type": "stream",
     "text": [
      "학습용 데이터 점수 : 0.77\n",
      "테스트 데이터 점수 : 0.73\n",
      "사용한 특성의 수 :  104\n"
     ]
    }
   ],
   "source": [
    "ridge10 = Ridge(alpha=10).fit(X_train, y_train)\n",
    "print(\"학습용 데이터 점수 : {:.2f}\".format(ridge10.score(X_train, y_train)))\n",
    "print(\"테스트 데이터 점수 : {:.2f}\".format(ridge10.score(X_test, y_test)))\n",
    "print(\"사용한 특성의 수 : \", np.sum(ridge10.coef_ != 0))"
   ]
  },
  {
   "cell_type": "code",
   "execution_count": 100,
   "id": "00a690e2",
   "metadata": {},
   "outputs": [
    {
     "data": {
      "image/png": "[encoded data removed]",
      "text/plain": [
       "<Figure size 720x432 with 1 Axes>"
      ]
     },
     "metadata": {
      "needs_background": "light"
     },
     "output_type": "display_data"
    }
   ],
   "source": [
    "plt.figure(figsize=(10,6))\n",
    "plt.plot(ridge00001.coef_, \"r^\", label=\"Lasso alpha=0.0001\")\n",
    "plt.plot(ridge0001.coef_, \"g^\", label=\"Lasso alpha=0.001\")\n",
    "plt.plot(ridge001.coef_, \"b^\", label=\"Lasso alpha=0.01\")\n",
    "#plt.plot(ridge01.coef_, 'go', label=\"Lasso alpha=0.1\")\n",
    "#plt.plot(ridge1.coef_, 'yv', label=\"Lasso alpha=1\")\n",
    "#plt.plot(ridge10.coef_, \"rs\", label=\"Lasso alpha=10\")\n",
    "\n",
    "plt.xlabel(\"계수 목록\")\n",
    "plt.ylabel(\"계수 크기\")\n",
    "# plt.ylim(-25, 25)\n",
    "plt.legend(ncol=2, loc=(0,1.05))\n",
    "plt.show()"
   ]
  },
  {
   "cell_type": "code",
   "execution_count": 99,
   "id": "c131614a",
   "metadata": {},
   "outputs": [
    {
     "data": {
      "image/png": "[encoded data removed]",
      "text/plain": [
       "<Figure size 720x432 with 1 Axes>"
      ]
     },
     "metadata": {
      "needs_background": "light"
     },
     "output_type": "display_data"
    }
   ],
   "source": [
    "plt.figure(figsize=(10,6))\n",
    "plt.plot(ridge00001.coef_, \"r^\", label=\"Lasso alpha=0.0001\")\n",
    "plt.plot(ridge0001.coef_, \"g^\", label=\"Lasso alpha=0.001\")\n",
    "plt.plot(ridge001.coef_, \"b^\", label=\"Lasso alpha=0.01\")\n",
    "plt.plot(ridge01.coef_, 'yo', label=\"Lasso alpha=0.1\")\n",
    "plt.plot(ridge1.coef_, 'rv', label=\"Lasso alpha=1\")\n",
    "plt.plot(ridge10.coef_, \"gs\", label=\"Lasso alpha=10\")\n",
    "\n",
    "plt.xlabel(\"계수 목록\")\n",
    "plt.ylabel(\"계수 크기\")\n",
    "# plt.ylim(-25, 25)\n",
    "plt.legend(ncol=2, loc=(0,1.05))\n",
    "plt.show()"
   ]
  },
  {
   "cell_type": "code",
   "execution_count": null,
   "id": "83af0c92",
   "metadata": {},
   "outputs": [],
   "source": []
  }
 ],
 "metadata": {
  "kernelspec": {
   "display_name": "Python 3",
   "language": "python",
   "name": "python3"
  },
  "language_info": {
   "codemirror_mode": {
    "name": "ipython",
    "version": 3
   },
   "file_extension": ".py",
   "mimetype": "text/x-python",
   "name": "python",
   "nbconvert_exporter": "python",
   "pygments_lexer": "ipython3",
   "version": "3.8.8"
  }
 },
 "nbformat": 4,
 "nbformat_minor": 5
}
